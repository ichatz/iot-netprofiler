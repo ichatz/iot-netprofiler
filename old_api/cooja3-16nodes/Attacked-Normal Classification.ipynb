{
 "cells": [
  {
   "cell_type": "code",
   "execution_count": 27,
   "metadata": {},
   "outputs": [],
   "source": [
    "import pandas as pd\n",
    "import numpy as np\n",
    "from scipy import stats as sp\n",
    "import sys, os\n",
    "sys.path.append('../')\n",
    "from lib import trace_analysis\n",
    "from lib import plots_analysis\n",
    "from lib import trace_statistics\n",
    "from lib import trace_classification\n",
    "import csv\n",
    "import warnings \n",
    "\n",
    "warnings.filterwarnings('ignore')"
   ]
  },
  {
   "cell_type": "markdown",
   "metadata": {},
   "source": [
    "# Data Preparation\n",
    "\n",
    "\n",
    "Prepare the data to be used with kNN"
   ]
  },
  {
   "cell_type": "code",
   "execution_count": 28,
   "metadata": {},
   "outputs": [
    {
     "data": {
      "text/html": [
       "<div>\n",
       "<style scoped>\n",
       "    .dataframe tbody tr th:only-of-type {\n",
       "        vertical-align: middle;\n",
       "    }\n",
       "\n",
       "    .dataframe tbody tr th {\n",
       "        vertical-align: top;\n",
       "    }\n",
       "\n",
       "    .dataframe thead th {\n",
       "        text-align: right;\n",
       "    }\n",
       "</style>\n",
       "<table border=\"1\" class=\"dataframe\">\n",
       "  <thead>\n",
       "    <tr style=\"text-align: right;\">\n",
       "      <th></th>\n",
       "      <th>node_id</th>\n",
       "      <th>experiment</th>\n",
       "      <th>count</th>\n",
       "      <th>mean</th>\n",
       "      <th>var</th>\n",
       "      <th>std</th>\n",
       "      <th>hop</th>\n",
       "      <th>min</th>\n",
       "      <th>max</th>\n",
       "      <th>loss</th>\n",
       "      <th>outliers</th>\n",
       "      <th>label</th>\n",
       "    </tr>\n",
       "  </thead>\n",
       "  <tbody>\n",
       "    <tr>\n",
       "      <th>0</th>\n",
       "      <td>aaaa::212:7405:5:505:</td>\n",
       "      <td>grid_normal_2019-02-26_11:10_</td>\n",
       "      <td>157</td>\n",
       "      <td>441.280255</td>\n",
       "      <td>81688.420954</td>\n",
       "      <td>285.811863</td>\n",
       "      <td>2</td>\n",
       "      <td>163.0</td>\n",
       "      <td>2198.0</td>\n",
       "      <td>0.215</td>\n",
       "      <td>7</td>\n",
       "      <td>Normal</td>\n",
       "    </tr>\n",
       "    <tr>\n",
       "      <th>1</th>\n",
       "      <td>aaaa::212:740f:f:f0f:</td>\n",
       "      <td>grid_normal_2019-02-26_11:10_</td>\n",
       "      <td>177</td>\n",
       "      <td>590.655367</td>\n",
       "      <td>55562.272599</td>\n",
       "      <td>235.716509</td>\n",
       "      <td>4</td>\n",
       "      <td>307.0</td>\n",
       "      <td>1648.0</td>\n",
       "      <td>0.115</td>\n",
       "      <td>10</td>\n",
       "      <td>Normal</td>\n",
       "    </tr>\n",
       "    <tr>\n",
       "      <th>2</th>\n",
       "      <td>aaaa::212:7404:4:404:</td>\n",
       "      <td>grid_normal_2019-02-26_11:10_</td>\n",
       "      <td>123</td>\n",
       "      <td>215.164228</td>\n",
       "      <td>39463.392480</td>\n",
       "      <td>198.653952</td>\n",
       "      <td>1</td>\n",
       "      <td>68.7</td>\n",
       "      <td>1433.0</td>\n",
       "      <td>0.385</td>\n",
       "      <td>6</td>\n",
       "      <td>Normal</td>\n",
       "    </tr>\n",
       "    <tr>\n",
       "      <th>3</th>\n",
       "      <td>aaaa::212:740c:c:c0c:</td>\n",
       "      <td>grid_normal_2019-02-26_11:10_</td>\n",
       "      <td>142</td>\n",
       "      <td>621.971831</td>\n",
       "      <td>120861.658775</td>\n",
       "      <td>347.651634</td>\n",
       "      <td>3</td>\n",
       "      <td>246.0</td>\n",
       "      <td>2233.0</td>\n",
       "      <td>0.290</td>\n",
       "      <td>9</td>\n",
       "      <td>Normal</td>\n",
       "    </tr>\n",
       "    <tr>\n",
       "      <th>4</th>\n",
       "      <td>aaaa::212:7410:10:1010:</td>\n",
       "      <td>grid_normal_2019-02-26_11:10_</td>\n",
       "      <td>105</td>\n",
       "      <td>894.123810</td>\n",
       "      <td>166747.032601</td>\n",
       "      <td>408.346706</td>\n",
       "      <td>4</td>\n",
       "      <td>396.0</td>\n",
       "      <td>2587.0</td>\n",
       "      <td>0.475</td>\n",
       "      <td>6</td>\n",
       "      <td>Normal</td>\n",
       "    </tr>\n",
       "  </tbody>\n",
       "</table>\n",
       "</div>"
      ],
      "text/plain": [
       "                   node_id                     experiment  count        mean  \\\n",
       "0    aaaa::212:7405:5:505:  grid_normal_2019-02-26_11:10_    157  441.280255   \n",
       "1    aaaa::212:740f:f:f0f:  grid_normal_2019-02-26_11:10_    177  590.655367   \n",
       "2    aaaa::212:7404:4:404:  grid_normal_2019-02-26_11:10_    123  215.164228   \n",
       "3    aaaa::212:740c:c:c0c:  grid_normal_2019-02-26_11:10_    142  621.971831   \n",
       "4  aaaa::212:7410:10:1010:  grid_normal_2019-02-26_11:10_    105  894.123810   \n",
       "\n",
       "             var         std  hop    min     max   loss  outliers   label  \n",
       "0   81688.420954  285.811863    2  163.0  2198.0  0.215         7  Normal  \n",
       "1   55562.272599  235.716509    4  307.0  1648.0  0.115        10  Normal  \n",
       "2   39463.392480  198.653952    1   68.7  1433.0  0.385         6  Normal  \n",
       "3  120861.658775  347.651634    3  246.0  2233.0  0.290         9  Normal  \n",
       "4  166747.032601  408.346706    4  396.0  2587.0  0.475         6  Normal  "
      ]
     },
     "execution_count": 28,
     "metadata": {},
     "output_type": "execute_result"
    }
   ],
   "source": [
    "plots = set()\n",
    "with open('traces/traces.csv') as csv_file:\n",
    "    csv_reader = csv.reader(csv_file, delimiter=',')\n",
    "    line_count = 0\n",
    "    for row in csv_reader:\n",
    "        if line_count == 0:\n",
    "            line_count += 1\n",
    "            continue\n",
    "        else:\n",
    "            plots.add((row[1], row[2]))\n",
    "\n",
    "plots = list(plots)  \n",
    "\n",
    "stats = None\n",
    "win_25_stats = None\n",
    "win_50_stats = None\n",
    "win_100_stats = None\n",
    "\n",
    "for row in plots:\n",
    "    label = 'Normal'\n",
    "    experiment = row[1]\n",
    "    \n",
    "    # Assign a label\n",
    "    if row[1].find('gh') >= 0 or row[1].find('bh') >= 0:\n",
    "        label = 'Attacked'\n",
    "    nodes, packets_node = trace_analysis.process_cooja2_traces(row[0], row[1])\n",
    "    \n",
    "    # Update stats\n",
    "    if stats is None:\n",
    "        stats = trace_statistics.compute_labeled_statistics(nodes, packets_node, label, experiment)\n",
    "        win_25_stats = trace_statistics.compute_window_labeled_statistics(nodes, packets_node, label, experiment, 25)\n",
    "        win_50_stats = trace_statistics.compute_window_labeled_statistics(nodes, packets_node, label, experiment, 50)\n",
    "        win_100_stats = trace_statistics.compute_window_labeled_statistics(nodes, packets_node, label, experiment, 100)\n",
    "    else:\n",
    "        stats = pd.concat([stats, trace_statistics.compute_labeled_statistics(nodes, packets_node, label, experiment)])\n",
    "        win_25_stats = pd.concat([win_25_stats, trace_statistics.compute_window_labeled_statistics(nodes, packets_node, label, experiment, 25)])\n",
    "        win_50_stats = pd.concat([win_50_stats, trace_statistics.compute_window_labeled_statistics(nodes, packets_node, label, experiment, 50)])\n",
    "        win_100_stats = pd.concat([win_100_stats, trace_statistics.compute_window_labeled_statistics(nodes, packets_node, label, experiment, 100)])\n",
    "        \n",
    "stats = stats.reset_index(drop=True)\n",
    "win_25_stats = win_25_stats.reset_index(drop=True)\n",
    "win_50_stats = win_50_stats.reset_index(drop=True)\n",
    "win_100_stats = win_100_stats.reset_index(drop=True)\n",
    "\n",
    "# Create a dictionary containing all the statistics for each trace size\n",
    "trace_stats = {200: stats, 25: win_25_stats, 50: win_50_stats, 100: win_100_stats}\n",
    "stats.head(5)"
   ]
  },
  {
   "cell_type": "markdown",
   "metadata": {},
   "source": [
    "Stats for single network"
   ]
  },
  {
   "cell_type": "code",
   "execution_count": 29,
   "metadata": {},
   "outputs": [
    {
     "data": {
      "text/html": [
       "<div>\n",
       "<style scoped>\n",
       "    .dataframe tbody tr th:only-of-type {\n",
       "        vertical-align: middle;\n",
       "    }\n",
       "\n",
       "    .dataframe tbody tr th {\n",
       "        vertical-align: top;\n",
       "    }\n",
       "\n",
       "    .dataframe thead th {\n",
       "        text-align: right;\n",
       "    }\n",
       "</style>\n",
       "<table border=\"1\" class=\"dataframe\">\n",
       "  <thead>\n",
       "    <tr style=\"text-align: right;\">\n",
       "      <th></th>\n",
       "      <th>experiment</th>\n",
       "      <th>label</th>\n",
       "      <th>1</th>\n",
       "      <th>2</th>\n",
       "      <th>3</th>\n",
       "      <th>4</th>\n",
       "      <th>5</th>\n",
       "      <th>6</th>\n",
       "      <th>7</th>\n",
       "      <th>8</th>\n",
       "      <th>9</th>\n",
       "      <th>10</th>\n",
       "      <th>11</th>\n",
       "      <th>12</th>\n",
       "      <th>13</th>\n",
       "      <th>14</th>\n",
       "      <th>15</th>\n",
       "      <th>16</th>\n",
       "    </tr>\n",
       "  </thead>\n",
       "  <tbody>\n",
       "    <tr>\n",
       "      <th>0</th>\n",
       "      <td>grid_1bh-7_2019-02-19_22:13_</td>\n",
       "      <td>Attacked</td>\n",
       "      <td>0.080</td>\n",
       "      <td>0.170</td>\n",
       "      <td>0.305</td>\n",
       "      <td>0.230</td>\n",
       "      <td>0.240</td>\n",
       "      <td>0.190</td>\n",
       "      <td>0.100</td>\n",
       "      <td>0.215</td>\n",
       "      <td>0.240</td>\n",
       "      <td>0.200</td>\n",
       "      <td>0.220</td>\n",
       "      <td>0.255</td>\n",
       "      <td>0.275</td>\n",
       "      <td>0.170</td>\n",
       "      <td>9.223372e+18</td>\n",
       "      <td>9.223372e+18</td>\n",
       "    </tr>\n",
       "    <tr>\n",
       "      <th>1</th>\n",
       "      <td>grid_1bh-9_2019-02-20_00:30_</td>\n",
       "      <td>Attacked</td>\n",
       "      <td>0.040</td>\n",
       "      <td>0.010</td>\n",
       "      <td>0.160</td>\n",
       "      <td>0.070</td>\n",
       "      <td>0.045</td>\n",
       "      <td>0.210</td>\n",
       "      <td>0.015</td>\n",
       "      <td>0.205</td>\n",
       "      <td>0.125</td>\n",
       "      <td>0.250</td>\n",
       "      <td>0.075</td>\n",
       "      <td>0.130</td>\n",
       "      <td>0.025</td>\n",
       "      <td>0.100</td>\n",
       "      <td>9.223372e+18</td>\n",
       "      <td>9.223372e+18</td>\n",
       "    </tr>\n",
       "    <tr>\n",
       "      <th>2</th>\n",
       "      <td>grid_1gh30-7_2019-02-19_22:35_</td>\n",
       "      <td>Attacked</td>\n",
       "      <td>0.695</td>\n",
       "      <td>0.455</td>\n",
       "      <td>0.885</td>\n",
       "      <td>0.350</td>\n",
       "      <td>0.480</td>\n",
       "      <td>0.635</td>\n",
       "      <td>0.825</td>\n",
       "      <td>0.475</td>\n",
       "      <td>0.235</td>\n",
       "      <td>0.705</td>\n",
       "      <td>0.550</td>\n",
       "      <td>0.335</td>\n",
       "      <td>0.890</td>\n",
       "      <td>0.425</td>\n",
       "      <td>3.800000e-01</td>\n",
       "      <td>7.050000e-01</td>\n",
       "    </tr>\n",
       "    <tr>\n",
       "      <th>3</th>\n",
       "      <td>grid_1gh30-9_2019-02-20_00:12_</td>\n",
       "      <td>Attacked</td>\n",
       "      <td>0.065</td>\n",
       "      <td>0.180</td>\n",
       "      <td>0.115</td>\n",
       "      <td>0.760</td>\n",
       "      <td>0.125</td>\n",
       "      <td>0.180</td>\n",
       "      <td>0.070</td>\n",
       "      <td>0.155</td>\n",
       "      <td>0.320</td>\n",
       "      <td>0.155</td>\n",
       "      <td>0.220</td>\n",
       "      <td>0.120</td>\n",
       "      <td>0.790</td>\n",
       "      <td>0.220</td>\n",
       "      <td>1.050000e-01</td>\n",
       "      <td>6.000000e-02</td>\n",
       "    </tr>\n",
       "    <tr>\n",
       "      <th>4</th>\n",
       "      <td>grid_1gh50-7_2019-02-19_22:53_</td>\n",
       "      <td>Attacked</td>\n",
       "      <td>0.170</td>\n",
       "      <td>0.345</td>\n",
       "      <td>0.170</td>\n",
       "      <td>0.205</td>\n",
       "      <td>0.165</td>\n",
       "      <td>0.350</td>\n",
       "      <td>0.625</td>\n",
       "      <td>0.315</td>\n",
       "      <td>0.160</td>\n",
       "      <td>0.300</td>\n",
       "      <td>0.300</td>\n",
       "      <td>0.360</td>\n",
       "      <td>0.580</td>\n",
       "      <td>0.270</td>\n",
       "      <td>1.450000e-01</td>\n",
       "      <td>6.500000e-01</td>\n",
       "    </tr>\n",
       "  </tbody>\n",
       "</table>\n",
       "</div>"
      ],
      "text/plain": [
       "                       experiment     label      1      2      3      4  \\\n",
       "0    grid_1bh-7_2019-02-19_22:13_  Attacked  0.080  0.170  0.305  0.230   \n",
       "1    grid_1bh-9_2019-02-20_00:30_  Attacked  0.040  0.010  0.160  0.070   \n",
       "2  grid_1gh30-7_2019-02-19_22:35_  Attacked  0.695  0.455  0.885  0.350   \n",
       "3  grid_1gh30-9_2019-02-20_00:12_  Attacked  0.065  0.180  0.115  0.760   \n",
       "4  grid_1gh50-7_2019-02-19_22:53_  Attacked  0.170  0.345  0.170  0.205   \n",
       "\n",
       "       5      6      7      8      9     10     11     12     13     14  \\\n",
       "0  0.240  0.190  0.100  0.215  0.240  0.200  0.220  0.255  0.275  0.170   \n",
       "1  0.045  0.210  0.015  0.205  0.125  0.250  0.075  0.130  0.025  0.100   \n",
       "2  0.480  0.635  0.825  0.475  0.235  0.705  0.550  0.335  0.890  0.425   \n",
       "3  0.125  0.180  0.070  0.155  0.320  0.155  0.220  0.120  0.790  0.220   \n",
       "4  0.165  0.350  0.625  0.315  0.160  0.300  0.300  0.360  0.580  0.270   \n",
       "\n",
       "             15            16  \n",
       "0  9.223372e+18  9.223372e+18  \n",
       "1  9.223372e+18  9.223372e+18  \n",
       "2  3.800000e-01  7.050000e-01  \n",
       "3  1.050000e-01  6.000000e-02  \n",
       "4  1.450000e-01  6.500000e-01  "
      ]
     },
     "execution_count": 29,
     "metadata": {},
     "output_type": "execute_result"
    }
   ],
   "source": [
    "net_stats = trace_statistics.compute_labeled_statistics_by_network(stats, 'loss', 16)\n",
    "net_win_25_stats = trace_statistics.compute_window_labeled_statistics_by_network(win_25_stats, 'loss', 16, 25)\n",
    "net_win_50_stats = trace_statistics.compute_window_labeled_statistics_by_network(win_50_stats, 'loss', 16, 50)\n",
    "net_win_100_stats = trace_statistics.compute_window_labeled_statistics_by_network(win_100_stats, 'loss', 16, 100)\n",
    "\n",
    "# Create a dictionary containing all the statistics for each trace size\n",
    "network_stats = {200: net_stats, 25: net_win_25_stats, 50: net_win_50_stats, 100: net_win_100_stats}\n",
    "net_stats.head(5)"
   ]
  },
  {
   "cell_type": "markdown",
   "metadata": {},
   "source": [
    "# Feature Selection\n",
    "\n",
    "Select the set of features and labels that we use to fit the algorithm"
   ]
  },
  {
   "cell_type": "code",
   "execution_count": 30,
   "metadata": {},
   "outputs": [
    {
     "data": {
      "image/png": "[encoded data removed]",
      "text/plain": [
       "<Figure size 864x576 with 4 Axes>"
      ]
     },
     "metadata": {
      "needs_background": "light"
     },
     "output_type": "display_data"
    }
   ],
   "source": [
    "plots_analysis.random_forests_features_selection(trace_stats)"
   ]
  },
  {
   "cell_type": "code",
   "execution_count": 31,
   "metadata": {},
   "outputs": [],
   "source": [
    "results = None            # Results from each classification algorithm\n",
    "cv_results = None         # Cross validation results from each classification algorithm\n",
    "net_results = None            # Results from each classification algorithm\n",
    "cv_net_results = None         # Cross validation results from each classification algorithm\n",
    "\n",
    "features_to_drop = ['node_id', 'experiment', 'label', 'loss', 'count', 'outliers']\n",
    "net_features_to_drop = ['experiment', 'label']"
   ]
  },
  {
   "cell_type": "markdown",
   "metadata": {},
   "source": [
    "# Random Forests Classifier\n",
    "\n",
    "Let us experiment with random forests. First, let us select most relevant features."
   ]
  },
  {
   "cell_type": "code",
   "execution_count": 32,
   "metadata": {},
   "outputs": [
    {
     "name": "stdout",
     "output_type": "stream",
     "text": [
      "Computing trace 200\n",
      "Computing trace 25\n",
      "Computing trace 50\n",
      "Computing trace 100\n"
     ]
    }
   ],
   "source": [
    "results = pd.concat([results, \n",
    "                     trace_classification.random_forest_classification(trace_stats, features_to_drop)\n",
    "                    ])"
   ]
  },
  {
   "cell_type": "markdown",
   "metadata": {},
   "source": [
    "We want to compute average accuracy for each trace size (i.e. for each window size from 200 - the entire window - to 100, 50 and 25)"
   ]
  },
  {
   "cell_type": "code",
   "execution_count": 33,
   "metadata": {},
   "outputs": [
    {
     "name": "stdout",
     "output_type": "stream",
     "text": [
      "Computing trace 200\n",
      "Computing trace 25\n",
      "Computing trace 50\n",
      "Computing trace 100\n"
     ]
    }
   ],
   "source": [
    "cv_results = pd.concat([cv_results, \n",
    "                     trace_classification.random_forest_cross_validation(trace_stats, features_to_drop)\n",
    "                    ])"
   ]
  },
  {
   "cell_type": "markdown",
   "metadata": {},
   "source": [
    "Let's do the same for the whole network"
   ]
  },
  {
   "cell_type": "code",
   "execution_count": 34,
   "metadata": {},
   "outputs": [
    {
     "name": "stdout",
     "output_type": "stream",
     "text": [
      "Computing trace 200\n",
      "Computing trace 25\n",
      "Computing trace 50\n",
      "Computing trace 100\n"
     ]
    }
   ],
   "source": [
    "net_results = pd.concat([net_results, \n",
    "                     trace_classification.random_forest_classification(network_stats, net_features_to_drop)\n",
    "                    ])"
   ]
  },
  {
   "cell_type": "markdown",
   "metadata": {},
   "source": [
    "Cross validation"
   ]
  },
  {
   "cell_type": "code",
   "execution_count": 35,
   "metadata": {},
   "outputs": [
    {
     "name": "stdout",
     "output_type": "stream",
     "text": [
      "Computing trace 200\n",
      "Computing trace 25\n",
      "Computing trace 50\n",
      "Computing trace 100\n"
     ]
    }
   ],
   "source": [
    "cv_net_results = pd.concat([cv_net_results, \n",
    "                     trace_classification.random_forest_cross_validation(network_stats, net_features_to_drop, cross_val=3)\n",
    "                    ])"
   ]
  },
  {
   "cell_type": "markdown",
   "metadata": {},
   "source": [
    "# K-Nearest Neighbor (KNN) Classification\n",
    "\n",
    "Let us first observe the accuracies for different values of k"
   ]
  },
  {
   "cell_type": "code",
   "execution_count": 36,
   "metadata": {},
   "outputs": [
    {
     "data": {
      "image/png": "[encoded data removed]",
      "text/plain": [
       "<Figure size 864x576 with 4 Axes>"
      ]
     },
     "metadata": {
      "needs_background": "light"
     },
     "output_type": "display_data"
    }
   ],
   "source": [
    "plots_analysis.knn_test_number_of_neighbors(trace_stats, 30)"
   ]
  },
  {
   "cell_type": "markdown",
   "metadata": {},
   "source": [
    "Let's build KNN classifier "
   ]
  },
  {
   "cell_type": "code",
   "execution_count": 37,
   "metadata": {},
   "outputs": [
    {
     "name": "stdout",
     "output_type": "stream",
     "text": [
      "Computing trace 200\n",
      "Computing trace 25\n",
      "Computing trace 50\n",
      "Computing trace 100\n"
     ]
    }
   ],
   "source": [
    "results = pd.concat([results, \n",
    "                     trace_classification.k_nearest_neighbor_classification(trace_stats, features_to_drop, n_neighbors=11)\n",
    "                    ])"
   ]
  },
  {
   "cell_type": "markdown",
   "metadata": {},
   "source": [
    "We want to compute average accuracy for each trace size (i.e. for each window size from 200 - the entire window - to 100, 50 and 25)"
   ]
  },
  {
   "cell_type": "code",
   "execution_count": 38,
   "metadata": {},
   "outputs": [
    {
     "name": "stdout",
     "output_type": "stream",
     "text": [
      "Computing trace 200\n",
      "Computing trace 25\n",
      "Computing trace 50\n",
      "Computing trace 100\n"
     ]
    }
   ],
   "source": [
    "cv_results = pd.concat([cv_results, \n",
    "                     trace_classification.k_nearest_neighbor_cross_validation(trace_stats, features_to_drop, n_neighbors=11)\n",
    "                    ])"
   ]
  },
  {
   "cell_type": "markdown",
   "metadata": {},
   "source": [
    "Let's do the same for the whole network"
   ]
  },
  {
   "cell_type": "code",
   "execution_count": 39,
   "metadata": {},
   "outputs": [
    {
     "name": "stdout",
     "output_type": "stream",
     "text": [
      "Computing trace 200\n",
      "Computing trace 25\n",
      "Computing trace 50\n",
      "Computing trace 100\n"
     ]
    }
   ],
   "source": [
    "net_results = pd.concat([net_results, \n",
    "                     trace_classification.k_nearest_neighbor_classification(network_stats, net_features_to_drop)\n",
    "                    ])"
   ]
  },
  {
   "cell_type": "markdown",
   "metadata": {},
   "source": [
    "Cross validation"
   ]
  },
  {
   "cell_type": "code",
   "execution_count": 40,
   "metadata": {},
   "outputs": [
    {
     "name": "stdout",
     "output_type": "stream",
     "text": [
      "Computing trace 200\n",
      "Computing trace 25\n",
      "Computing trace 50\n",
      "Computing trace 100\n"
     ]
    }
   ],
   "source": [
    "cv_net_results = pd.concat([cv_net_results, \n",
    "                     trace_classification.k_nearest_neighbor_cross_validation(network_stats, net_features_to_drop, cross_val=3)\n",
    "                    ])"
   ]
  },
  {
   "cell_type": "markdown",
   "metadata": {},
   "source": [
    "# Support Vector Machines (SVM) Classification\n",
    "\n",
    "Let us experiment with another classifier"
   ]
  },
  {
   "cell_type": "code",
   "execution_count": 41,
   "metadata": {},
   "outputs": [
    {
     "name": "stdout",
     "output_type": "stream",
     "text": [
      "Computing trace 200\n",
      "Computing trace 25\n",
      "Computing trace 50\n",
      "Computing trace 100\n"
     ]
    }
   ],
   "source": [
    "results = pd.concat([results, \n",
    "                     trace_classification.support_vector_machines_classification(trace_stats, features_to_drop, kernel='rbf')\n",
    "                    ])"
   ]
  },
  {
   "cell_type": "markdown",
   "metadata": {},
   "source": [
    "We want to compute average accuracy for each trace size (i.e. for each window size from 200 - the entire window - to 100, 50 and 25)"
   ]
  },
  {
   "cell_type": "code",
   "execution_count": 42,
   "metadata": {},
   "outputs": [
    {
     "name": "stdout",
     "output_type": "stream",
     "text": [
      "Computing trace 200\n",
      "Computing trace 25\n",
      "Computing trace 50\n",
      "Computing trace 100\n"
     ]
    }
   ],
   "source": [
    "cv_results = pd.concat([cv_results, \n",
    "                     trace_classification.support_vector_machines_cross_validation(trace_stats, features_to_drop, kernel='rbf')\n",
    "                    ])"
   ]
  },
  {
   "cell_type": "markdown",
   "metadata": {},
   "source": [
    "Let's do the same for the whole network"
   ]
  },
  {
   "cell_type": "code",
   "execution_count": 43,
   "metadata": {},
   "outputs": [
    {
     "name": "stdout",
     "output_type": "stream",
     "text": [
      "Computing trace 200\n",
      "Computing trace 25\n",
      "Computing trace 50\n",
      "Computing trace 100\n"
     ]
    }
   ],
   "source": [
    "\n",
    "net_results = pd.concat([net_results, \n",
    "                     trace_classification.support_vector_machines_classification(network_stats, net_features_to_drop, kernel='rbf')\n",
    "                    ])\n"
   ]
  },
  {
   "cell_type": "markdown",
   "metadata": {},
   "source": [
    "Cross validation"
   ]
  },
  {
   "cell_type": "code",
   "execution_count": 44,
   "metadata": {},
   "outputs": [
    {
     "name": "stdout",
     "output_type": "stream",
     "text": [
      "Computing trace 200\n",
      "Computing trace 25\n",
      "Computing trace 50\n",
      "Computing trace 100\n"
     ]
    }
   ],
   "source": [
    "cv_net_results = pd.concat([cv_net_results, \n",
    "                     trace_classification.support_vector_machines_cross_validation(network_stats, net_features_to_drop, cross_val=3)\n",
    "                    ])"
   ]
  },
  {
   "cell_type": "markdown",
   "metadata": {},
   "source": [
    "# One Vs The Rest Classifier\n",
    "\n",
    "SVM performs really well, but it is slow. Now we try to implement it in a most efficient way. The strategy consists in fitting one classifier per class. For each classifier, the class is fitted against all the other classes"
   ]
  },
  {
   "cell_type": "code",
   "execution_count": 45,
   "metadata": {},
   "outputs": [
    {
     "name": "stdout",
     "output_type": "stream",
     "text": [
      "Computing trace 200\n",
      "Computing trace 25\n",
      "Computing trace 50\n",
      "Computing trace 100\n"
     ]
    }
   ],
   "source": [
    "results = pd.concat([results, \n",
    "                     trace_classification.ensalble_svm_classification(trace_stats, features_to_drop, n_estimators=15)\n",
    "                    ])"
   ]
  },
  {
   "cell_type": "markdown",
   "metadata": {},
   "source": [
    "Cross validate"
   ]
  },
  {
   "cell_type": "code",
   "execution_count": 46,
   "metadata": {},
   "outputs": [
    {
     "name": "stdout",
     "output_type": "stream",
     "text": [
      "Computing trace 200\n",
      "Computing trace 25\n",
      "Computing trace 50\n",
      "Computing trace 100\n"
     ]
    }
   ],
   "source": [
    "cv_results = pd.concat([cv_results, \n",
    "                     trace_classification.ensalble_svm_cross_validation(trace_stats, features_to_drop, n_estimators=15)\n",
    "                    ])"
   ]
  },
  {
   "cell_type": "markdown",
   "metadata": {},
   "source": [
    "Let's do the same for the whole network"
   ]
  },
  {
   "cell_type": "code",
   "execution_count": 47,
   "metadata": {},
   "outputs": [
    {
     "name": "stdout",
     "output_type": "stream",
     "text": [
      "Computing trace 200\n",
      "Computing trace 25\n",
      "Computing trace 50\n",
      "Computing trace 100\n"
     ]
    }
   ],
   "source": [
    "net_results = pd.concat([net_results, \n",
    "                     trace_classification.ensalble_svm_classification(network_stats, net_features_to_drop)\n",
    "                    ])"
   ]
  },
  {
   "cell_type": "markdown",
   "metadata": {},
   "source": [
    "Cross validation"
   ]
  },
  {
   "cell_type": "code",
   "execution_count": 48,
   "metadata": {},
   "outputs": [
    {
     "name": "stdout",
     "output_type": "stream",
     "text": [
      "Computing trace 200\n",
      "Computing trace 25\n",
      "Computing trace 50\n",
      "Computing trace 100\n"
     ]
    }
   ],
   "source": [
    "cv_net_results = pd.concat([cv_net_results, \n",
    "                     trace_classification.ensalble_svm_cross_validation(network_stats, net_features_to_drop, cross_val=3)\n",
    "                    ])"
   ]
  },
  {
   "cell_type": "markdown",
   "metadata": {},
   "source": [
    "# Per Node Results\n",
    "\n",
    "Results from each model"
   ]
  },
  {
   "cell_type": "code",
   "execution_count": 49,
   "metadata": {
    "scrolled": true
   },
   "outputs": [
    {
     "data": {
      "text/html": [
       "<div>\n",
       "<style scoped>\n",
       "    .dataframe tbody tr th:only-of-type {\n",
       "        vertical-align: middle;\n",
       "    }\n",
       "\n",
       "    .dataframe tbody tr th {\n",
       "        vertical-align: top;\n",
       "    }\n",
       "\n",
       "    .dataframe thead th {\n",
       "        text-align: right;\n",
       "    }\n",
       "</style>\n",
       "<table border=\"1\" class=\"dataframe\">\n",
       "  <thead>\n",
       "    <tr style=\"text-align: right;\">\n",
       "      <th></th>\n",
       "      <th>Model</th>\n",
       "      <th>Window Size</th>\n",
       "      <th>Accuracy</th>\n",
       "      <th>Precision</th>\n",
       "      <th>Recall</th>\n",
       "      <th>F1-score</th>\n",
       "      <th>Training Time (sec)</th>\n",
       "      <th>Testing Time (sec)</th>\n",
       "    </tr>\n",
       "  </thead>\n",
       "  <tbody>\n",
       "    <tr>\n",
       "      <th>0</th>\n",
       "      <td>Random Forest</td>\n",
       "      <td>200</td>\n",
       "      <td>0.725806</td>\n",
       "      <td>0.719048</td>\n",
       "      <td>0.698919</td>\n",
       "      <td>0.703516</td>\n",
       "      <td>0.105565</td>\n",
       "      <td>0.005421</td>\n",
       "    </tr>\n",
       "    <tr>\n",
       "      <th>1</th>\n",
       "      <td>Random Forest</td>\n",
       "      <td>25</td>\n",
       "      <td>0.797784</td>\n",
       "      <td>0.790548</td>\n",
       "      <td>0.774176</td>\n",
       "      <td>0.780240</td>\n",
       "      <td>0.163051</td>\n",
       "      <td>0.012312</td>\n",
       "    </tr>\n",
       "    <tr>\n",
       "      <th>2</th>\n",
       "      <td>Random Forest</td>\n",
       "      <td>50</td>\n",
       "      <td>0.801020</td>\n",
       "      <td>0.802210</td>\n",
       "      <td>0.781466</td>\n",
       "      <td>0.787755</td>\n",
       "      <td>0.120716</td>\n",
       "      <td>0.006674</td>\n",
       "    </tr>\n",
       "    <tr>\n",
       "      <th>3</th>\n",
       "      <td>Random Forest</td>\n",
       "      <td>100</td>\n",
       "      <td>0.787611</td>\n",
       "      <td>0.768596</td>\n",
       "      <td>0.762158</td>\n",
       "      <td>0.765073</td>\n",
       "      <td>0.098280</td>\n",
       "      <td>0.005728</td>\n",
       "    </tr>\n",
       "    <tr>\n",
       "      <th>4</th>\n",
       "      <td>KNN</td>\n",
       "      <td>200</td>\n",
       "      <td>0.612903</td>\n",
       "      <td>0.602116</td>\n",
       "      <td>0.604324</td>\n",
       "      <td>0.602564</td>\n",
       "      <td>0.000684</td>\n",
       "      <td>0.001534</td>\n",
       "    </tr>\n",
       "    <tr>\n",
       "      <th>5</th>\n",
       "      <td>KNN</td>\n",
       "      <td>25</td>\n",
       "      <td>0.631579</td>\n",
       "      <td>0.601261</td>\n",
       "      <td>0.591311</td>\n",
       "      <td>0.592340</td>\n",
       "      <td>0.000952</td>\n",
       "      <td>0.001233</td>\n",
       "    </tr>\n",
       "    <tr>\n",
       "      <th>6</th>\n",
       "      <td>KNN</td>\n",
       "      <td>50</td>\n",
       "      <td>0.596939</td>\n",
       "      <td>0.575437</td>\n",
       "      <td>0.570259</td>\n",
       "      <td>0.570068</td>\n",
       "      <td>0.001036</td>\n",
       "      <td>0.002613</td>\n",
       "    </tr>\n",
       "    <tr>\n",
       "      <th>7</th>\n",
       "      <td>KNN</td>\n",
       "      <td>100</td>\n",
       "      <td>0.654867</td>\n",
       "      <td>0.621275</td>\n",
       "      <td>0.619863</td>\n",
       "      <td>0.620511</td>\n",
       "      <td>0.000620</td>\n",
       "      <td>0.000703</td>\n",
       "    </tr>\n",
       "    <tr>\n",
       "      <th>8</th>\n",
       "      <td>SVM</td>\n",
       "      <td>200</td>\n",
       "      <td>0.596774</td>\n",
       "      <td>0.298387</td>\n",
       "      <td>0.500000</td>\n",
       "      <td>0.373737</td>\n",
       "      <td>0.002567</td>\n",
       "      <td>0.000499</td>\n",
       "    </tr>\n",
       "    <tr>\n",
       "      <th>9</th>\n",
       "      <td>SVM</td>\n",
       "      <td>25</td>\n",
       "      <td>0.617729</td>\n",
       "      <td>0.308864</td>\n",
       "      <td>0.500000</td>\n",
       "      <td>0.381849</td>\n",
       "      <td>0.018102</td>\n",
       "      <td>0.002959</td>\n",
       "    </tr>\n",
       "    <tr>\n",
       "      <th>10</th>\n",
       "      <td>SVM</td>\n",
       "      <td>50</td>\n",
       "      <td>0.591837</td>\n",
       "      <td>0.295918</td>\n",
       "      <td>0.500000</td>\n",
       "      <td>0.371795</td>\n",
       "      <td>0.004911</td>\n",
       "      <td>0.001185</td>\n",
       "    </tr>\n",
       "    <tr>\n",
       "      <th>11</th>\n",
       "      <td>SVM</td>\n",
       "      <td>100</td>\n",
       "      <td>0.646018</td>\n",
       "      <td>0.323009</td>\n",
       "      <td>0.500000</td>\n",
       "      <td>0.392473</td>\n",
       "      <td>0.002135</td>\n",
       "      <td>0.000638</td>\n",
       "    </tr>\n",
       "    <tr>\n",
       "      <th>12</th>\n",
       "      <td>OneVsRestClassifier (SVM)</td>\n",
       "      <td>200</td>\n",
       "      <td>0.580645</td>\n",
       "      <td>0.541844</td>\n",
       "      <td>0.531892</td>\n",
       "      <td>0.520238</td>\n",
       "      <td>0.481159</td>\n",
       "      <td>0.001019</td>\n",
       "    </tr>\n",
       "    <tr>\n",
       "      <th>13</th>\n",
       "      <td>OneVsRestClassifier (SVM)</td>\n",
       "      <td>25</td>\n",
       "      <td>0.634349</td>\n",
       "      <td>0.634024</td>\n",
       "      <td>0.641889</td>\n",
       "      <td>0.629086</td>\n",
       "      <td>3.265602</td>\n",
       "      <td>0.001196</td>\n",
       "    </tr>\n",
       "    <tr>\n",
       "      <th>14</th>\n",
       "      <td>OneVsRestClassifier (SVM)</td>\n",
       "      <td>50</td>\n",
       "      <td>0.653061</td>\n",
       "      <td>0.637939</td>\n",
       "      <td>0.623491</td>\n",
       "      <td>0.624563</td>\n",
       "      <td>2.078705</td>\n",
       "      <td>0.001091</td>\n",
       "    </tr>\n",
       "    <tr>\n",
       "      <th>15</th>\n",
       "      <td>OneVsRestClassifier (SVM)</td>\n",
       "      <td>100</td>\n",
       "      <td>0.672566</td>\n",
       "      <td>0.664151</td>\n",
       "      <td>0.678767</td>\n",
       "      <td>0.661978</td>\n",
       "      <td>0.921663</td>\n",
       "      <td>0.001178</td>\n",
       "    </tr>\n",
       "  </tbody>\n",
       "</table>\n",
       "</div>"
      ],
      "text/plain": [
       "                        Model  Window Size  Accuracy  Precision    Recall  \\\n",
       "0               Random Forest          200  0.725806   0.719048  0.698919   \n",
       "1               Random Forest           25  0.797784   0.790548  0.774176   \n",
       "2               Random Forest           50  0.801020   0.802210  0.781466   \n",
       "3               Random Forest          100  0.787611   0.768596  0.762158   \n",
       "4                         KNN          200  0.612903   0.602116  0.604324   \n",
       "5                         KNN           25  0.631579   0.601261  0.591311   \n",
       "6                         KNN           50  0.596939   0.575437  0.570259   \n",
       "7                         KNN          100  0.654867   0.621275  0.619863   \n",
       "8                         SVM          200  0.596774   0.298387  0.500000   \n",
       "9                         SVM           25  0.617729   0.308864  0.500000   \n",
       "10                        SVM           50  0.591837   0.295918  0.500000   \n",
       "11                        SVM          100  0.646018   0.323009  0.500000   \n",
       "12  OneVsRestClassifier (SVM)          200  0.580645   0.541844  0.531892   \n",
       "13  OneVsRestClassifier (SVM)           25  0.634349   0.634024  0.641889   \n",
       "14  OneVsRestClassifier (SVM)           50  0.653061   0.637939  0.623491   \n",
       "15  OneVsRestClassifier (SVM)          100  0.672566   0.664151  0.678767   \n",
       "\n",
       "    F1-score  Training Time (sec)  Testing Time (sec)  \n",
       "0   0.703516             0.105565            0.005421  \n",
       "1   0.780240             0.163051            0.012312  \n",
       "2   0.787755             0.120716            0.006674  \n",
       "3   0.765073             0.098280            0.005728  \n",
       "4   0.602564             0.000684            0.001534  \n",
       "5   0.592340             0.000952            0.001233  \n",
       "6   0.570068             0.001036            0.002613  \n",
       "7   0.620511             0.000620            0.000703  \n",
       "8   0.373737             0.002567            0.000499  \n",
       "9   0.381849             0.018102            0.002959  \n",
       "10  0.371795             0.004911            0.001185  \n",
       "11  0.392473             0.002135            0.000638  \n",
       "12  0.520238             0.481159            0.001019  \n",
       "13  0.629086             3.265602            0.001196  \n",
       "14  0.624563             2.078705            0.001091  \n",
       "15  0.661978             0.921663            0.001178  "
      ]
     },
     "execution_count": 49,
     "metadata": {},
     "output_type": "execute_result"
    }
   ],
   "source": [
    "results.reset_index(drop=True)"
   ]
  },
  {
   "cell_type": "markdown",
   "metadata": {},
   "source": [
    "Here we plot the average results for each model computed with cross validation"
   ]
  },
  {
   "cell_type": "code",
   "execution_count": 50,
   "metadata": {
    "scrolled": true
   },
   "outputs": [
    {
     "data": {
      "text/html": [
       "<div>\n",
       "<style scoped>\n",
       "    .dataframe tbody tr th:only-of-type {\n",
       "        vertical-align: middle;\n",
       "    }\n",
       "\n",
       "    .dataframe tbody tr th {\n",
       "        vertical-align: top;\n",
       "    }\n",
       "\n",
       "    .dataframe thead th {\n",
       "        text-align: right;\n",
       "    }\n",
       "</style>\n",
       "<table border=\"1\" class=\"dataframe\">\n",
       "  <thead>\n",
       "    <tr style=\"text-align: right;\">\n",
       "      <th></th>\n",
       "      <th>Model</th>\n",
       "      <th>Window Size</th>\n",
       "      <th>Mean Accuracy</th>\n",
       "    </tr>\n",
       "  </thead>\n",
       "  <tbody>\n",
       "    <tr>\n",
       "      <th>0</th>\n",
       "      <td>Random Forest</td>\n",
       "      <td>200</td>\n",
       "      <td>0.616585</td>\n",
       "    </tr>\n",
       "    <tr>\n",
       "      <th>1</th>\n",
       "      <td>Random Forest</td>\n",
       "      <td>25</td>\n",
       "      <td>0.762237</td>\n",
       "    </tr>\n",
       "    <tr>\n",
       "      <th>2</th>\n",
       "      <td>Random Forest</td>\n",
       "      <td>50</td>\n",
       "      <td>0.738708</td>\n",
       "    </tr>\n",
       "    <tr>\n",
       "      <th>3</th>\n",
       "      <td>Random Forest</td>\n",
       "      <td>100</td>\n",
       "      <td>0.652036</td>\n",
       "    </tr>\n",
       "    <tr>\n",
       "      <th>4</th>\n",
       "      <td>KNN</td>\n",
       "      <td>200</td>\n",
       "      <td>0.602317</td>\n",
       "    </tr>\n",
       "    <tr>\n",
       "      <th>5</th>\n",
       "      <td>KNN</td>\n",
       "      <td>25</td>\n",
       "      <td>0.654142</td>\n",
       "    </tr>\n",
       "    <tr>\n",
       "      <th>6</th>\n",
       "      <td>KNN</td>\n",
       "      <td>50</td>\n",
       "      <td>0.617334</td>\n",
       "    </tr>\n",
       "    <tr>\n",
       "      <th>7</th>\n",
       "      <td>KNN</td>\n",
       "      <td>100</td>\n",
       "      <td>0.563676</td>\n",
       "    </tr>\n",
       "    <tr>\n",
       "      <th>8</th>\n",
       "      <td>SVM</td>\n",
       "      <td>200</td>\n",
       "      <td>0.607805</td>\n",
       "    </tr>\n",
       "    <tr>\n",
       "      <th>9</th>\n",
       "      <td>SVM</td>\n",
       "      <td>25</td>\n",
       "      <td>0.627600</td>\n",
       "    </tr>\n",
       "    <tr>\n",
       "      <th>10</th>\n",
       "      <td>SVM</td>\n",
       "      <td>50</td>\n",
       "      <td>0.631333</td>\n",
       "    </tr>\n",
       "    <tr>\n",
       "      <th>11</th>\n",
       "      <td>SVM</td>\n",
       "      <td>100</td>\n",
       "      <td>0.612288</td>\n",
       "    </tr>\n",
       "    <tr>\n",
       "      <th>12</th>\n",
       "      <td>OneVsRestClassifier (SVM)</td>\n",
       "      <td>200</td>\n",
       "      <td>0.632683</td>\n",
       "    </tr>\n",
       "    <tr>\n",
       "      <th>13</th>\n",
       "      <td>OneVsRestClassifier (SVM)</td>\n",
       "      <td>25</td>\n",
       "      <td>0.644129</td>\n",
       "    </tr>\n",
       "    <tr>\n",
       "      <th>14</th>\n",
       "      <td>OneVsRestClassifier (SVM)</td>\n",
       "      <td>50</td>\n",
       "      <td>0.545261</td>\n",
       "    </tr>\n",
       "    <tr>\n",
       "      <th>15</th>\n",
       "      <td>OneVsRestClassifier (SVM)</td>\n",
       "      <td>100</td>\n",
       "      <td>0.601802</td>\n",
       "    </tr>\n",
       "  </tbody>\n",
       "</table>\n",
       "</div>"
      ],
      "text/plain": [
       "                        Model  Window Size  Mean Accuracy\n",
       "0               Random Forest          200       0.616585\n",
       "1               Random Forest           25       0.762237\n",
       "2               Random Forest           50       0.738708\n",
       "3               Random Forest          100       0.652036\n",
       "4                         KNN          200       0.602317\n",
       "5                         KNN           25       0.654142\n",
       "6                         KNN           50       0.617334\n",
       "7                         KNN          100       0.563676\n",
       "8                         SVM          200       0.607805\n",
       "9                         SVM           25       0.627600\n",
       "10                        SVM           50       0.631333\n",
       "11                        SVM          100       0.612288\n",
       "12  OneVsRestClassifier (SVM)          200       0.632683\n",
       "13  OneVsRestClassifier (SVM)           25       0.644129\n",
       "14  OneVsRestClassifier (SVM)           50       0.545261\n",
       "15  OneVsRestClassifier (SVM)          100       0.601802"
      ]
     },
     "execution_count": 50,
     "metadata": {},
     "output_type": "execute_result"
    }
   ],
   "source": [
    "cv_results.reset_index(drop=True)"
   ]
  },
  {
   "cell_type": "markdown",
   "metadata": {},
   "source": [
    "# Network Results\n",
    "\n",
    "Here we print the results from each model on the whole network"
   ]
  },
  {
   "cell_type": "code",
   "execution_count": 51,
   "metadata": {},
   "outputs": [
    {
     "data": {
      "text/html": [
       "<div>\n",
       "<style scoped>\n",
       "    .dataframe tbody tr th:only-of-type {\n",
       "        vertical-align: middle;\n",
       "    }\n",
       "\n",
       "    .dataframe tbody tr th {\n",
       "        vertical-align: top;\n",
       "    }\n",
       "\n",
       "    .dataframe thead th {\n",
       "        text-align: right;\n",
       "    }\n",
       "</style>\n",
       "<table border=\"1\" class=\"dataframe\">\n",
       "  <thead>\n",
       "    <tr style=\"text-align: right;\">\n",
       "      <th></th>\n",
       "      <th>Model</th>\n",
       "      <th>Window Size</th>\n",
       "      <th>Accuracy</th>\n",
       "      <th>Precision</th>\n",
       "      <th>Recall</th>\n",
       "      <th>F1-score</th>\n",
       "      <th>Training Time (sec)</th>\n",
       "      <th>Testing Time (sec)</th>\n",
       "    </tr>\n",
       "  </thead>\n",
       "  <tbody>\n",
       "    <tr>\n",
       "      <th>0</th>\n",
       "      <td>Random Forest</td>\n",
       "      <td>200</td>\n",
       "      <td>0.5000</td>\n",
       "      <td>0.333333</td>\n",
       "      <td>0.333333</td>\n",
       "      <td>0.333333</td>\n",
       "      <td>0.088082</td>\n",
       "      <td>0.004978</td>\n",
       "    </tr>\n",
       "    <tr>\n",
       "      <th>1</th>\n",
       "      <td>Random Forest</td>\n",
       "      <td>25</td>\n",
       "      <td>0.5625</td>\n",
       "      <td>0.281250</td>\n",
       "      <td>0.500000</td>\n",
       "      <td>0.360000</td>\n",
       "      <td>0.085530</td>\n",
       "      <td>0.004846</td>\n",
       "    </tr>\n",
       "    <tr>\n",
       "      <th>2</th>\n",
       "      <td>Random Forest</td>\n",
       "      <td>50</td>\n",
       "      <td>0.5000</td>\n",
       "      <td>0.500000</td>\n",
       "      <td>0.500000</td>\n",
       "      <td>0.418182</td>\n",
       "      <td>0.084783</td>\n",
       "      <td>0.004967</td>\n",
       "    </tr>\n",
       "    <tr>\n",
       "      <th>3</th>\n",
       "      <td>Random Forest</td>\n",
       "      <td>100</td>\n",
       "      <td>0.3750</td>\n",
       "      <td>0.416667</td>\n",
       "      <td>0.433333</td>\n",
       "      <td>0.365079</td>\n",
       "      <td>0.088556</td>\n",
       "      <td>0.004983</td>\n",
       "    </tr>\n",
       "    <tr>\n",
       "      <th>4</th>\n",
       "      <td>KNN</td>\n",
       "      <td>200</td>\n",
       "      <td>0.2500</td>\n",
       "      <td>0.125000</td>\n",
       "      <td>0.500000</td>\n",
       "      <td>0.200000</td>\n",
       "      <td>0.000480</td>\n",
       "      <td>0.000692</td>\n",
       "    </tr>\n",
       "    <tr>\n",
       "      <th>5</th>\n",
       "      <td>KNN</td>\n",
       "      <td>25</td>\n",
       "      <td>0.5625</td>\n",
       "      <td>0.281250</td>\n",
       "      <td>0.500000</td>\n",
       "      <td>0.360000</td>\n",
       "      <td>0.000488</td>\n",
       "      <td>0.000413</td>\n",
       "    </tr>\n",
       "    <tr>\n",
       "      <th>6</th>\n",
       "      <td>KNN</td>\n",
       "      <td>50</td>\n",
       "      <td>0.1250</td>\n",
       "      <td>0.100000</td>\n",
       "      <td>0.125000</td>\n",
       "      <td>0.111111</td>\n",
       "      <td>0.000574</td>\n",
       "      <td>0.000617</td>\n",
       "    </tr>\n",
       "    <tr>\n",
       "      <th>7</th>\n",
       "      <td>KNN</td>\n",
       "      <td>100</td>\n",
       "      <td>0.3750</td>\n",
       "      <td>0.416667</td>\n",
       "      <td>0.433333</td>\n",
       "      <td>0.365079</td>\n",
       "      <td>0.000322</td>\n",
       "      <td>0.000577</td>\n",
       "    </tr>\n",
       "    <tr>\n",
       "      <th>8</th>\n",
       "      <td>SVM</td>\n",
       "      <td>200</td>\n",
       "      <td>0.2500</td>\n",
       "      <td>0.125000</td>\n",
       "      <td>0.500000</td>\n",
       "      <td>0.200000</td>\n",
       "      <td>0.000690</td>\n",
       "      <td>0.000650</td>\n",
       "    </tr>\n",
       "    <tr>\n",
       "      <th>9</th>\n",
       "      <td>SVM</td>\n",
       "      <td>25</td>\n",
       "      <td>0.5625</td>\n",
       "      <td>0.281250</td>\n",
       "      <td>0.500000</td>\n",
       "      <td>0.360000</td>\n",
       "      <td>0.001582</td>\n",
       "      <td>0.000442</td>\n",
       "    </tr>\n",
       "    <tr>\n",
       "      <th>10</th>\n",
       "      <td>SVM</td>\n",
       "      <td>50</td>\n",
       "      <td>0.5000</td>\n",
       "      <td>0.250000</td>\n",
       "      <td>0.500000</td>\n",
       "      <td>0.333333</td>\n",
       "      <td>0.000468</td>\n",
       "      <td>0.000149</td>\n",
       "    </tr>\n",
       "    <tr>\n",
       "      <th>11</th>\n",
       "      <td>SVM</td>\n",
       "      <td>100</td>\n",
       "      <td>0.3750</td>\n",
       "      <td>0.187500</td>\n",
       "      <td>0.500000</td>\n",
       "      <td>0.272727</td>\n",
       "      <td>0.000463</td>\n",
       "      <td>0.000130</td>\n",
       "    </tr>\n",
       "    <tr>\n",
       "      <th>12</th>\n",
       "      <td>OneVsRestClassifier (SVM)</td>\n",
       "      <td>200</td>\n",
       "      <td>0.2500</td>\n",
       "      <td>0.125000</td>\n",
       "      <td>0.500000</td>\n",
       "      <td>0.200000</td>\n",
       "      <td>0.013595</td>\n",
       "      <td>0.000801</td>\n",
       "    </tr>\n",
       "    <tr>\n",
       "      <th>13</th>\n",
       "      <td>OneVsRestClassifier (SVM)</td>\n",
       "      <td>25</td>\n",
       "      <td>0.5000</td>\n",
       "      <td>0.458333</td>\n",
       "      <td>0.468254</td>\n",
       "      <td>0.445887</td>\n",
       "      <td>0.239557</td>\n",
       "      <td>0.000916</td>\n",
       "    </tr>\n",
       "    <tr>\n",
       "      <th>14</th>\n",
       "      <td>OneVsRestClassifier (SVM)</td>\n",
       "      <td>50</td>\n",
       "      <td>0.1875</td>\n",
       "      <td>0.136364</td>\n",
       "      <td>0.187500</td>\n",
       "      <td>0.157895</td>\n",
       "      <td>0.099290</td>\n",
       "      <td>0.000816</td>\n",
       "    </tr>\n",
       "    <tr>\n",
       "      <th>15</th>\n",
       "      <td>OneVsRestClassifier (SVM)</td>\n",
       "      <td>100</td>\n",
       "      <td>0.3750</td>\n",
       "      <td>0.187500</td>\n",
       "      <td>0.500000</td>\n",
       "      <td>0.272727</td>\n",
       "      <td>0.060151</td>\n",
       "      <td>0.000796</td>\n",
       "    </tr>\n",
       "  </tbody>\n",
       "</table>\n",
       "</div>"
      ],
      "text/plain": [
       "                        Model  Window Size  Accuracy  Precision    Recall  \\\n",
       "0               Random Forest          200    0.5000   0.333333  0.333333   \n",
       "1               Random Forest           25    0.5625   0.281250  0.500000   \n",
       "2               Random Forest           50    0.5000   0.500000  0.500000   \n",
       "3               Random Forest          100    0.3750   0.416667  0.433333   \n",
       "4                         KNN          200    0.2500   0.125000  0.500000   \n",
       "5                         KNN           25    0.5625   0.281250  0.500000   \n",
       "6                         KNN           50    0.1250   0.100000  0.125000   \n",
       "7                         KNN          100    0.3750   0.416667  0.433333   \n",
       "8                         SVM          200    0.2500   0.125000  0.500000   \n",
       "9                         SVM           25    0.5625   0.281250  0.500000   \n",
       "10                        SVM           50    0.5000   0.250000  0.500000   \n",
       "11                        SVM          100    0.3750   0.187500  0.500000   \n",
       "12  OneVsRestClassifier (SVM)          200    0.2500   0.125000  0.500000   \n",
       "13  OneVsRestClassifier (SVM)           25    0.5000   0.458333  0.468254   \n",
       "14  OneVsRestClassifier (SVM)           50    0.1875   0.136364  0.187500   \n",
       "15  OneVsRestClassifier (SVM)          100    0.3750   0.187500  0.500000   \n",
       "\n",
       "    F1-score  Training Time (sec)  Testing Time (sec)  \n",
       "0   0.333333             0.088082            0.004978  \n",
       "1   0.360000             0.085530            0.004846  \n",
       "2   0.418182             0.084783            0.004967  \n",
       "3   0.365079             0.088556            0.004983  \n",
       "4   0.200000             0.000480            0.000692  \n",
       "5   0.360000             0.000488            0.000413  \n",
       "6   0.111111             0.000574            0.000617  \n",
       "7   0.365079             0.000322            0.000577  \n",
       "8   0.200000             0.000690            0.000650  \n",
       "9   0.360000             0.001582            0.000442  \n",
       "10  0.333333             0.000468            0.000149  \n",
       "11  0.272727             0.000463            0.000130  \n",
       "12  0.200000             0.013595            0.000801  \n",
       "13  0.445887             0.239557            0.000916  \n",
       "14  0.157895             0.099290            0.000816  \n",
       "15  0.272727             0.060151            0.000796  "
      ]
     },
     "execution_count": 51,
     "metadata": {},
     "output_type": "execute_result"
    }
   ],
   "source": [
    "net_results.reset_index(drop=True)"
   ]
  },
  {
   "cell_type": "markdown",
   "metadata": {},
   "source": [
    "Here we plot the average results for each model computed with cross validation"
   ]
  },
  {
   "cell_type": "code",
   "execution_count": 52,
   "metadata": {},
   "outputs": [
    {
     "data": {
      "text/html": [
       "<div>\n",
       "<style scoped>\n",
       "    .dataframe tbody tr th:only-of-type {\n",
       "        vertical-align: middle;\n",
       "    }\n",
       "\n",
       "    .dataframe tbody tr th {\n",
       "        vertical-align: top;\n",
       "    }\n",
       "\n",
       "    .dataframe thead th {\n",
       "        text-align: right;\n",
       "    }\n",
       "</style>\n",
       "<table border=\"1\" class=\"dataframe\">\n",
       "  <thead>\n",
       "    <tr style=\"text-align: right;\">\n",
       "      <th></th>\n",
       "      <th>Model</th>\n",
       "      <th>Window Size</th>\n",
       "      <th>Mean Accuracy</th>\n",
       "    </tr>\n",
       "  </thead>\n",
       "  <tbody>\n",
       "    <tr>\n",
       "      <th>0</th>\n",
       "      <td>Random Forest</td>\n",
       "      <td>200</td>\n",
       "      <td>0.688889</td>\n",
       "    </tr>\n",
       "    <tr>\n",
       "      <th>1</th>\n",
       "      <td>Random Forest</td>\n",
       "      <td>25</td>\n",
       "      <td>0.567538</td>\n",
       "    </tr>\n",
       "    <tr>\n",
       "      <th>2</th>\n",
       "      <td>Random Forest</td>\n",
       "      <td>50</td>\n",
       "      <td>0.520833</td>\n",
       "    </tr>\n",
       "    <tr>\n",
       "      <th>3</th>\n",
       "      <td>Random Forest</td>\n",
       "      <td>100</td>\n",
       "      <td>0.466667</td>\n",
       "    </tr>\n",
       "    <tr>\n",
       "      <th>4</th>\n",
       "      <td>KNN</td>\n",
       "      <td>200</td>\n",
       "      <td>0.511111</td>\n",
       "    </tr>\n",
       "    <tr>\n",
       "      <th>5</th>\n",
       "      <td>KNN</td>\n",
       "      <td>25</td>\n",
       "      <td>0.567538</td>\n",
       "    </tr>\n",
       "    <tr>\n",
       "      <th>6</th>\n",
       "      <td>KNN</td>\n",
       "      <td>50</td>\n",
       "      <td>0.557870</td>\n",
       "    </tr>\n",
       "    <tr>\n",
       "      <th>7</th>\n",
       "      <td>KNN</td>\n",
       "      <td>100</td>\n",
       "      <td>0.616667</td>\n",
       "    </tr>\n",
       "    <tr>\n",
       "      <th>8</th>\n",
       "      <td>SVM</td>\n",
       "      <td>200</td>\n",
       "      <td>0.622222</td>\n",
       "    </tr>\n",
       "    <tr>\n",
       "      <th>9</th>\n",
       "      <td>SVM</td>\n",
       "      <td>25</td>\n",
       "      <td>0.615468</td>\n",
       "    </tr>\n",
       "    <tr>\n",
       "      <th>10</th>\n",
       "      <td>SVM</td>\n",
       "      <td>50</td>\n",
       "      <td>0.597222</td>\n",
       "    </tr>\n",
       "    <tr>\n",
       "      <th>11</th>\n",
       "      <td>SVM</td>\n",
       "      <td>100</td>\n",
       "      <td>0.616667</td>\n",
       "    </tr>\n",
       "    <tr>\n",
       "      <th>12</th>\n",
       "      <td>OneVsRestClassifier (SVM)</td>\n",
       "      <td>200</td>\n",
       "      <td>0.511111</td>\n",
       "    </tr>\n",
       "    <tr>\n",
       "      <th>13</th>\n",
       "      <td>OneVsRestClassifier (SVM)</td>\n",
       "      <td>25</td>\n",
       "      <td>0.509804</td>\n",
       "    </tr>\n",
       "    <tr>\n",
       "      <th>14</th>\n",
       "      <td>OneVsRestClassifier (SVM)</td>\n",
       "      <td>50</td>\n",
       "      <td>0.560185</td>\n",
       "    </tr>\n",
       "    <tr>\n",
       "      <th>15</th>\n",
       "      <td>OneVsRestClassifier (SVM)</td>\n",
       "      <td>100</td>\n",
       "      <td>0.541667</td>\n",
       "    </tr>\n",
       "  </tbody>\n",
       "</table>\n",
       "</div>"
      ],
      "text/plain": [
       "                        Model  Window Size  Mean Accuracy\n",
       "0               Random Forest          200       0.688889\n",
       "1               Random Forest           25       0.567538\n",
       "2               Random Forest           50       0.520833\n",
       "3               Random Forest          100       0.466667\n",
       "4                         KNN          200       0.511111\n",
       "5                         KNN           25       0.567538\n",
       "6                         KNN           50       0.557870\n",
       "7                         KNN          100       0.616667\n",
       "8                         SVM          200       0.622222\n",
       "9                         SVM           25       0.615468\n",
       "10                        SVM           50       0.597222\n",
       "11                        SVM          100       0.616667\n",
       "12  OneVsRestClassifier (SVM)          200       0.511111\n",
       "13  OneVsRestClassifier (SVM)           25       0.509804\n",
       "14  OneVsRestClassifier (SVM)           50       0.560185\n",
       "15  OneVsRestClassifier (SVM)          100       0.541667"
      ]
     },
     "execution_count": 52,
     "metadata": {},
     "output_type": "execute_result"
    }
   ],
   "source": [
    "cv_net_results.reset_index(drop=True)"
   ]
  }
 ],
 "metadata": {
  "kernelspec": {
   "display_name": "Python 3",
   "language": "python",
   "name": "python3"
  },
  "language_info": {
   "codemirror_mode": {
    "name": "ipython",
    "version": 3
   },
   "file_extension": ".py",
   "mimetype": "text/x-python",
   "name": "python",
   "nbconvert_exporter": "python",
   "pygments_lexer": "ipython3",
   "version": "3.6.6"
  }
 },
 "nbformat": 4,
 "nbformat_minor": 2
}
