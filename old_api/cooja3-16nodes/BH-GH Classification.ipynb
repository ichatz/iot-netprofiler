{
 "cells": [
  {
   "cell_type": "code",
   "execution_count": 1,
   "metadata": {},
   "outputs": [
    {
     "name": "stderr",
     "output_type": "stream",
     "text": [
      "/Users/lucamaiano/miniconda3/envs/elis/lib/python3.6/site-packages/sklearn/ensemble/weight_boosting.py:29: DeprecationWarning: numpy.core.umath_tests is an internal NumPy module and should not be imported. It will be removed in a future NumPy release.\n",
      "  from numpy.core.umath_tests import inner1d\n"
     ]
    }
   ],
   "source": [
    "import pandas as pd\n",
    "import numpy as np\n",
    "from scipy import stats as sp\n",
    "import sys, os\n",
    "sys.path.append('../')\n",
    "from lib import trace_analysis\n",
    "from lib import plots_analysis\n",
    "from lib import trace_statistics\n",
    "from lib import trace_classification\n",
    "import csv\n",
    "from lib.functions import *\n",
    "import warnings \n",
    "warnings.filterwarnings('ignore')"
   ]
  },
  {
   "cell_type": "markdown",
   "metadata": {},
   "source": [
    "# Data Preparation\n",
    "\n",
    "\n",
    "Prepare the data to be used with kNN"
   ]
  },
  {
   "cell_type": "code",
   "execution_count": 2,
   "metadata": {},
   "outputs": [
    {
     "data": {
      "text/html": [
       "<div>\n",
       "<style scoped>\n",
       "    .dataframe tbody tr th:only-of-type {\n",
       "        vertical-align: middle;\n",
       "    }\n",
       "\n",
       "    .dataframe tbody tr th {\n",
       "        vertical-align: top;\n",
       "    }\n",
       "\n",
       "    .dataframe thead th {\n",
       "        text-align: right;\n",
       "    }\n",
       "</style>\n",
       "<table border=\"1\" class=\"dataframe\">\n",
       "  <thead>\n",
       "    <tr style=\"text-align: right;\">\n",
       "      <th></th>\n",
       "      <th>node_id</th>\n",
       "      <th>experiment</th>\n",
       "      <th>count</th>\n",
       "      <th>mean</th>\n",
       "      <th>var</th>\n",
       "      <th>std</th>\n",
       "      <th>hop</th>\n",
       "      <th>min</th>\n",
       "      <th>max</th>\n",
       "      <th>loss</th>\n",
       "      <th>outliers</th>\n",
       "      <th>label</th>\n",
       "    </tr>\n",
       "  </thead>\n",
       "  <tbody>\n",
       "    <tr>\n",
       "      <th>0</th>\n",
       "      <td>aaaa::212:7409:9:909:</td>\n",
       "      <td>grid_1bh-9_2019-02-20_00:30_</td>\n",
       "      <td>158</td>\n",
       "      <td>306.278481</td>\n",
       "      <td>25524.902846</td>\n",
       "      <td>159.765149</td>\n",
       "      <td>3</td>\n",
       "      <td>163.0</td>\n",
       "      <td>1038.0</td>\n",
       "      <td>0.21</td>\n",
       "      <td>9</td>\n",
       "      <td>BH</td>\n",
       "    </tr>\n",
       "    <tr>\n",
       "      <th>1</th>\n",
       "      <td>aaaa::212:740a:a:a0a:</td>\n",
       "      <td>grid_1bh-9_2019-02-20_00:30_</td>\n",
       "      <td>192</td>\n",
       "      <td>266.895833</td>\n",
       "      <td>6109.654014</td>\n",
       "      <td>78.164276</td>\n",
       "      <td>4</td>\n",
       "      <td>168.0</td>\n",
       "      <td>604.0</td>\n",
       "      <td>0.04</td>\n",
       "      <td>12</td>\n",
       "      <td>BH</td>\n",
       "    </tr>\n",
       "    <tr>\n",
       "      <th>2</th>\n",
       "      <td>aaaa::212:7402:2:202:</td>\n",
       "      <td>grid_1bh-9_2019-02-20_00:30_</td>\n",
       "      <td>186</td>\n",
       "      <td>145.939247</td>\n",
       "      <td>5965.375370</td>\n",
       "      <td>77.235843</td>\n",
       "      <td>2</td>\n",
       "      <td>73.4</td>\n",
       "      <td>622.0</td>\n",
       "      <td>0.07</td>\n",
       "      <td>7</td>\n",
       "      <td>BH</td>\n",
       "    </tr>\n",
       "    <tr>\n",
       "      <th>3</th>\n",
       "      <td>aaaa::212:7408:8:808:</td>\n",
       "      <td>grid_1bh-9_2019-02-20_00:30_</td>\n",
       "      <td>168</td>\n",
       "      <td>245.690476</td>\n",
       "      <td>24507.137154</td>\n",
       "      <td>156.547556</td>\n",
       "      <td>2</td>\n",
       "      <td>102.0</td>\n",
       "      <td>837.0</td>\n",
       "      <td>0.16</td>\n",
       "      <td>13</td>\n",
       "      <td>BH</td>\n",
       "    </tr>\n",
       "    <tr>\n",
       "      <th>4</th>\n",
       "      <td>aaaa::212:7403:3:303:</td>\n",
       "      <td>grid_1bh-9_2019-02-20_00:30_</td>\n",
       "      <td>198</td>\n",
       "      <td>103.561616</td>\n",
       "      <td>5068.714255</td>\n",
       "      <td>71.194903</td>\n",
       "      <td>1</td>\n",
       "      <td>40.0</td>\n",
       "      <td>418.0</td>\n",
       "      <td>0.01</td>\n",
       "      <td>11</td>\n",
       "      <td>BH</td>\n",
       "    </tr>\n",
       "  </tbody>\n",
       "</table>\n",
       "</div>"
      ],
      "text/plain": [
       "                 node_id                    experiment  count        mean  \\\n",
       "0  aaaa::212:7409:9:909:  grid_1bh-9_2019-02-20_00:30_    158  306.278481   \n",
       "1  aaaa::212:740a:a:a0a:  grid_1bh-9_2019-02-20_00:30_    192  266.895833   \n",
       "2  aaaa::212:7402:2:202:  grid_1bh-9_2019-02-20_00:30_    186  145.939247   \n",
       "3  aaaa::212:7408:8:808:  grid_1bh-9_2019-02-20_00:30_    168  245.690476   \n",
       "4  aaaa::212:7403:3:303:  grid_1bh-9_2019-02-20_00:30_    198  103.561616   \n",
       "\n",
       "            var         std  hop    min     max  loss  outliers label  \n",
       "0  25524.902846  159.765149    3  163.0  1038.0  0.21         9    BH  \n",
       "1   6109.654014   78.164276    4  168.0   604.0  0.04        12    BH  \n",
       "2   5965.375370   77.235843    2   73.4   622.0  0.07         7    BH  \n",
       "3  24507.137154  156.547556    2  102.0   837.0  0.16        13    BH  \n",
       "4   5068.714255   71.194903    1   40.0   418.0  0.01        11    BH  "
      ]
     },
     "execution_count": 2,
     "metadata": {},
     "output_type": "execute_result"
    }
   ],
   "source": [
    "plots = set()\n",
    "with open('traces/traces.csv') as csv_file:\n",
    "    csv_reader = csv.reader(csv_file, delimiter=',')\n",
    "    line_count = 0\n",
    "    for row in csv_reader:\n",
    "        if line_count == 0 or row[2].find('normal') >= 0:\n",
    "            line_count += 1\n",
    "            continue\n",
    "        else:\n",
    "            plots.add((row[1], row[2]))\n",
    "\n",
    "plots = list(plots)  \n",
    "\n",
    "stats = None\n",
    "win_25_stats = None\n",
    "win_50_stats = None\n",
    "win_100_stats = None\n",
    "\n",
    "for row in plots:\n",
    "    experiment = row[1]\n",
    "    \n",
    "    # Assign a label\n",
    "    if row[1].find('gh') >= 0:\n",
    "        label = 'GH'\n",
    "    else:\n",
    "        label = 'BH'\n",
    "    nodes, packets_node = trace_analysis.process_cooja2_traces(row[0], row[1])\n",
    "    \n",
    "    # Update stats\n",
    "    if stats is None:\n",
    "        stats = trace_statistics.compute_labeled_statistics(nodes, packets_node, label, experiment)\n",
    "        win_25_stats = trace_statistics.compute_window_labeled_statistics(nodes, packets_node, label, experiment, 25)\n",
    "        win_50_stats = trace_statistics.compute_window_labeled_statistics(nodes, packets_node, label, experiment, 50)\n",
    "        win_100_stats = trace_statistics.compute_window_labeled_statistics(nodes, packets_node, label, experiment, 100)\n",
    "    else:\n",
    "        stats = pd.concat([stats, trace_statistics.compute_labeled_statistics(nodes, packets_node, label, experiment)])\n",
    "        win_25_stats = pd.concat([win_25_stats, trace_statistics.compute_window_labeled_statistics(nodes, packets_node, label, experiment, 25)])\n",
    "        win_50_stats = pd.concat([win_50_stats, trace_statistics.compute_window_labeled_statistics(nodes, packets_node, label, experiment, 50)])\n",
    "        win_100_stats = pd.concat([win_100_stats, trace_statistics.compute_window_labeled_statistics(nodes, packets_node, label, experiment, 100)])\n",
    "        \n",
    "stats = stats.reset_index(drop=True)\n",
    "win_25_stats = win_25_stats.reset_index(drop=True)\n",
    "win_50_stats = win_50_stats.reset_index(drop=True)\n",
    "win_100_stats = win_100_stats.reset_index(drop=True)\n",
    "\n",
    "# Create a dictionary containing all the statistics for each trace size\n",
    "trace_stats = {200: stats, 25: win_25_stats, 50: win_50_stats, 100: win_100_stats}\n",
    "stats.head(5)"
   ]
  },
  {
   "cell_type": "markdown",
   "metadata": {},
   "source": [
    "Stats for single network"
   ]
  },
  {
   "cell_type": "code",
   "execution_count": 3,
   "metadata": {},
   "outputs": [
    {
     "data": {
      "text/html": [
       "<div>\n",
       "<style scoped>\n",
       "    .dataframe tbody tr th:only-of-type {\n",
       "        vertical-align: middle;\n",
       "    }\n",
       "\n",
       "    .dataframe tbody tr th {\n",
       "        vertical-align: top;\n",
       "    }\n",
       "\n",
       "    .dataframe thead th {\n",
       "        text-align: right;\n",
       "    }\n",
       "</style>\n",
       "<table border=\"1\" class=\"dataframe\">\n",
       "  <thead>\n",
       "    <tr style=\"text-align: right;\">\n",
       "      <th></th>\n",
       "      <th>experiment</th>\n",
       "      <th>label</th>\n",
       "      <th>1</th>\n",
       "      <th>2</th>\n",
       "      <th>3</th>\n",
       "      <th>4</th>\n",
       "      <th>5</th>\n",
       "      <th>6</th>\n",
       "      <th>7</th>\n",
       "      <th>8</th>\n",
       "      <th>9</th>\n",
       "      <th>10</th>\n",
       "      <th>11</th>\n",
       "      <th>12</th>\n",
       "      <th>13</th>\n",
       "      <th>14</th>\n",
       "      <th>15</th>\n",
       "      <th>16</th>\n",
       "    </tr>\n",
       "  </thead>\n",
       "  <tbody>\n",
       "    <tr>\n",
       "      <th>0</th>\n",
       "      <td>grid_1bh-7_2019-02-19_22:13_</td>\n",
       "      <td>BH</td>\n",
       "      <td>0.275</td>\n",
       "      <td>0.220</td>\n",
       "      <td>0.200</td>\n",
       "      <td>0.240</td>\n",
       "      <td>0.170</td>\n",
       "      <td>0.100</td>\n",
       "      <td>0.190</td>\n",
       "      <td>0.215</td>\n",
       "      <td>0.240</td>\n",
       "      <td>0.230</td>\n",
       "      <td>0.305</td>\n",
       "      <td>0.170</td>\n",
       "      <td>0.080</td>\n",
       "      <td>0.255</td>\n",
       "      <td>9.223372e+18</td>\n",
       "      <td>9.223372e+18</td>\n",
       "    </tr>\n",
       "    <tr>\n",
       "      <th>1</th>\n",
       "      <td>grid_1bh-9_2019-02-20_00:30_</td>\n",
       "      <td>BH</td>\n",
       "      <td>0.210</td>\n",
       "      <td>0.100</td>\n",
       "      <td>0.205</td>\n",
       "      <td>0.125</td>\n",
       "      <td>0.250</td>\n",
       "      <td>0.130</td>\n",
       "      <td>0.015</td>\n",
       "      <td>0.075</td>\n",
       "      <td>0.025</td>\n",
       "      <td>0.010</td>\n",
       "      <td>0.160</td>\n",
       "      <td>0.070</td>\n",
       "      <td>0.040</td>\n",
       "      <td>0.045</td>\n",
       "      <td>9.223372e+18</td>\n",
       "      <td>9.223372e+18</td>\n",
       "    </tr>\n",
       "    <tr>\n",
       "      <th>2</th>\n",
       "      <td>grid_1gh30-7_2019-02-19_22:35_</td>\n",
       "      <td>GH</td>\n",
       "      <td>0.335</td>\n",
       "      <td>0.825</td>\n",
       "      <td>0.475</td>\n",
       "      <td>0.235</td>\n",
       "      <td>0.705</td>\n",
       "      <td>0.480</td>\n",
       "      <td>0.890</td>\n",
       "      <td>0.550</td>\n",
       "      <td>0.380</td>\n",
       "      <td>0.885</td>\n",
       "      <td>0.455</td>\n",
       "      <td>0.695</td>\n",
       "      <td>0.705</td>\n",
       "      <td>0.350</td>\n",
       "      <td>4.250000e-01</td>\n",
       "      <td>6.350000e-01</td>\n",
       "    </tr>\n",
       "    <tr>\n",
       "      <th>3</th>\n",
       "      <td>grid_1gh30-9_2019-02-20_00:12_</td>\n",
       "      <td>GH</td>\n",
       "      <td>0.155</td>\n",
       "      <td>0.220</td>\n",
       "      <td>0.790</td>\n",
       "      <td>0.120</td>\n",
       "      <td>0.060</td>\n",
       "      <td>0.220</td>\n",
       "      <td>0.180</td>\n",
       "      <td>0.115</td>\n",
       "      <td>0.760</td>\n",
       "      <td>0.125</td>\n",
       "      <td>0.180</td>\n",
       "      <td>0.070</td>\n",
       "      <td>0.105</td>\n",
       "      <td>0.320</td>\n",
       "      <td>1.550000e-01</td>\n",
       "      <td>6.500000e-02</td>\n",
       "    </tr>\n",
       "    <tr>\n",
       "      <th>4</th>\n",
       "      <td>grid_1gh50-7_2019-02-19_22:53_</td>\n",
       "      <td>GH</td>\n",
       "      <td>0.270</td>\n",
       "      <td>0.650</td>\n",
       "      <td>0.300</td>\n",
       "      <td>0.345</td>\n",
       "      <td>0.170</td>\n",
       "      <td>0.205</td>\n",
       "      <td>0.350</td>\n",
       "      <td>0.360</td>\n",
       "      <td>0.165</td>\n",
       "      <td>0.315</td>\n",
       "      <td>0.160</td>\n",
       "      <td>0.300</td>\n",
       "      <td>0.145</td>\n",
       "      <td>0.580</td>\n",
       "      <td>6.250000e-01</td>\n",
       "      <td>1.700000e-01</td>\n",
       "    </tr>\n",
       "  </tbody>\n",
       "</table>\n",
       "</div>"
      ],
      "text/plain": [
       "                       experiment label      1      2      3      4      5  \\\n",
       "0    grid_1bh-7_2019-02-19_22:13_    BH  0.275  0.220  0.200  0.240  0.170   \n",
       "1    grid_1bh-9_2019-02-20_00:30_    BH  0.210  0.100  0.205  0.125  0.250   \n",
       "2  grid_1gh30-7_2019-02-19_22:35_    GH  0.335  0.825  0.475  0.235  0.705   \n",
       "3  grid_1gh30-9_2019-02-20_00:12_    GH  0.155  0.220  0.790  0.120  0.060   \n",
       "4  grid_1gh50-7_2019-02-19_22:53_    GH  0.270  0.650  0.300  0.345  0.170   \n",
       "\n",
       "       6      7      8      9     10     11     12     13     14  \\\n",
       "0  0.100  0.190  0.215  0.240  0.230  0.305  0.170  0.080  0.255   \n",
       "1  0.130  0.015  0.075  0.025  0.010  0.160  0.070  0.040  0.045   \n",
       "2  0.480  0.890  0.550  0.380  0.885  0.455  0.695  0.705  0.350   \n",
       "3  0.220  0.180  0.115  0.760  0.125  0.180  0.070  0.105  0.320   \n",
       "4  0.205  0.350  0.360  0.165  0.315  0.160  0.300  0.145  0.580   \n",
       "\n",
       "             15            16  \n",
       "0  9.223372e+18  9.223372e+18  \n",
       "1  9.223372e+18  9.223372e+18  \n",
       "2  4.250000e-01  6.350000e-01  \n",
       "3  1.550000e-01  6.500000e-02  \n",
       "4  6.250000e-01  1.700000e-01  "
      ]
     },
     "execution_count": 3,
     "metadata": {},
     "output_type": "execute_result"
    }
   ],
   "source": [
    "net_stats = trace_statistics.compute_labeled_statistics_by_network(stats, 'loss', 16)\n",
    "net_win_25_stats = trace_statistics.compute_window_labeled_statistics_by_network(win_25_stats, 'loss', 16, 25)\n",
    "net_win_50_stats = trace_statistics.compute_window_labeled_statistics_by_network(win_50_stats, 'loss', 16, 50)\n",
    "net_win_100_stats = trace_statistics.compute_window_labeled_statistics_by_network(win_100_stats, 'loss', 16, 100)\n",
    "\n",
    "# Create a dictionary containing all the statistics for each trace size\n",
    "network_stats = {200: net_stats, 25: net_win_25_stats, 50: net_win_50_stats, 100: net_win_100_stats}\n",
    "net_stats.head(5)"
   ]
  },
  {
   "cell_type": "markdown",
   "metadata": {},
   "source": [
    "# Feature Selection\n",
    "\n",
    "Select the set of features and labels that we use to fit the algorithm"
   ]
  },
  {
   "cell_type": "code",
   "execution_count": 4,
   "metadata": {},
   "outputs": [
    {
     "data": {
      "image/png": "[encoded data removed]",
      "text/plain": [
       "<Figure size 864x576 with 4 Axes>"
      ]
     },
     "metadata": {
      "needs_background": "light"
     },
     "output_type": "display_data"
    }
   ],
   "source": [
    "plots_analysis.random_forests_features_selection(trace_stats)"
   ]
  },
  {
   "cell_type": "code",
   "execution_count": 5,
   "metadata": {},
   "outputs": [],
   "source": [
    "results = None            # Results from each classification algorithm\n",
    "cv_results = None         # Cross validation results from each classification algorithm\n",
    "net_results = None            # Results from each classification algorithm\n",
    "cv_net_results = None         # Cross validation results from each classification algorithm\n",
    "\n",
    "features_to_drop = ['node_id', 'experiment', 'label', 'loss', 'count', 'outliers']\n",
    "net_features_to_drop = ['experiment', 'label']"
   ]
  },
  {
   "cell_type": "markdown",
   "metadata": {},
   "source": [
    "# Random Forests Classifier\n",
    "\n",
    "Let us experiment with random forests. First, let us select most relevant features."
   ]
  },
  {
   "cell_type": "code",
   "execution_count": 6,
   "metadata": {},
   "outputs": [
    {
     "name": "stdout",
     "output_type": "stream",
     "text": [
      "Computing trace 200\n",
      "Computing trace 25\n",
      "Computing trace 50\n",
      "Computing trace 100\n"
     ]
    }
   ],
   "source": [
    "results = pd.concat([results, \n",
    "                     trace_classification.random_forest_classification(trace_stats, features_to_drop)\n",
    "                    ])"
   ]
  },
  {
   "cell_type": "markdown",
   "metadata": {},
   "source": [
    "We want to compute average accuracy for each trace size (i.e. for each window size from 200 - the entire window - to 100, 50 and 25)"
   ]
  },
  {
   "cell_type": "code",
   "execution_count": 7,
   "metadata": {},
   "outputs": [
    {
     "name": "stdout",
     "output_type": "stream",
     "text": [
      "Computing trace 200\n",
      "Computing trace 25\n",
      "Computing trace 50\n",
      "Computing trace 100\n"
     ]
    }
   ],
   "source": [
    "cv_results = pd.concat([cv_results, \n",
    "                     trace_classification.random_forest_cross_validation(trace_stats, features_to_drop)\n",
    "                    ])"
   ]
  },
  {
   "cell_type": "markdown",
   "metadata": {},
   "source": [
    "Let's do the same for the whole network"
   ]
  },
  {
   "cell_type": "code",
   "execution_count": 8,
   "metadata": {},
   "outputs": [
    {
     "name": "stdout",
     "output_type": "stream",
     "text": [
      "Computing trace 200\n",
      "Computing trace 25\n",
      "Computing trace 50\n",
      "Computing trace 100\n"
     ]
    }
   ],
   "source": [
    "net_results = pd.concat([net_results, \n",
    "                     trace_classification.random_forest_classification(network_stats, net_features_to_drop)\n",
    "                    ])"
   ]
  },
  {
   "cell_type": "markdown",
   "metadata": {},
   "source": [
    "Cross validation"
   ]
  },
  {
   "cell_type": "code",
   "execution_count": 9,
   "metadata": {},
   "outputs": [
    {
     "name": "stdout",
     "output_type": "stream",
     "text": [
      "Computing trace 200\n",
      "Computing trace 25\n",
      "Computing trace 50\n",
      "Computing trace 100\n"
     ]
    }
   ],
   "source": [
    "cv_net_results = pd.concat([cv_net_results, \n",
    "                     trace_classification.random_forest_cross_validation(network_stats, net_features_to_drop, cross_val=3)\n",
    "                    ])"
   ]
  },
  {
   "cell_type": "markdown",
   "metadata": {},
   "source": [
    "# K-Nearest Neighbor (KNN) Classification\n",
    "\n",
    "Let us first observe the accuracies for different values of k"
   ]
  },
  {
   "cell_type": "code",
   "execution_count": 10,
   "metadata": {},
   "outputs": [
    {
     "data": {
      "image/png": "[encoded data removed]",
      "text/plain": [
       "<Figure size 864x576 with 4 Axes>"
      ]
     },
     "metadata": {
      "needs_background": "light"
     },
     "output_type": "display_data"
    }
   ],
   "source": [
    "plots_analysis.knn_test_number_of_neighbors(trace_stats, 30)"
   ]
  },
  {
   "cell_type": "markdown",
   "metadata": {},
   "source": [
    "Let's build KNN classifier "
   ]
  },
  {
   "cell_type": "code",
   "execution_count": 11,
   "metadata": {},
   "outputs": [
    {
     "name": "stdout",
     "output_type": "stream",
     "text": [
      "Computing trace 200\n",
      "Computing trace 25\n",
      "Computing trace 50\n",
      "Computing trace 100\n"
     ]
    }
   ],
   "source": [
    "results = pd.concat([results, \n",
    "                     trace_classification.k_nearest_neighbor_classification(trace_stats, features_to_drop, n_neighbors=17)\n",
    "                    ])"
   ]
  },
  {
   "cell_type": "markdown",
   "metadata": {},
   "source": [
    "We want to compute average accuracy for each trace size (i.e. for each window size from 200 - the entire window - to 100, 50 and 25)"
   ]
  },
  {
   "cell_type": "code",
   "execution_count": 12,
   "metadata": {},
   "outputs": [
    {
     "name": "stdout",
     "output_type": "stream",
     "text": [
      "Computing trace 200\n",
      "Computing trace 25\n",
      "Computing trace 50\n",
      "Computing trace 100\n"
     ]
    }
   ],
   "source": [
    "cv_results = pd.concat([cv_results, \n",
    "                     trace_classification.k_nearest_neighbor_cross_validation(trace_stats, features_to_drop, n_neighbors=17)\n",
    "                    ])"
   ]
  },
  {
   "cell_type": "markdown",
   "metadata": {},
   "source": [
    "Let's do the same for the whole network"
   ]
  },
  {
   "cell_type": "code",
   "execution_count": 13,
   "metadata": {},
   "outputs": [
    {
     "name": "stdout",
     "output_type": "stream",
     "text": [
      "Computing trace 200\n",
      "Computing trace 25\n",
      "Computing trace 50\n",
      "Computing trace 100\n"
     ]
    }
   ],
   "source": [
    "net_results = pd.concat([net_results, \n",
    "                     trace_classification.k_nearest_neighbor_classification(network_stats, net_features_to_drop)\n",
    "                    ])"
   ]
  },
  {
   "cell_type": "markdown",
   "metadata": {},
   "source": [
    "Cross validation"
   ]
  },
  {
   "cell_type": "code",
   "execution_count": 14,
   "metadata": {},
   "outputs": [
    {
     "name": "stdout",
     "output_type": "stream",
     "text": [
      "Computing trace 200\n",
      "Computing trace 25\n",
      "Computing trace 50\n",
      "Computing trace 100\n"
     ]
    }
   ],
   "source": [
    "cv_net_results = pd.concat([cv_net_results, \n",
    "                     trace_classification.k_nearest_neighbor_cross_validation(network_stats, net_features_to_drop, cross_val=3)\n",
    "                    ])"
   ]
  },
  {
   "cell_type": "markdown",
   "metadata": {},
   "source": [
    "# Support Vector Machines (SVM) Classification\n",
    "\n",
    "Let us experiment with another classifier"
   ]
  },
  {
   "cell_type": "code",
   "execution_count": 15,
   "metadata": {},
   "outputs": [
    {
     "name": "stdout",
     "output_type": "stream",
     "text": [
      "Computing trace 200\n",
      "Computing trace 25\n",
      "Computing trace 50\n",
      "Computing trace 100\n"
     ]
    }
   ],
   "source": [
    "results = pd.concat([results, \n",
    "                     trace_classification.support_vector_machines_classification(trace_stats, features_to_drop, kernel='rbf')\n",
    "                    ])"
   ]
  },
  {
   "cell_type": "markdown",
   "metadata": {},
   "source": [
    "We want to compute average accuracy for each trace size (i.e. for each window size from 200 - the entire window - to 100, 50 and 25)"
   ]
  },
  {
   "cell_type": "code",
   "execution_count": 16,
   "metadata": {},
   "outputs": [
    {
     "name": "stdout",
     "output_type": "stream",
     "text": [
      "Computing trace 200\n",
      "Computing trace 25\n",
      "Computing trace 50\n",
      "Computing trace 100\n"
     ]
    }
   ],
   "source": [
    "cv_results = pd.concat([cv_results, \n",
    "                     trace_classification.support_vector_machines_cross_validation(trace_stats, features_to_drop, kernel='rbf')\n",
    "                    ])"
   ]
  },
  {
   "cell_type": "markdown",
   "metadata": {},
   "source": [
    "Let's do the same for the whole network"
   ]
  },
  {
   "cell_type": "code",
   "execution_count": 17,
   "metadata": {},
   "outputs": [
    {
     "name": "stdout",
     "output_type": "stream",
     "text": [
      "Computing trace 200\n",
      "Computing trace 25\n",
      "Computing trace 50\n",
      "Computing trace 100\n"
     ]
    }
   ],
   "source": [
    "net_results = pd.concat([net_results, \n",
    "                     trace_classification.support_vector_machines_classification(network_stats, net_features_to_drop, kernel='rbf')\n",
    "                    ])"
   ]
  },
  {
   "cell_type": "markdown",
   "metadata": {},
   "source": [
    "Cross validation"
   ]
  },
  {
   "cell_type": "code",
   "execution_count": 18,
   "metadata": {},
   "outputs": [
    {
     "name": "stdout",
     "output_type": "stream",
     "text": [
      "Computing trace 200\n",
      "Computing trace 25\n",
      "Computing trace 50\n",
      "Computing trace 100\n"
     ]
    }
   ],
   "source": [
    "cv_net_results = pd.concat([cv_net_results, \n",
    "                     trace_classification.support_vector_machines_cross_validation(network_stats, net_features_to_drop, cross_val=3)\n",
    "                    ])"
   ]
  },
  {
   "cell_type": "markdown",
   "metadata": {},
   "source": [
    "# One Vs The Rest Classifier\n",
    "\n",
    "SVM performs really well, but it is slow. Now we try to implement it in a most efficient way. The strategy consists in fitting one classifier per class. For each classifier, the class is fitted against all the other classes"
   ]
  },
  {
   "cell_type": "code",
   "execution_count": 19,
   "metadata": {},
   "outputs": [
    {
     "name": "stdout",
     "output_type": "stream",
     "text": [
      "Computing trace 200\n",
      "Computing trace 25\n",
      "Computing trace 50\n",
      "Computing trace 100\n"
     ]
    }
   ],
   "source": [
    "results = pd.concat([results, \n",
    "                     trace_classification.ensalble_svm_classification(trace_stats, features_to_drop, n_estimators=10)\n",
    "                    ])"
   ]
  },
  {
   "cell_type": "markdown",
   "metadata": {},
   "source": [
    "Cross validate"
   ]
  },
  {
   "cell_type": "code",
   "execution_count": 20,
   "metadata": {},
   "outputs": [
    {
     "name": "stdout",
     "output_type": "stream",
     "text": [
      "Computing trace 200\n",
      "Computing trace 25\n",
      "Computing trace 50\n",
      "Computing trace 100\n"
     ]
    }
   ],
   "source": [
    "cv_results = pd.concat([cv_results, \n",
    "                     trace_classification.ensalble_svm_cross_validation(trace_stats, features_to_drop, n_estimators=15)\n",
    "                    ])\n",
    "                    "
   ]
  },
  {
   "cell_type": "markdown",
   "metadata": {},
   "source": [
    "Let's do the same for the whole network"
   ]
  },
  {
   "cell_type": "code",
   "execution_count": 21,
   "metadata": {},
   "outputs": [
    {
     "name": "stdout",
     "output_type": "stream",
     "text": [
      "Computing trace 200\n",
      "Computing trace 25\n",
      "Computing trace 50\n",
      "Computing trace 100\n"
     ]
    }
   ],
   "source": [
    "net_results = pd.concat([net_results, \n",
    "                     trace_classification.ensalble_svm_classification(network_stats, net_features_to_drop)\n",
    "                    ])"
   ]
  },
  {
   "cell_type": "markdown",
   "metadata": {},
   "source": [
    "Cross validation"
   ]
  },
  {
   "cell_type": "code",
   "execution_count": 22,
   "metadata": {},
   "outputs": [
    {
     "name": "stdout",
     "output_type": "stream",
     "text": [
      "Computing trace 200\n",
      "Computing trace 25\n",
      "Computing trace 50\n",
      "Computing trace 100\n"
     ]
    }
   ],
   "source": [
    "cv_net_results = pd.concat([cv_net_results, \n",
    "                     trace_classification.ensalble_svm_cross_validation(network_stats, net_features_to_drop, cross_val=3)\n",
    "                    ])\n"
   ]
  },
  {
   "cell_type": "markdown",
   "metadata": {},
   "source": [
    "# Per Node Results\n",
    "Results from each model"
   ]
  },
  {
   "cell_type": "code",
   "execution_count": 23,
   "metadata": {},
   "outputs": [
    {
     "data": {
      "text/html": [
       "<div>\n",
       "<style scoped>\n",
       "    .dataframe tbody tr th:only-of-type {\n",
       "        vertical-align: middle;\n",
       "    }\n",
       "\n",
       "    .dataframe tbody tr th {\n",
       "        vertical-align: top;\n",
       "    }\n",
       "\n",
       "    .dataframe thead th {\n",
       "        text-align: right;\n",
       "    }\n",
       "</style>\n",
       "<table border=\"1\" class=\"dataframe\">\n",
       "  <thead>\n",
       "    <tr style=\"text-align: right;\">\n",
       "      <th></th>\n",
       "      <th>Model</th>\n",
       "      <th>Window Size</th>\n",
       "      <th>Accuracy</th>\n",
       "      <th>Precision</th>\n",
       "      <th>Recall</th>\n",
       "      <th>F1-score</th>\n",
       "      <th>Training Time (sec)</th>\n",
       "      <th>Testing Time (sec)</th>\n",
       "    </tr>\n",
       "  </thead>\n",
       "  <tbody>\n",
       "    <tr>\n",
       "      <th>0</th>\n",
       "      <td>Random Forest</td>\n",
       "      <td>200</td>\n",
       "      <td>0.631579</td>\n",
       "      <td>0.445833</td>\n",
       "      <td>0.445833</td>\n",
       "      <td>0.445833</td>\n",
       "      <td>0.104455</td>\n",
       "      <td>0.004858</td>\n",
       "    </tr>\n",
       "    <tr>\n",
       "      <th>1</th>\n",
       "      <td>Random Forest</td>\n",
       "      <td>25</td>\n",
       "      <td>0.638767</td>\n",
       "      <td>0.485735</td>\n",
       "      <td>0.493772</td>\n",
       "      <td>0.458392</td>\n",
       "      <td>0.128367</td>\n",
       "      <td>0.007430</td>\n",
       "    </tr>\n",
       "    <tr>\n",
       "      <th>2</th>\n",
       "      <td>Random Forest</td>\n",
       "      <td>50</td>\n",
       "      <td>0.709677</td>\n",
       "      <td>0.538324</td>\n",
       "      <td>0.533752</td>\n",
       "      <td>0.535000</td>\n",
       "      <td>0.106334</td>\n",
       "      <td>0.006602</td>\n",
       "    </tr>\n",
       "    <tr>\n",
       "      <th>3</th>\n",
       "      <td>Random Forest</td>\n",
       "      <td>100</td>\n",
       "      <td>0.681159</td>\n",
       "      <td>0.439549</td>\n",
       "      <td>0.465212</td>\n",
       "      <td>0.445175</td>\n",
       "      <td>0.092678</td>\n",
       "      <td>0.005494</td>\n",
       "    </tr>\n",
       "    <tr>\n",
       "      <th>4</th>\n",
       "      <td>KNN</td>\n",
       "      <td>200</td>\n",
       "      <td>0.789474</td>\n",
       "      <td>0.394737</td>\n",
       "      <td>0.500000</td>\n",
       "      <td>0.441176</td>\n",
       "      <td>0.000553</td>\n",
       "      <td>0.000810</td>\n",
       "    </tr>\n",
       "    <tr>\n",
       "      <th>5</th>\n",
       "      <td>KNN</td>\n",
       "      <td>25</td>\n",
       "      <td>0.682819</td>\n",
       "      <td>0.341410</td>\n",
       "      <td>0.500000</td>\n",
       "      <td>0.405759</td>\n",
       "      <td>0.000965</td>\n",
       "      <td>0.001084</td>\n",
       "    </tr>\n",
       "    <tr>\n",
       "      <th>6</th>\n",
       "      <td>KNN</td>\n",
       "      <td>50</td>\n",
       "      <td>0.717742</td>\n",
       "      <td>0.468815</td>\n",
       "      <td>0.482339</td>\n",
       "      <td>0.467550</td>\n",
       "      <td>0.000827</td>\n",
       "      <td>0.001169</td>\n",
       "    </tr>\n",
       "    <tr>\n",
       "      <th>7</th>\n",
       "      <td>KNN</td>\n",
       "      <td>100</td>\n",
       "      <td>0.768116</td>\n",
       "      <td>0.642308</td>\n",
       "      <td>0.543632</td>\n",
       "      <td>0.532203</td>\n",
       "      <td>0.000697</td>\n",
       "      <td>0.001546</td>\n",
       "    </tr>\n",
       "    <tr>\n",
       "      <th>8</th>\n",
       "      <td>SVM</td>\n",
       "      <td>200</td>\n",
       "      <td>0.789474</td>\n",
       "      <td>0.394737</td>\n",
       "      <td>0.500000</td>\n",
       "      <td>0.441176</td>\n",
       "      <td>0.001160</td>\n",
       "      <td>0.000909</td>\n",
       "    </tr>\n",
       "    <tr>\n",
       "      <th>9</th>\n",
       "      <td>SVM</td>\n",
       "      <td>25</td>\n",
       "      <td>0.682819</td>\n",
       "      <td>0.341410</td>\n",
       "      <td>0.500000</td>\n",
       "      <td>0.405759</td>\n",
       "      <td>0.007849</td>\n",
       "      <td>0.001338</td>\n",
       "    </tr>\n",
       "    <tr>\n",
       "      <th>10</th>\n",
       "      <td>SVM</td>\n",
       "      <td>50</td>\n",
       "      <td>0.790323</td>\n",
       "      <td>0.395161</td>\n",
       "      <td>0.500000</td>\n",
       "      <td>0.441441</td>\n",
       "      <td>0.002601</td>\n",
       "      <td>0.000551</td>\n",
       "    </tr>\n",
       "    <tr>\n",
       "      <th>11</th>\n",
       "      <td>SVM</td>\n",
       "      <td>100</td>\n",
       "      <td>0.768116</td>\n",
       "      <td>0.384058</td>\n",
       "      <td>0.500000</td>\n",
       "      <td>0.434426</td>\n",
       "      <td>0.001455</td>\n",
       "      <td>0.000332</td>\n",
       "    </tr>\n",
       "    <tr>\n",
       "      <th>12</th>\n",
       "      <td>OneVsRestClassifier (SVM)</td>\n",
       "      <td>200</td>\n",
       "      <td>0.342105</td>\n",
       "      <td>0.342105</td>\n",
       "      <td>0.262500</td>\n",
       "      <td>0.281935</td>\n",
       "      <td>0.276629</td>\n",
       "      <td>0.001144</td>\n",
       "    </tr>\n",
       "    <tr>\n",
       "      <th>13</th>\n",
       "      <td>OneVsRestClassifier (SVM)</td>\n",
       "      <td>25</td>\n",
       "      <td>0.506608</td>\n",
       "      <td>0.415255</td>\n",
       "      <td>0.419310</td>\n",
       "      <td>0.416988</td>\n",
       "      <td>1.697126</td>\n",
       "      <td>0.001003</td>\n",
       "    </tr>\n",
       "    <tr>\n",
       "      <th>14</th>\n",
       "      <td>OneVsRestClassifier (SVM)</td>\n",
       "      <td>50</td>\n",
       "      <td>0.395161</td>\n",
       "      <td>0.463250</td>\n",
       "      <td>0.447802</td>\n",
       "      <td>0.377302</td>\n",
       "      <td>0.926404</td>\n",
       "      <td>0.001039</td>\n",
       "    </tr>\n",
       "    <tr>\n",
       "      <th>15</th>\n",
       "      <td>OneVsRestClassifier (SVM)</td>\n",
       "      <td>100</td>\n",
       "      <td>0.391304</td>\n",
       "      <td>0.495536</td>\n",
       "      <td>0.494693</td>\n",
       "      <td>0.388091</td>\n",
       "      <td>0.499115</td>\n",
       "      <td>0.002232</td>\n",
       "    </tr>\n",
       "  </tbody>\n",
       "</table>\n",
       "</div>"
      ],
      "text/plain": [
       "                        Model  Window Size  Accuracy  Precision    Recall  \\\n",
       "0               Random Forest          200  0.631579   0.445833  0.445833   \n",
       "1               Random Forest           25  0.638767   0.485735  0.493772   \n",
       "2               Random Forest           50  0.709677   0.538324  0.533752   \n",
       "3               Random Forest          100  0.681159   0.439549  0.465212   \n",
       "4                         KNN          200  0.789474   0.394737  0.500000   \n",
       "5                         KNN           25  0.682819   0.341410  0.500000   \n",
       "6                         KNN           50  0.717742   0.468815  0.482339   \n",
       "7                         KNN          100  0.768116   0.642308  0.543632   \n",
       "8                         SVM          200  0.789474   0.394737  0.500000   \n",
       "9                         SVM           25  0.682819   0.341410  0.500000   \n",
       "10                        SVM           50  0.790323   0.395161  0.500000   \n",
       "11                        SVM          100  0.768116   0.384058  0.500000   \n",
       "12  OneVsRestClassifier (SVM)          200  0.342105   0.342105  0.262500   \n",
       "13  OneVsRestClassifier (SVM)           25  0.506608   0.415255  0.419310   \n",
       "14  OneVsRestClassifier (SVM)           50  0.395161   0.463250  0.447802   \n",
       "15  OneVsRestClassifier (SVM)          100  0.391304   0.495536  0.494693   \n",
       "\n",
       "    F1-score  Training Time (sec)  Testing Time (sec)  \n",
       "0   0.445833             0.104455            0.004858  \n",
       "1   0.458392             0.128367            0.007430  \n",
       "2   0.535000             0.106334            0.006602  \n",
       "3   0.445175             0.092678            0.005494  \n",
       "4   0.441176             0.000553            0.000810  \n",
       "5   0.405759             0.000965            0.001084  \n",
       "6   0.467550             0.000827            0.001169  \n",
       "7   0.532203             0.000697            0.001546  \n",
       "8   0.441176             0.001160            0.000909  \n",
       "9   0.405759             0.007849            0.001338  \n",
       "10  0.441441             0.002601            0.000551  \n",
       "11  0.434426             0.001455            0.000332  \n",
       "12  0.281935             0.276629            0.001144  \n",
       "13  0.416988             1.697126            0.001003  \n",
       "14  0.377302             0.926404            0.001039  \n",
       "15  0.388091             0.499115            0.002232  "
      ]
     },
     "execution_count": 23,
     "metadata": {},
     "output_type": "execute_result"
    }
   ],
   "source": [
    "results.reset_index(drop=True)"
   ]
  },
  {
   "cell_type": "markdown",
   "metadata": {},
   "source": [
    "Here we plot the average results for each model computed with cross validation"
   ]
  },
  {
   "cell_type": "code",
   "execution_count": 24,
   "metadata": {
    "scrolled": true
   },
   "outputs": [
    {
     "data": {
      "text/html": [
       "<div>\n",
       "<style scoped>\n",
       "    .dataframe tbody tr th:only-of-type {\n",
       "        vertical-align: middle;\n",
       "    }\n",
       "\n",
       "    .dataframe tbody tr th {\n",
       "        vertical-align: top;\n",
       "    }\n",
       "\n",
       "    .dataframe thead th {\n",
       "        text-align: right;\n",
       "    }\n",
       "</style>\n",
       "<table border=\"1\" class=\"dataframe\">\n",
       "  <thead>\n",
       "    <tr style=\"text-align: right;\">\n",
       "      <th></th>\n",
       "      <th>Model</th>\n",
       "      <th>Window Size</th>\n",
       "      <th>Mean Accuracy</th>\n",
       "    </tr>\n",
       "  </thead>\n",
       "  <tbody>\n",
       "    <tr>\n",
       "      <th>0</th>\n",
       "      <td>Random Forest</td>\n",
       "      <td>200</td>\n",
       "      <td>0.695744</td>\n",
       "    </tr>\n",
       "    <tr>\n",
       "      <th>1</th>\n",
       "      <td>Random Forest</td>\n",
       "      <td>25</td>\n",
       "      <td>0.647898</td>\n",
       "    </tr>\n",
       "    <tr>\n",
       "      <th>2</th>\n",
       "      <td>Random Forest</td>\n",
       "      <td>50</td>\n",
       "      <td>0.662264</td>\n",
       "    </tr>\n",
       "    <tr>\n",
       "      <th>3</th>\n",
       "      <td>Random Forest</td>\n",
       "      <td>100</td>\n",
       "      <td>0.708626</td>\n",
       "    </tr>\n",
       "    <tr>\n",
       "      <th>4</th>\n",
       "      <td>KNN</td>\n",
       "      <td>200</td>\n",
       "      <td>0.696051</td>\n",
       "    </tr>\n",
       "    <tr>\n",
       "      <th>5</th>\n",
       "      <td>KNN</td>\n",
       "      <td>25</td>\n",
       "      <td>0.711380</td>\n",
       "    </tr>\n",
       "    <tr>\n",
       "      <th>6</th>\n",
       "      <td>KNN</td>\n",
       "      <td>50</td>\n",
       "      <td>0.710754</td>\n",
       "    </tr>\n",
       "    <tr>\n",
       "      <th>7</th>\n",
       "      <td>KNN</td>\n",
       "      <td>100</td>\n",
       "      <td>0.704072</td>\n",
       "    </tr>\n",
       "    <tr>\n",
       "      <th>8</th>\n",
       "      <td>SVM</td>\n",
       "      <td>200</td>\n",
       "      <td>0.774513</td>\n",
       "    </tr>\n",
       "    <tr>\n",
       "      <th>9</th>\n",
       "      <td>SVM</td>\n",
       "      <td>25</td>\n",
       "      <td>0.732458</td>\n",
       "    </tr>\n",
       "    <tr>\n",
       "      <th>10</th>\n",
       "      <td>SVM</td>\n",
       "      <td>50</td>\n",
       "      <td>0.737260</td>\n",
       "    </tr>\n",
       "    <tr>\n",
       "      <th>11</th>\n",
       "      <td>SVM</td>\n",
       "      <td>100</td>\n",
       "      <td>0.755506</td>\n",
       "    </tr>\n",
       "    <tr>\n",
       "      <th>12</th>\n",
       "      <td>OneVsRestClassifier (SVM)</td>\n",
       "      <td>200</td>\n",
       "      <td>0.359846</td>\n",
       "    </tr>\n",
       "    <tr>\n",
       "      <th>13</th>\n",
       "      <td>OneVsRestClassifier (SVM)</td>\n",
       "      <td>25</td>\n",
       "      <td>0.609170</td>\n",
       "    </tr>\n",
       "    <tr>\n",
       "      <th>14</th>\n",
       "      <td>OneVsRestClassifier (SVM)</td>\n",
       "      <td>50</td>\n",
       "      <td>0.529823</td>\n",
       "    </tr>\n",
       "    <tr>\n",
       "      <th>15</th>\n",
       "      <td>OneVsRestClassifier (SVM)</td>\n",
       "      <td>100</td>\n",
       "      <td>0.477805</td>\n",
       "    </tr>\n",
       "  </tbody>\n",
       "</table>\n",
       "</div>"
      ],
      "text/plain": [
       "                        Model  Window Size  Mean Accuracy\n",
       "0               Random Forest          200       0.695744\n",
       "1               Random Forest           25       0.647898\n",
       "2               Random Forest           50       0.662264\n",
       "3               Random Forest          100       0.708626\n",
       "4                         KNN          200       0.696051\n",
       "5                         KNN           25       0.711380\n",
       "6                         KNN           50       0.710754\n",
       "7                         KNN          100       0.704072\n",
       "8                         SVM          200       0.774513\n",
       "9                         SVM           25       0.732458\n",
       "10                        SVM           50       0.737260\n",
       "11                        SVM          100       0.755506\n",
       "12  OneVsRestClassifier (SVM)          200       0.359846\n",
       "13  OneVsRestClassifier (SVM)           25       0.609170\n",
       "14  OneVsRestClassifier (SVM)           50       0.529823\n",
       "15  OneVsRestClassifier (SVM)          100       0.477805"
      ]
     },
     "execution_count": 24,
     "metadata": {},
     "output_type": "execute_result"
    }
   ],
   "source": [
    "cv_results.reset_index(drop=True)"
   ]
  },
  {
   "cell_type": "markdown",
   "metadata": {},
   "source": [
    "# Network Results\n",
    "Here we print the results from each model on the whole network"
   ]
  },
  {
   "cell_type": "code",
   "execution_count": 25,
   "metadata": {},
   "outputs": [
    {
     "data": {
      "text/html": [
       "<div>\n",
       "<style scoped>\n",
       "    .dataframe tbody tr th:only-of-type {\n",
       "        vertical-align: middle;\n",
       "    }\n",
       "\n",
       "    .dataframe tbody tr th {\n",
       "        vertical-align: top;\n",
       "    }\n",
       "\n",
       "    .dataframe thead th {\n",
       "        text-align: right;\n",
       "    }\n",
       "</style>\n",
       "<table border=\"1\" class=\"dataframe\">\n",
       "  <thead>\n",
       "    <tr style=\"text-align: right;\">\n",
       "      <th></th>\n",
       "      <th>Model</th>\n",
       "      <th>Window Size</th>\n",
       "      <th>Accuracy</th>\n",
       "      <th>Precision</th>\n",
       "      <th>Recall</th>\n",
       "      <th>F1-score</th>\n",
       "      <th>Training Time (sec)</th>\n",
       "      <th>Testing Time (sec)</th>\n",
       "    </tr>\n",
       "  </thead>\n",
       "  <tbody>\n",
       "    <tr>\n",
       "      <th>0</th>\n",
       "      <td>Random Forest</td>\n",
       "      <td>200</td>\n",
       "      <td>1.000000</td>\n",
       "      <td>1.000000</td>\n",
       "      <td>1.000000</td>\n",
       "      <td>1.000000</td>\n",
       "      <td>0.089433</td>\n",
       "      <td>0.004255</td>\n",
       "    </tr>\n",
       "    <tr>\n",
       "      <th>1</th>\n",
       "      <td>Random Forest</td>\n",
       "      <td>25</td>\n",
       "      <td>0.850000</td>\n",
       "      <td>0.425000</td>\n",
       "      <td>0.500000</td>\n",
       "      <td>0.459459</td>\n",
       "      <td>0.080387</td>\n",
       "      <td>0.004286</td>\n",
       "    </tr>\n",
       "    <tr>\n",
       "      <th>2</th>\n",
       "      <td>Random Forest</td>\n",
       "      <td>50</td>\n",
       "      <td>0.700000</td>\n",
       "      <td>0.437500</td>\n",
       "      <td>0.388889</td>\n",
       "      <td>0.411765</td>\n",
       "      <td>0.089319</td>\n",
       "      <td>0.004766</td>\n",
       "    </tr>\n",
       "    <tr>\n",
       "      <th>3</th>\n",
       "      <td>Random Forest</td>\n",
       "      <td>100</td>\n",
       "      <td>0.400000</td>\n",
       "      <td>0.250000</td>\n",
       "      <td>0.333333</td>\n",
       "      <td>0.285714</td>\n",
       "      <td>0.082623</td>\n",
       "      <td>0.004830</td>\n",
       "    </tr>\n",
       "    <tr>\n",
       "      <th>4</th>\n",
       "      <td>KNN</td>\n",
       "      <td>200</td>\n",
       "      <td>0.666667</td>\n",
       "      <td>0.333333</td>\n",
       "      <td>0.500000</td>\n",
       "      <td>0.400000</td>\n",
       "      <td>0.000210</td>\n",
       "      <td>0.000526</td>\n",
       "    </tr>\n",
       "    <tr>\n",
       "      <th>5</th>\n",
       "      <td>KNN</td>\n",
       "      <td>25</td>\n",
       "      <td>0.850000</td>\n",
       "      <td>0.425000</td>\n",
       "      <td>0.500000</td>\n",
       "      <td>0.459459</td>\n",
       "      <td>0.000349</td>\n",
       "      <td>0.000495</td>\n",
       "    </tr>\n",
       "    <tr>\n",
       "      <th>6</th>\n",
       "      <td>KNN</td>\n",
       "      <td>50</td>\n",
       "      <td>0.900000</td>\n",
       "      <td>0.450000</td>\n",
       "      <td>0.500000</td>\n",
       "      <td>0.473684</td>\n",
       "      <td>0.000303</td>\n",
       "      <td>0.000596</td>\n",
       "    </tr>\n",
       "    <tr>\n",
       "      <th>7</th>\n",
       "      <td>KNN</td>\n",
       "      <td>100</td>\n",
       "      <td>0.600000</td>\n",
       "      <td>0.300000</td>\n",
       "      <td>0.500000</td>\n",
       "      <td>0.375000</td>\n",
       "      <td>0.000302</td>\n",
       "      <td>0.000366</td>\n",
       "    </tr>\n",
       "    <tr>\n",
       "      <th>8</th>\n",
       "      <td>SVM</td>\n",
       "      <td>200</td>\n",
       "      <td>1.000000</td>\n",
       "      <td>1.000000</td>\n",
       "      <td>1.000000</td>\n",
       "      <td>1.000000</td>\n",
       "      <td>0.000460</td>\n",
       "      <td>0.000256</td>\n",
       "    </tr>\n",
       "    <tr>\n",
       "      <th>9</th>\n",
       "      <td>SVM</td>\n",
       "      <td>25</td>\n",
       "      <td>0.850000</td>\n",
       "      <td>0.425000</td>\n",
       "      <td>0.500000</td>\n",
       "      <td>0.459459</td>\n",
       "      <td>0.000464</td>\n",
       "      <td>0.000216</td>\n",
       "    </tr>\n",
       "    <tr>\n",
       "      <th>10</th>\n",
       "      <td>SVM</td>\n",
       "      <td>50</td>\n",
       "      <td>0.900000</td>\n",
       "      <td>0.450000</td>\n",
       "      <td>0.500000</td>\n",
       "      <td>0.473684</td>\n",
       "      <td>0.001693</td>\n",
       "      <td>0.000190</td>\n",
       "    </tr>\n",
       "    <tr>\n",
       "      <th>11</th>\n",
       "      <td>SVM</td>\n",
       "      <td>100</td>\n",
       "      <td>0.600000</td>\n",
       "      <td>0.300000</td>\n",
       "      <td>0.500000</td>\n",
       "      <td>0.375000</td>\n",
       "      <td>0.000367</td>\n",
       "      <td>0.000117</td>\n",
       "    </tr>\n",
       "    <tr>\n",
       "      <th>12</th>\n",
       "      <td>OneVsRestClassifier (SVM)</td>\n",
       "      <td>200</td>\n",
       "      <td>1.000000</td>\n",
       "      <td>1.000000</td>\n",
       "      <td>1.000000</td>\n",
       "      <td>1.000000</td>\n",
       "      <td>0.032770</td>\n",
       "      <td>0.000721</td>\n",
       "    </tr>\n",
       "    <tr>\n",
       "      <th>13</th>\n",
       "      <td>OneVsRestClassifier (SVM)</td>\n",
       "      <td>25</td>\n",
       "      <td>0.500000</td>\n",
       "      <td>0.384615</td>\n",
       "      <td>0.294118</td>\n",
       "      <td>0.333333</td>\n",
       "      <td>0.081501</td>\n",
       "      <td>0.000733</td>\n",
       "    </tr>\n",
       "    <tr>\n",
       "      <th>14</th>\n",
       "      <td>OneVsRestClassifier (SVM)</td>\n",
       "      <td>50</td>\n",
       "      <td>0.900000</td>\n",
       "      <td>0.450000</td>\n",
       "      <td>0.500000</td>\n",
       "      <td>0.473684</td>\n",
       "      <td>0.042199</td>\n",
       "      <td>0.000735</td>\n",
       "    </tr>\n",
       "    <tr>\n",
       "      <th>15</th>\n",
       "      <td>OneVsRestClassifier (SVM)</td>\n",
       "      <td>100</td>\n",
       "      <td>0.400000</td>\n",
       "      <td>0.250000</td>\n",
       "      <td>0.333333</td>\n",
       "      <td>0.285714</td>\n",
       "      <td>0.041002</td>\n",
       "      <td>0.000791</td>\n",
       "    </tr>\n",
       "  </tbody>\n",
       "</table>\n",
       "</div>"
      ],
      "text/plain": [
       "                        Model  Window Size  Accuracy  Precision    Recall  \\\n",
       "0               Random Forest          200  1.000000   1.000000  1.000000   \n",
       "1               Random Forest           25  0.850000   0.425000  0.500000   \n",
       "2               Random Forest           50  0.700000   0.437500  0.388889   \n",
       "3               Random Forest          100  0.400000   0.250000  0.333333   \n",
       "4                         KNN          200  0.666667   0.333333  0.500000   \n",
       "5                         KNN           25  0.850000   0.425000  0.500000   \n",
       "6                         KNN           50  0.900000   0.450000  0.500000   \n",
       "7                         KNN          100  0.600000   0.300000  0.500000   \n",
       "8                         SVM          200  1.000000   1.000000  1.000000   \n",
       "9                         SVM           25  0.850000   0.425000  0.500000   \n",
       "10                        SVM           50  0.900000   0.450000  0.500000   \n",
       "11                        SVM          100  0.600000   0.300000  0.500000   \n",
       "12  OneVsRestClassifier (SVM)          200  1.000000   1.000000  1.000000   \n",
       "13  OneVsRestClassifier (SVM)           25  0.500000   0.384615  0.294118   \n",
       "14  OneVsRestClassifier (SVM)           50  0.900000   0.450000  0.500000   \n",
       "15  OneVsRestClassifier (SVM)          100  0.400000   0.250000  0.333333   \n",
       "\n",
       "    F1-score  Training Time (sec)  Testing Time (sec)  \n",
       "0   1.000000             0.089433            0.004255  \n",
       "1   0.459459             0.080387            0.004286  \n",
       "2   0.411765             0.089319            0.004766  \n",
       "3   0.285714             0.082623            0.004830  \n",
       "4   0.400000             0.000210            0.000526  \n",
       "5   0.459459             0.000349            0.000495  \n",
       "6   0.473684             0.000303            0.000596  \n",
       "7   0.375000             0.000302            0.000366  \n",
       "8   1.000000             0.000460            0.000256  \n",
       "9   0.459459             0.000464            0.000216  \n",
       "10  0.473684             0.001693            0.000190  \n",
       "11  0.375000             0.000367            0.000117  \n",
       "12  1.000000             0.032770            0.000721  \n",
       "13  0.333333             0.081501            0.000733  \n",
       "14  0.473684             0.042199            0.000735  \n",
       "15  0.285714             0.041002            0.000791  "
      ]
     },
     "execution_count": 25,
     "metadata": {},
     "output_type": "execute_result"
    }
   ],
   "source": [
    "net_results.reset_index(drop=True)"
   ]
  },
  {
   "cell_type": "markdown",
   "metadata": {},
   "source": [
    "Here we plot the average results for each model computed with cross validation"
   ]
  },
  {
   "cell_type": "code",
   "execution_count": 26,
   "metadata": {},
   "outputs": [
    {
     "data": {
      "text/html": [
       "<div>\n",
       "<style scoped>\n",
       "    .dataframe tbody tr th:only-of-type {\n",
       "        vertical-align: middle;\n",
       "    }\n",
       "\n",
       "    .dataframe tbody tr th {\n",
       "        vertical-align: top;\n",
       "    }\n",
       "\n",
       "    .dataframe thead th {\n",
       "        text-align: right;\n",
       "    }\n",
       "</style>\n",
       "<table border=\"1\" class=\"dataframe\">\n",
       "  <thead>\n",
       "    <tr style=\"text-align: right;\">\n",
       "      <th></th>\n",
       "      <th>Model</th>\n",
       "      <th>Window Size</th>\n",
       "      <th>Mean Accuracy</th>\n",
       "    </tr>\n",
       "  </thead>\n",
       "  <tbody>\n",
       "    <tr>\n",
       "      <th>0</th>\n",
       "      <td>Random Forest</td>\n",
       "      <td>200</td>\n",
       "      <td>0.777778</td>\n",
       "    </tr>\n",
       "    <tr>\n",
       "      <th>1</th>\n",
       "      <td>Random Forest</td>\n",
       "      <td>25</td>\n",
       "      <td>0.734488</td>\n",
       "    </tr>\n",
       "    <tr>\n",
       "      <th>2</th>\n",
       "      <td>Random Forest</td>\n",
       "      <td>50</td>\n",
       "      <td>0.751515</td>\n",
       "    </tr>\n",
       "    <tr>\n",
       "      <th>3</th>\n",
       "      <td>Random Forest</td>\n",
       "      <td>100</td>\n",
       "      <td>0.500000</td>\n",
       "    </tr>\n",
       "    <tr>\n",
       "      <th>4</th>\n",
       "      <td>KNN</td>\n",
       "      <td>200</td>\n",
       "      <td>0.777778</td>\n",
       "    </tr>\n",
       "    <tr>\n",
       "      <th>5</th>\n",
       "      <td>KNN</td>\n",
       "      <td>25</td>\n",
       "      <td>0.297258</td>\n",
       "    </tr>\n",
       "    <tr>\n",
       "      <th>6</th>\n",
       "      <td>KNN</td>\n",
       "      <td>50</td>\n",
       "      <td>0.436364</td>\n",
       "    </tr>\n",
       "    <tr>\n",
       "      <th>7</th>\n",
       "      <td>KNN</td>\n",
       "      <td>100</td>\n",
       "      <td>0.555556</td>\n",
       "    </tr>\n",
       "    <tr>\n",
       "      <th>8</th>\n",
       "      <td>SVM</td>\n",
       "      <td>200</td>\n",
       "      <td>1.000000</td>\n",
       "    </tr>\n",
       "    <tr>\n",
       "      <th>9</th>\n",
       "      <td>SVM</td>\n",
       "      <td>25</td>\n",
       "      <td>0.750361</td>\n",
       "    </tr>\n",
       "    <tr>\n",
       "      <th>10</th>\n",
       "      <td>SVM</td>\n",
       "      <td>50</td>\n",
       "      <td>0.751515</td>\n",
       "    </tr>\n",
       "    <tr>\n",
       "      <th>11</th>\n",
       "      <td>SVM</td>\n",
       "      <td>100</td>\n",
       "      <td>0.755556</td>\n",
       "    </tr>\n",
       "    <tr>\n",
       "      <th>12</th>\n",
       "      <td>OneVsRestClassifier (SVM)</td>\n",
       "      <td>200</td>\n",
       "      <td>1.000000</td>\n",
       "    </tr>\n",
       "    <tr>\n",
       "      <th>13</th>\n",
       "      <td>OneVsRestClassifier (SVM)</td>\n",
       "      <td>25</td>\n",
       "      <td>0.551948</td>\n",
       "    </tr>\n",
       "    <tr>\n",
       "      <th>14</th>\n",
       "      <td>OneVsRestClassifier (SVM)</td>\n",
       "      <td>50</td>\n",
       "      <td>0.566667</td>\n",
       "    </tr>\n",
       "    <tr>\n",
       "      <th>15</th>\n",
       "      <td>OneVsRestClassifier (SVM)</td>\n",
       "      <td>100</td>\n",
       "      <td>0.555556</td>\n",
       "    </tr>\n",
       "  </tbody>\n",
       "</table>\n",
       "</div>"
      ],
      "text/plain": [
       "                        Model  Window Size  Mean Accuracy\n",
       "0               Random Forest          200       0.777778\n",
       "1               Random Forest           25       0.734488\n",
       "2               Random Forest           50       0.751515\n",
       "3               Random Forest          100       0.500000\n",
       "4                         KNN          200       0.777778\n",
       "5                         KNN           25       0.297258\n",
       "6                         KNN           50       0.436364\n",
       "7                         KNN          100       0.555556\n",
       "8                         SVM          200       1.000000\n",
       "9                         SVM           25       0.750361\n",
       "10                        SVM           50       0.751515\n",
       "11                        SVM          100       0.755556\n",
       "12  OneVsRestClassifier (SVM)          200       1.000000\n",
       "13  OneVsRestClassifier (SVM)           25       0.551948\n",
       "14  OneVsRestClassifier (SVM)           50       0.566667\n",
       "15  OneVsRestClassifier (SVM)          100       0.555556"
      ]
     },
     "execution_count": 26,
     "metadata": {},
     "output_type": "execute_result"
    }
   ],
   "source": [
    "cv_net_results.reset_index(drop=True)"
   ]
  },
  {
   "cell_type": "code",
   "execution_count": null,
   "metadata": {},
   "outputs": [],
   "source": []
  },
  {
   "cell_type": "code",
   "execution_count": null,
   "metadata": {},
   "outputs": [],
   "source": []
  },
  {
   "cell_type": "code",
   "execution_count": null,
   "metadata": {},
   "outputs": [],
   "source": []
  },
  {
   "cell_type": "code",
   "execution_count": null,
   "metadata": {},
   "outputs": [],
   "source": []
  }
 ],
 "metadata": {
  "kernelspec": {
   "display_name": "Python 3",
   "language": "python",
   "name": "python3"
  },
  "language_info": {
   "codemirror_mode": {
    "name": "ipython",
    "version": 3
   },
   "file_extension": ".py",
   "mimetype": "text/x-python",
   "name": "python",
   "nbconvert_exporter": "python",
   "pygments_lexer": "ipython3",
   "version": "3.6.6"
  }
 },
 "nbformat": 4,
 "nbformat_minor": 2
}
