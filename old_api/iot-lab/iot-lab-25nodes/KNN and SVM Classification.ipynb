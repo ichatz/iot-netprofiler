{
 "cells": [
  {
   "cell_type": "code",
   "execution_count": 1,
   "metadata": {},
   "outputs": [],
   "source": [
    "import pandas as pd\n",
    "import numpy as np\n",
    "from scipy import stats as sp\n",
    "import sys, os\n",
    "sys.path.append('../')\n",
    "import trace_analysis\n",
    "import plots_analysis\n",
    "import trace_statistics\n",
    "\n",
    "# KNN\n",
    "from sklearn.neighbors import KNeighborsClassifier\n",
    "from sklearn.model_selection import train_test_split\n",
    "from sklearn import metrics\n",
    "from sklearn.metrics import classification_report\n",
    "from sklearn.model_selection import GridSearchCV\n",
    "# SVM\n",
    "from sklearn import svm\n",
    "#Import Random Forest Model\n",
    "from sklearn.ensemble import RandomForestClassifier"
   ]
  },
  {
   "cell_type": "markdown",
   "metadata": {},
   "source": [
    "# Data Preparation\n",
    "\n",
    "\n",
    "Prepare the data to be used with kNN"
   ]
  },
  {
   "cell_type": "code",
   "execution_count": 2,
   "metadata": {},
   "outputs": [
    {
     "data": {
      "text/html": [
       "<div>\n",
       "<style scoped>\n",
       "    .dataframe tbody tr th:only-of-type {\n",
       "        vertical-align: middle;\n",
       "    }\n",
       "\n",
       "    .dataframe tbody tr th {\n",
       "        vertical-align: top;\n",
       "    }\n",
       "\n",
       "    .dataframe thead th {\n",
       "        text-align: right;\n",
       "    }\n",
       "</style>\n",
       "<table border=\"1\" class=\"dataframe\">\n",
       "  <thead>\n",
       "    <tr style=\"text-align: right;\">\n",
       "      <th></th>\n",
       "      <th>node_id</th>\n",
       "      <th>count</th>\n",
       "      <th>mean</th>\n",
       "      <th>var</th>\n",
       "      <th>std</th>\n",
       "      <th>hop</th>\n",
       "      <th>min</th>\n",
       "      <th>max</th>\n",
       "      <th>loss</th>\n",
       "      <th>label</th>\n",
       "    </tr>\n",
       "  </thead>\n",
       "  <tbody>\n",
       "    <tr>\n",
       "      <th>0</th>\n",
       "      <td>m3-105</td>\n",
       "      <td>59</td>\n",
       "      <td>43.042797</td>\n",
       "      <td>181.467597</td>\n",
       "      <td>13.470991</td>\n",
       "      <td>2</td>\n",
       "      <td>16.777</td>\n",
       "      <td>77.839</td>\n",
       "      <td>0.295</td>\n",
       "      <td>Normal</td>\n",
       "    </tr>\n",
       "    <tr>\n",
       "      <th>1</th>\n",
       "      <td>m3-113</td>\n",
       "      <td>79</td>\n",
       "      <td>29.980405</td>\n",
       "      <td>107.075913</td>\n",
       "      <td>10.347749</td>\n",
       "      <td>2</td>\n",
       "      <td>2.067</td>\n",
       "      <td>66.558</td>\n",
       "      <td>0.395</td>\n",
       "      <td>Normal</td>\n",
       "    </tr>\n",
       "    <tr>\n",
       "      <th>2</th>\n",
       "      <td>m3-118</td>\n",
       "      <td>51</td>\n",
       "      <td>33.125137</td>\n",
       "      <td>124.648678</td>\n",
       "      <td>11.164617</td>\n",
       "      <td>2</td>\n",
       "      <td>2.231</td>\n",
       "      <td>75.869</td>\n",
       "      <td>0.255</td>\n",
       "      <td>Normal</td>\n",
       "    </tr>\n",
       "    <tr>\n",
       "      <th>3</th>\n",
       "      <td>m3-126</td>\n",
       "      <td>50</td>\n",
       "      <td>35.585940</td>\n",
       "      <td>154.354729</td>\n",
       "      <td>12.423958</td>\n",
       "      <td>2</td>\n",
       "      <td>2.449</td>\n",
       "      <td>68.431</td>\n",
       "      <td>0.250</td>\n",
       "      <td>Normal</td>\n",
       "    </tr>\n",
       "    <tr>\n",
       "      <th>4</th>\n",
       "      <td>m3-129</td>\n",
       "      <td>124</td>\n",
       "      <td>25.474363</td>\n",
       "      <td>60.216378</td>\n",
       "      <td>7.759921</td>\n",
       "      <td>2</td>\n",
       "      <td>15.382</td>\n",
       "      <td>69.188</td>\n",
       "      <td>0.620</td>\n",
       "      <td>Normal</td>\n",
       "    </tr>\n",
       "  </tbody>\n",
       "</table>\n",
       "</div>"
      ],
      "text/plain": [
       "  node_id  count       mean         var        std  hop     min     max  \\\n",
       "0  m3-105     59  43.042797  181.467597  13.470991    2  16.777  77.839   \n",
       "1  m3-113     79  29.980405  107.075913  10.347749    2   2.067  66.558   \n",
       "2  m3-118     51  33.125137  124.648678  11.164617    2   2.231  75.869   \n",
       "3  m3-126     50  35.585940  154.354729  12.423958    2   2.449  68.431   \n",
       "4  m3-129    124  25.474363   60.216378   7.759921    2  15.382  69.188   \n",
       "\n",
       "    loss   label  \n",
       "0  0.295  Normal  \n",
       "1  0.395  Normal  \n",
       "2  0.255  Normal  \n",
       "3  0.250  Normal  \n",
       "4  0.620  Normal  "
      ]
     },
     "execution_count": 2,
     "metadata": {},
     "output_type": "execute_result"
    }
   ],
   "source": [
    "plots = [(os.getcwd() + '/traces/', '2019-01JAN-30-1'), \n",
    "         (os.getcwd() + '/traces/', '2019-01JAN-30-2'),\n",
    "         (os.getcwd() + '/traces/', '2019-01JAN-30-3b113b122b145b166b185'),\n",
    "         (os.getcwd() + '/traces/', '2019-01JAN-30-1b169b153b182'),\n",
    "         (os.getcwd() + '/traces/', '2019-01JAN-30-1b169')]\n",
    "stats = None\n",
    "prova = []\n",
    "\n",
    "for row in plots:\n",
    "    label = 'Normal'\n",
    "    \n",
    "    # Assign a label\n",
    "    if row[1].find('b1') >= 0:\n",
    "        label = 'Black Hole'\n",
    "    nodes, packets_node = trace_analysis.process_iotlab_node_by_node2(row[0], row[1])\n",
    "    \n",
    "    # Update stats\n",
    "    if stats is None:\n",
    "        stats = trace_statistics.compute_labeled_statistics(nodes, packets_node, label)\n",
    "    else:\n",
    "        stats = pd.concat([stats, trace_statistics.compute_labeled_statistics(nodes, packets_node, label)])\n",
    "    \n",
    "        \n",
    "stats = stats.reset_index(drop=True)\n",
    "stats.head(5)"
   ]
  },
  {
   "cell_type": "markdown",
   "metadata": {},
   "source": [
    "Select the set of features and labels that we use to fit the algorithm"
   ]
  },
  {
   "cell_type": "code",
   "execution_count": 3,
   "metadata": {},
   "outputs": [
    {
     "name": "stdout",
     "output_type": "stream",
     "text": [
      "Targets: {'Black Hole', 'Normal'}\n"
     ]
    }
   ],
   "source": [
    "# separate features from target values\n",
    "features = stats.drop(columns=['node_id', 'label'])\n",
    "target = stats['label'].values\n",
    "print('Targets: ' + str(set(target)))\n",
    "\n",
    "# split dataset into train and test data\n",
    "X_train, X_test, y_train, y_test = train_test_split(features, target, test_size=0.3, random_state=1)"
   ]
  },
  {
   "cell_type": "markdown",
   "metadata": {},
   "source": [
    "# K-Nearest Neighbor (KNN) Classification\n",
    "\n",
    "Let us first observe the accuracies for different values of k"
   ]
  },
  {
   "cell_type": "code",
   "execution_count": 4,
   "metadata": {},
   "outputs": [
    {
     "data": {
      "image/png": "[encoded data removed]",
      "text/plain": [
       "<Figure size 432x288 with 1 Axes>"
      ]
     },
     "metadata": {
      "needs_background": "light"
     },
     "output_type": "display_data"
    }
   ],
   "source": [
    "trace_analysis.knn_test_number_of_neighbors(X_train, X_test, y_train, y_test)"
   ]
  },
  {
   "cell_type": "markdown",
   "metadata": {},
   "source": [
    "Let's build KNN classifier "
   ]
  },
  {
   "cell_type": "code",
   "execution_count": 5,
   "metadata": {},
   "outputs": [
    {
     "name": "stdout",
     "output_type": "stream",
     "text": [
      "Accuracy: 0.7\n",
      "\n",
      "\n",
      "               precision    recall  f1-score   support\n",
      "\n",
      "  Black Hole       0.75      0.79      0.77        19\n",
      "      Normal       0.60      0.55      0.57        11\n",
      "\n",
      "   micro avg       0.70      0.70      0.70        30\n",
      "   macro avg       0.68      0.67      0.67        30\n",
      "weighted avg       0.70      0.70      0.70        30\n",
      "\n"
     ]
    }
   ],
   "source": [
    "#Create KNN Classifier\n",
    "knn = KNeighborsClassifier(n_neighbors=15)\n",
    "\n",
    "#Train the model using the training sets\n",
    "knn.fit(X_train, y_train)\n",
    "\n",
    "#Predict the response for test dataset\n",
    "y_pred = knn.predict(X_test)\n",
    "\n",
    "print(\"Accuracy:\",metrics.accuracy_score(y_test, y_pred))\n",
    "\n",
    "print(\"\\n\\n\",classification_report(y_test,y_pred))\n"
   ]
  },
  {
   "cell_type": "markdown",
   "metadata": {},
   "source": [
    "# Support Vector Machines (SVM) Classification\n",
    "\n",
    "Let us experiment with another classifier"
   ]
  },
  {
   "cell_type": "code",
   "execution_count": 6,
   "metadata": {},
   "outputs": [
    {
     "name": "stdout",
     "output_type": "stream",
     "text": [
      "Accuracy: 0.7666666666666667\n",
      "\n",
      "\n",
      "               precision    recall  f1-score   support\n",
      "\n",
      "  Black Hole       0.83      0.79      0.81        19\n",
      "      Normal       0.67      0.73      0.70        11\n",
      "\n",
      "   micro avg       0.77      0.77      0.77        30\n",
      "   macro avg       0.75      0.76      0.75        30\n",
      "weighted avg       0.77      0.77      0.77        30\n",
      "\n"
     ]
    }
   ],
   "source": [
    "#Create a svm Classifier\n",
    "svm_clf = svm.SVC(kernel='linear', random_state=9, gamma='scale') # Linear Kernel\n",
    "\n",
    "#Train the model using the training sets\n",
    "svm_clf.fit(X_train, y_train)\n",
    "\n",
    "#Predict the response for test dataset\n",
    "y_pred = svm_clf.predict(X_test)\n",
    "\n",
    "print(\"Accuracy:\",metrics.accuracy_score(y_test, y_pred))\n",
    "\n",
    "print(\"\\n\\n\",classification_report(y_test,y_pred))"
   ]
  },
  {
   "cell_type": "markdown",
   "metadata": {},
   "source": [
    "# Random Forests Classifier\n",
    "\n",
    "Let us experiment with random forests. First, let us select most relevant features."
   ]
  },
  {
   "cell_type": "code",
   "execution_count": 7,
   "metadata": {},
   "outputs": [
    {
     "name": "stderr",
     "output_type": "stream",
     "text": [
      "No handles with labels found to put in legend.\n"
     ]
    },
    {
     "data": {
      "image/png": "[encoded data removed]",
      "text/plain": [
       "<Figure size 432x288 with 1 Axes>"
      ]
     },
     "metadata": {
      "needs_background": "light"
     },
     "output_type": "display_data"
    }
   ],
   "source": [
    "trace_analysis.random_forests_features_selection(X_train, X_test, y_train, y_test, features)"
   ]
  },
  {
   "cell_type": "markdown",
   "metadata": {},
   "source": [
    "Select relevant features"
   ]
  },
  {
   "cell_type": "code",
   "execution_count": 18,
   "metadata": {},
   "outputs": [
    {
     "name": "stdout",
     "output_type": "stream",
     "text": [
      "Targets: {'Black Hole', 'Normal'}\n"
     ]
    }
   ],
   "source": [
    "# separate features from target values\n",
    "features = stats.drop(columns=['node_id', 'label'])\n",
    "target = stats['label'].values\n",
    "print('Targets: ' + str(set(target)))\n",
    "\n",
    "# split dataset into train and test data\n",
    "X_train, X_test, y_train, y_test = train_test_split(features, target, test_size=0.3, random_state=1)"
   ]
  },
  {
   "cell_type": "markdown",
   "metadata": {},
   "source": [
    "Predicted values"
   ]
  },
  {
   "cell_type": "code",
   "execution_count": 19,
   "metadata": {},
   "outputs": [
    {
     "name": "stdout",
     "output_type": "stream",
     "text": [
      "Accuracy: 0.6\n",
      "\n",
      "\n",
      "               precision    recall  f1-score   support\n",
      "\n",
      "  Black Hole       0.71      0.63      0.67        19\n",
      "      Normal       0.46      0.55      0.50        11\n",
      "\n",
      "   micro avg       0.60      0.60      0.60        30\n",
      "   macro avg       0.58      0.59      0.58        30\n",
      "weighted avg       0.62      0.60      0.61        30\n",
      "\n"
     ]
    }
   ],
   "source": [
    "#Create a Gaussian Classifier\n",
    "rf_clf = RandomForestClassifier(n_estimators=100)\n",
    "\n",
    "#Train the model using the training sets y_pred=clf.predict(X_test)\n",
    "rf_clf.fit(X_train,y_train)\n",
    "\n",
    "y_pred = rf_clf.predict(X_test)\n",
    "\n",
    "\n",
    "print(\"Accuracy:\",metrics.accuracy_score(y_test, y_pred))\n",
    "\n",
    "print(\"\\n\\n\",classification_report(y_test,y_pred))"
   ]
  }
 ],
 "metadata": {
  "kernelspec": {
   "display_name": "Python 3",
   "language": "python",
   "name": "python3"
  },
  "language_info": {
   "codemirror_mode": {
    "name": "ipython",
    "version": 3
   },
   "file_extension": ".py",
   "mimetype": "text/x-python",
   "name": "python",
   "nbconvert_exporter": "python",
   "pygments_lexer": "ipython3",
   "version": "3.6.5"
  }
 },
 "nbformat": 4,
 "nbformat_minor": 2
}
