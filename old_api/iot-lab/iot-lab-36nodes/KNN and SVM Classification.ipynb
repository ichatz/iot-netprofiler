{
 "cells": [
  {
   "cell_type": "code",
   "execution_count": 1,
   "metadata": {},
   "outputs": [],
   "source": [
    "import pandas as pd\n",
    "import numpy as np\n",
    "from scipy import stats as sp\n",
    "import sys, os\n",
    "sys.path.append('../')\n",
    "import trace_analysis\n",
    "import plots_analysis\n",
    "import trace_statistics\n",
    "\n",
    "# KNN\n",
    "from sklearn.neighbors import KNeighborsClassifier\n",
    "from sklearn.model_selection import train_test_split\n",
    "from sklearn import metrics\n",
    "from sklearn.metrics import classification_report\n",
    "from sklearn.model_selection import GridSearchCV\n",
    "# SVM\n",
    "from sklearn import svm\n",
    "#Import Random Forest Model\n",
    "from sklearn.ensemble import RandomForestClassifier"
   ]
  },
  {
   "cell_type": "markdown",
   "metadata": {},
   "source": [
    "# Data Preparation\n",
    "\n",
    "\n",
    "Prepare the data to be used with kNN"
   ]
  },
  {
   "cell_type": "code",
   "execution_count": 2,
   "metadata": {},
   "outputs": [
    {
     "data": {
      "text/html": [
       "<div>\n",
       "<style scoped>\n",
       "    .dataframe tbody tr th:only-of-type {\n",
       "        vertical-align: middle;\n",
       "    }\n",
       "\n",
       "    .dataframe tbody tr th {\n",
       "        vertical-align: top;\n",
       "    }\n",
       "\n",
       "    .dataframe thead th {\n",
       "        text-align: right;\n",
       "    }\n",
       "</style>\n",
       "<table border=\"1\" class=\"dataframe\">\n",
       "  <thead>\n",
       "    <tr style=\"text-align: right;\">\n",
       "      <th></th>\n",
       "      <th>node_id</th>\n",
       "      <th>count</th>\n",
       "      <th>mean</th>\n",
       "      <th>var</th>\n",
       "      <th>std</th>\n",
       "      <th>hop</th>\n",
       "      <th>min</th>\n",
       "      <th>max</th>\n",
       "      <th>loss</th>\n",
       "      <th>label</th>\n",
       "    </tr>\n",
       "  </thead>\n",
       "  <tbody>\n",
       "    <tr>\n",
       "      <th>0</th>\n",
       "      <td>m3-154</td>\n",
       "      <td>149</td>\n",
       "      <td>12.754826</td>\n",
       "      <td>49.192361</td>\n",
       "      <td>7.013727</td>\n",
       "      <td>1</td>\n",
       "      <td>7.629</td>\n",
       "      <td>67.184</td>\n",
       "      <td>0.745</td>\n",
       "      <td>Normal</td>\n",
       "    </tr>\n",
       "    <tr>\n",
       "      <th>1</th>\n",
       "      <td>m3-156</td>\n",
       "      <td>92</td>\n",
       "      <td>21.553533</td>\n",
       "      <td>137.579800</td>\n",
       "      <td>11.729442</td>\n",
       "      <td>2</td>\n",
       "      <td>1.128</td>\n",
       "      <td>82.161</td>\n",
       "      <td>0.460</td>\n",
       "      <td>Normal</td>\n",
       "    </tr>\n",
       "    <tr>\n",
       "      <th>2</th>\n",
       "      <td>m3-157</td>\n",
       "      <td>143</td>\n",
       "      <td>22.899909</td>\n",
       "      <td>126.525155</td>\n",
       "      <td>11.248340</td>\n",
       "      <td>2</td>\n",
       "      <td>2.709</td>\n",
       "      <td>85.675</td>\n",
       "      <td>0.715</td>\n",
       "      <td>Normal</td>\n",
       "    </tr>\n",
       "    <tr>\n",
       "      <th>3</th>\n",
       "      <td>m3-171</td>\n",
       "      <td>139</td>\n",
       "      <td>21.608727</td>\n",
       "      <td>92.011184</td>\n",
       "      <td>9.592246</td>\n",
       "      <td>2</td>\n",
       "      <td>1.915</td>\n",
       "      <td>76.440</td>\n",
       "      <td>0.695</td>\n",
       "      <td>Normal</td>\n",
       "    </tr>\n",
       "    <tr>\n",
       "      <th>4</th>\n",
       "      <td>m3-173</td>\n",
       "      <td>87</td>\n",
       "      <td>23.609046</td>\n",
       "      <td>136.738146</td>\n",
       "      <td>11.693509</td>\n",
       "      <td>2</td>\n",
       "      <td>2.538</td>\n",
       "      <td>110.176</td>\n",
       "      <td>0.435</td>\n",
       "      <td>Normal</td>\n",
       "    </tr>\n",
       "  </tbody>\n",
       "</table>\n",
       "</div>"
      ],
      "text/plain": [
       "  node_id  count       mean         var        std  hop    min      max  \\\n",
       "0  m3-154    149  12.754826   49.192361   7.013727    1  7.629   67.184   \n",
       "1  m3-156     92  21.553533  137.579800  11.729442    2  1.128   82.161   \n",
       "2  m3-157    143  22.899909  126.525155  11.248340    2  2.709   85.675   \n",
       "3  m3-171    139  21.608727   92.011184   9.592246    2  1.915   76.440   \n",
       "4  m3-173     87  23.609046  136.738146  11.693509    2  2.538  110.176   \n",
       "\n",
       "    loss   label  \n",
       "0  0.745  Normal  \n",
       "1  0.460  Normal  \n",
       "2  0.715  Normal  \n",
       "3  0.695  Normal  \n",
       "4  0.435  Normal  "
      ]
     },
     "execution_count": 2,
     "metadata": {},
     "output_type": "execute_result"
    }
   ],
   "source": [
    "plots = [(os.getcwd() + '/traces/', '2019-01JAN-29-1'), \n",
    "         (os.getcwd() + '/traces/', '2019-01JAN-29-3'),\n",
    "         (os.getcwd() + '/traces/', '2019-01JAN-29-3b241')]\n",
    "\n",
    "stats = None\n",
    "prova = []\n",
    "\n",
    "for row in plots:\n",
    "    label = 'Normal'\n",
    "    \n",
    "    # Assign a label\n",
    "    if row[1].find('b') >= 0:\n",
    "        label = 'Black Hole'\n",
    "    nodes, packets_node = trace_analysis.process_iotlab_node_by_node2(row[0], row[1])\n",
    "    \n",
    "    # Update stats\n",
    "    if stats is None:\n",
    "        stats = trace_statistics.compute_labeled_statistics(nodes, packets_node, label)\n",
    "    else:\n",
    "        stats = pd.concat([stats, trace_statistics.compute_labeled_statistics(nodes, packets_node, label)])\n",
    "    \n",
    "        \n",
    "stats = stats.reset_index(drop=True)\n",
    "stats.head(5)"
   ]
  },
  {
   "cell_type": "markdown",
   "metadata": {},
   "source": [
    "Select the set of features and labels that we use to fit the algorithm"
   ]
  },
  {
   "cell_type": "code",
   "execution_count": 3,
   "metadata": {},
   "outputs": [
    {
     "name": "stdout",
     "output_type": "stream",
     "text": [
      "Targets: {'Normal', 'Black Hole'}\n"
     ]
    }
   ],
   "source": [
    "# separate features from target values\n",
    "features = stats.drop(columns=['node_id', 'label'])\n",
    "target = stats['label'].values\n",
    "print('Targets: ' + str(set(target)))\n",
    "\n",
    "# split dataset into train and test data\n",
    "X_train, X_test, y_train, y_test = train_test_split(features, target, test_size=0.3, random_state=1)"
   ]
  },
  {
   "cell_type": "markdown",
   "metadata": {},
   "source": [
    "# K-Nearest Neighbor (KNN) Classification\n",
    "\n",
    "Let us first observe the accuracies for different values of k"
   ]
  },
  {
   "cell_type": "code",
   "execution_count": 4,
   "metadata": {},
   "outputs": [
    {
     "data": {
      "image/png": "[encoded data removed]",
      "text/plain": [
       "<Figure size 432x288 with 1 Axes>"
      ]
     },
     "metadata": {
      "needs_background": "light"
     },
     "output_type": "display_data"
    }
   ],
   "source": [
    "trace_analysis.knn_test_number_of_neighbors(X_train, X_test, y_train, y_test)"
   ]
  },
  {
   "cell_type": "markdown",
   "metadata": {},
   "source": [
    "Let's build KNN classifier "
   ]
  },
  {
   "cell_type": "code",
   "execution_count": 5,
   "metadata": {},
   "outputs": [
    {
     "name": "stdout",
     "output_type": "stream",
     "text": [
      "Accuracy: 0.8333333333333334\n",
      "\n",
      "\n",
      "               precision    recall  f1-score   support\n",
      "\n",
      "  Black Hole       0.75      0.86      0.80         7\n",
      "      Normal       0.90      0.82      0.86        11\n",
      "\n",
      "   micro avg       0.83      0.83      0.83        18\n",
      "   macro avg       0.82      0.84      0.83        18\n",
      "weighted avg       0.84      0.83      0.83        18\n",
      "\n"
     ]
    }
   ],
   "source": [
    "#Create KNN Classifier\n",
    "knn = KNeighborsClassifier(n_neighbors=4)\n",
    "\n",
    "#Train the model using the training sets\n",
    "knn.fit(X_train, y_train)\n",
    "\n",
    "#Predict the response for test dataset\n",
    "y_pred = knn.predict(X_test)\n",
    "\n",
    "print(\"Accuracy:\",metrics.accuracy_score(y_test, y_pred))\n",
    "\n",
    "print(\"\\n\\n\",classification_report(y_test,y_pred))\n"
   ]
  },
  {
   "cell_type": "markdown",
   "metadata": {},
   "source": [
    "# Support Vector Machines (SVM) Classification\n",
    "\n",
    "Let us experiment with another classifier"
   ]
  },
  {
   "cell_type": "code",
   "execution_count": 6,
   "metadata": {},
   "outputs": [
    {
     "name": "stdout",
     "output_type": "stream",
     "text": [
      "Accuracy: 0.8888888888888888\n",
      "\n",
      "\n",
      "               precision    recall  f1-score   support\n",
      "\n",
      "  Black Hole       1.00      0.71      0.83         7\n",
      "      Normal       0.85      1.00      0.92        11\n",
      "\n",
      "   micro avg       0.89      0.89      0.89        18\n",
      "   macro avg       0.92      0.86      0.88        18\n",
      "weighted avg       0.91      0.89      0.88        18\n",
      "\n"
     ]
    }
   ],
   "source": [
    "#Create a svm Classifier\n",
    "svm_clf = svm.SVC(kernel='linear', random_state=9, gamma='scale') # Linear Kernel\n",
    "\n",
    "#Train the model using the training sets\n",
    "svm_clf.fit(X_train, y_train)\n",
    "\n",
    "#Predict the response for test dataset\n",
    "y_pred = svm_clf.predict(X_test)\n",
    "\n",
    "print(\"Accuracy:\",metrics.accuracy_score(y_test, y_pred))\n",
    "\n",
    "print(\"\\n\\n\",classification_report(y_test,y_pred))"
   ]
  },
  {
   "cell_type": "markdown",
   "metadata": {},
   "source": [
    "# Random Forests Classifier\n",
    "\n",
    "Let us experiment with random forests. First, let us select most relevant features."
   ]
  },
  {
   "cell_type": "code",
   "execution_count": 7,
   "metadata": {},
   "outputs": [
    {
     "name": "stderr",
     "output_type": "stream",
     "text": [
      "No handles with labels found to put in legend.\n"
     ]
    },
    {
     "data": {
      "image/png": "[encoded data removed]",
      "text/plain": [
       "<Figure size 432x288 with 1 Axes>"
      ]
     },
     "metadata": {
      "needs_background": "light"
     },
     "output_type": "display_data"
    }
   ],
   "source": [
    "trace_analysis.random_forests_features_selection(X_train, X_test, y_train, y_test, features)"
   ]
  },
  {
   "cell_type": "markdown",
   "metadata": {},
   "source": [
    "Select relevant features"
   ]
  },
  {
   "cell_type": "code",
   "execution_count": 14,
   "metadata": {},
   "outputs": [
    {
     "name": "stdout",
     "output_type": "stream",
     "text": [
      "Targets: {'Normal', 'Black Hole'}\n"
     ]
    }
   ],
   "source": [
    "# separate features from target values\n",
    "features = stats.drop(columns=['node_id', 'label', 'hop'])\n",
    "target = stats['label'].values\n",
    "print('Targets: ' + str(set(target)))\n",
    "\n",
    "# split dataset into train and test data\n",
    "X_train, X_test, y_train, y_test = train_test_split(features, target, test_size=0.3, random_state=1)"
   ]
  },
  {
   "cell_type": "markdown",
   "metadata": {},
   "source": [
    "Predicted values"
   ]
  },
  {
   "cell_type": "code",
   "execution_count": 15,
   "metadata": {},
   "outputs": [
    {
     "name": "stdout",
     "output_type": "stream",
     "text": [
      "Accuracy: 0.7777777777777778\n",
      "\n",
      "\n",
      "               precision    recall  f1-score   support\n",
      "\n",
      "  Black Hole       1.00      0.43      0.60         7\n",
      "      Normal       0.73      1.00      0.85        11\n",
      "\n",
      "   micro avg       0.78      0.78      0.78        18\n",
      "   macro avg       0.87      0.71      0.72        18\n",
      "weighted avg       0.84      0.78      0.75        18\n",
      "\n"
     ]
    }
   ],
   "source": [
    "#Create a Gaussian Classifier\n",
    "rf_clf = RandomForestClassifier(n_estimators=100)\n",
    "\n",
    "#Train the model using the training sets y_pred=clf.predict(X_test)\n",
    "rf_clf.fit(X_train,y_train)\n",
    "\n",
    "y_pred = rf_clf.predict(X_test)\n",
    "\n",
    "\n",
    "print(\"Accuracy:\",metrics.accuracy_score(y_test, y_pred))\n",
    "\n",
    "print(\"\\n\\n\",classification_report(y_test,y_pred))"
   ]
  }
 ],
 "metadata": {
  "kernelspec": {
   "display_name": "Python 3",
   "language": "python",
   "name": "python3"
  },
  "language_info": {
   "codemirror_mode": {
    "name": "ipython",
    "version": 3
   },
   "file_extension": ".py",
   "mimetype": "text/x-python",
   "name": "python",
   "nbconvert_exporter": "python",
   "pygments_lexer": "ipython3",
   "version": "3.6.5"
  }
 },
 "nbformat": 4,
 "nbformat_minor": 2
}
