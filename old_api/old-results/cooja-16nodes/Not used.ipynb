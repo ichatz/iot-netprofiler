{
 "cells": [
  {
   "cell_type": "code",
   "execution_count": null,
   "metadata": {},
   "outputs": [],
   "source": [
    "colors = ['dodgerblue', 'orange', 'green']\n",
    "cases=['Normal','Black Hole 1', 'Black Hole 2']\n",
    "numberOfPackets=np.zeros(shape=(len(data),len(data[0])))\n",
    "numberOfPacketsT=numberOfPackets.transpose()\n",
    "fig, axs = plt.subplots(1,figsize=(10,5))\n",
    "axs.hist(numberOfPackets.transpose(),\n",
    "                 #print(numberOfPackets)  ,\n",
    "                 \n",
    "                 #color=colors,\n",
    "                 \n",
    "                 orientation='vertical',\n",
    "                 histtype='bar',\n",
    "                \n",
    "        )\n",
    "axs.set_title(\"Number of packets\")\n",
    "axs.set_xlabel(\"Packet Number\")\n",
    "axs.set_ylabel(\"Node Number\")\n",
    "axs.grid(True)\n",
    "#axs.legend()"
   ]
  },
  {
   "cell_type": "code",
   "execution_count": null,
   "metadata": {},
   "outputs": [],
   "source": [
    "fig, axs= plt.subplots(len(data[0]),1, figsize=(15,90),sharey=True, )\n",
    "for i in range(len(data)):\n",
    "    for j in range(len(data[i])):\n",
    "        axs[j].plot(\n",
    "            data[i][j].pkts[\"rtt\"].expanding(min_periods=1).mean(),\n",
    "            #data[i][j].pkts[\"rtt\"].groupby(data[i][j].pkts[\"rtt\"].index // 10 * 10).mean(),\n",
    "               #alpha=0.5,\n",
    "              label=cases[i]+ \" Tumbling Window\")\n",
    "        axs[j].plot(\n",
    "            data[i][j].pkts[\"rtt\"].rolling(3).sum(),\n",
    "              \n",
    "              label=cases[i]+ \" Rolling Window\")\n",
    "        axs[j].set_ylabel(\"Time (ms)\")\n",
    "        axs[j].set_title(\"Node \"+ str(j)+ \" Tumbling and Rolling Window\")\n",
    "        axs[j].set_xlabel(\"Packets\")\n",
    "        axs[j].legend()"
   ]
  },
  {
   "cell_type": "code",
   "execution_count": null,
   "metadata": {},
   "outputs": [],
   "source": [
    "for i in range(len(data)):\n",
    "    for j in range(len(data[i])):\n",
    "        numberOfPackets[i][j]=len(data[i][j].pkts)\n",
    "\n",
    "        \n",
    "        \n",
    "        \n",
    "fig, axs = plt.subplots(1,figsize=(10,5))\n",
    "for i in range(len(data)):\n",
    "    for j in range(len(data[i])):\n",
    "        axs.scatter(len(data[i][j].pkts),j,1000,\n",
    "                    label=\"Node \"+ str(j) ,\n",
    "                    color=colors[i],\n",
    "                   alpha=0.8)\n",
    "        axs.set_title(\"Number of packets\")\n",
    "        axs.set_xlabel(\"Packet Number\")\n",
    "        axs.set_ylabel(\"Node Number\")\n",
    "        axs.grid(True)"
   ]
  }
 ],
 "metadata": {
  "kernelspec": {
   "display_name": "Python 3",
   "language": "python",
   "name": "python3"
  },
  "language_info": {
   "codemirror_mode": {
    "name": "ipython",
    "version": 3
   },
   "file_extension": ".py",
   "mimetype": "text/x-python",
   "name": "python",
   "nbconvert_exporter": "python",
   "pygments_lexer": "ipython3",
   "version": "3.6.8"
  }
 },
 "nbformat": 4,
 "nbformat_minor": 2
}
