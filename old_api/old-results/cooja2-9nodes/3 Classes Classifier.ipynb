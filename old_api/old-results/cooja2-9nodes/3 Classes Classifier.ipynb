{
 "cells": [
  {
   "cell_type": "code",
   "execution_count": 21,
   "metadata": {},
   "outputs": [],
   "source": [
    "import pandas as pd\n",
    "import numpy as np\n",
    "from scipy import stats as sp\n",
    "import sys, os\n",
    "sys.path.append('../')\n",
    "import trace_analysis\n",
    "import plots_analysis\n",
    "import trace_statistics\n",
    "\n",
    "# KNN\n",
    "from sklearn.neighbors import KNeighborsClassifier\n",
    "from sklearn.model_selection import train_test_split\n",
    "from sklearn import metrics\n",
    "from sklearn.metrics import classification_report\n",
    "from sklearn.model_selection import GridSearchCV\n",
    "from sklearn.model_selection import cross_val_score\n",
    "\n",
    "# SVM\n",
    "from sklearn import svm\n",
    "#Import Random Forest Model\n",
    "from sklearn.ensemble import RandomForestClassifier"
   ]
  },
  {
   "cell_type": "markdown",
   "metadata": {},
   "source": [
    "# Data Preparation\n",
    "\n",
    "\n",
    "Prepare the data to be used with kNN"
   ]
  },
  {
   "cell_type": "code",
   "execution_count": 22,
   "metadata": {},
   "outputs": [
    {
     "data": {
      "text/html": [
       "<div>\n",
       "<style scoped>\n",
       "    .dataframe tbody tr th:only-of-type {\n",
       "        vertical-align: middle;\n",
       "    }\n",
       "\n",
       "    .dataframe tbody tr th {\n",
       "        vertical-align: top;\n",
       "    }\n",
       "\n",
       "    .dataframe thead th {\n",
       "        text-align: right;\n",
       "    }\n",
       "</style>\n",
       "<table border=\"1\" class=\"dataframe\">\n",
       "  <thead>\n",
       "    <tr style=\"text-align: right;\">\n",
       "      <th></th>\n",
       "      <th>node_id</th>\n",
       "      <th>count</th>\n",
       "      <th>mean</th>\n",
       "      <th>var</th>\n",
       "      <th>std</th>\n",
       "      <th>hop</th>\n",
       "      <th>min</th>\n",
       "      <th>max</th>\n",
       "      <th>loss</th>\n",
       "      <th>label</th>\n",
       "    </tr>\n",
       "  </thead>\n",
       "  <tbody>\n",
       "    <tr>\n",
       "      <th>0</th>\n",
       "      <td>fd00::212:7405:5:505:</td>\n",
       "      <td>98</td>\n",
       "      <td>169.887755</td>\n",
       "      <td>4927.317168</td>\n",
       "      <td>70.194851</td>\n",
       "      <td>3</td>\n",
       "      <td>107.0</td>\n",
       "      <td>494.0</td>\n",
       "      <td>0.510</td>\n",
       "      <td>Normal</td>\n",
       "    </tr>\n",
       "    <tr>\n",
       "      <th>1</th>\n",
       "      <td>fd00::212:7404:4:404:</td>\n",
       "      <td>87</td>\n",
       "      <td>163.327586</td>\n",
       "      <td>31382.584812</td>\n",
       "      <td>177.151305</td>\n",
       "      <td>2</td>\n",
       "      <td>77.3</td>\n",
       "      <td>1205.0</td>\n",
       "      <td>0.565</td>\n",
       "      <td>Normal</td>\n",
       "    </tr>\n",
       "    <tr>\n",
       "      <th>2</th>\n",
       "      <td>fd00::212:7403:3:303:</td>\n",
       "      <td>92</td>\n",
       "      <td>60.042391</td>\n",
       "      <td>5431.264227</td>\n",
       "      <td>73.697111</td>\n",
       "      <td>1</td>\n",
       "      <td>28.3</td>\n",
       "      <td>707.0</td>\n",
       "      <td>0.540</td>\n",
       "      <td>Normal</td>\n",
       "    </tr>\n",
       "    <tr>\n",
       "      <th>3</th>\n",
       "      <td>fd00::212:7408:8:808:</td>\n",
       "      <td>90</td>\n",
       "      <td>233.155556</td>\n",
       "      <td>7211.548564</td>\n",
       "      <td>84.920837</td>\n",
       "      <td>4</td>\n",
       "      <td>169.0</td>\n",
       "      <td>929.0</td>\n",
       "      <td>0.550</td>\n",
       "      <td>Normal</td>\n",
       "    </tr>\n",
       "    <tr>\n",
       "      <th>4</th>\n",
       "      <td>fd00::212:7402:2:202:</td>\n",
       "      <td>99</td>\n",
       "      <td>145.127273</td>\n",
       "      <td>33352.392004</td>\n",
       "      <td>182.626373</td>\n",
       "      <td>2</td>\n",
       "      <td>69.4</td>\n",
       "      <td>1726.0</td>\n",
       "      <td>0.505</td>\n",
       "      <td>Normal</td>\n",
       "    </tr>\n",
       "  </tbody>\n",
       "</table>\n",
       "</div>"
      ],
      "text/plain": [
       "                 node_id  count        mean           var         std  hop  \\\n",
       "0  fd00::212:7405:5:505:     98  169.887755   4927.317168   70.194851    3   \n",
       "1  fd00::212:7404:4:404:     87  163.327586  31382.584812  177.151305    2   \n",
       "2  fd00::212:7403:3:303:     92   60.042391   5431.264227   73.697111    1   \n",
       "3  fd00::212:7408:8:808:     90  233.155556   7211.548564   84.920837    4   \n",
       "4  fd00::212:7402:2:202:     99  145.127273  33352.392004  182.626373    2   \n",
       "\n",
       "     min     max   loss   label  \n",
       "0  107.0   494.0  0.510  Normal  \n",
       "1   77.3  1205.0  0.565  Normal  \n",
       "2   28.3   707.0  0.540  Normal  \n",
       "3  169.0   929.0  0.550  Normal  \n",
       "4   69.4  1726.0  0.505  Normal  "
      ]
     },
     "execution_count": 22,
     "metadata": {},
     "output_type": "execute_result"
    }
   ],
   "source": [
    "plots = [(\"traces/normal\", 'grid9_normal_2019-02-11_17:51:17_'),\n",
    "         (\"traces/normal\", 'grid9_normal_2019-02-11_20:22:01_'),\n",
    "         (\"traces/normal\", 'grid9_normal_2019-02-11_21:03:19_'),\n",
    "         (\"traces/normal\", 'grid9_normal_2019-02-12_14:02:32_'),\n",
    "         (\"traces/normal\", 'grid9_normal_2019-02-12_14:22:43_'),\n",
    "         (\"traces/1bh-3\", 'grid9_1bh-3_2019-02-12_14:47:14_'),         \n",
    "         (\"traces/1bh-6\", 'grid9_1bh-6_2019-02-11_20:48:08_'),\n",
    "         (\"traces/1bh-6\", 'grid9_1bh-6_2019-02-11_21:03:19_'),\n",
    "         (\"traces/1bh-6\", 'grid9_1bh-6_2019-02-12_13:35:47_'),\n",
    "         (\"traces/1bh-7\", 'grid9_1bh-7_2019-02-12_14:02:32_'),\n",
    "         (\"traces/1bh-7\", 'grid9_1bh-7_2019-02-12_14:22:43_'),         \n",
    "         (\"traces/1bh-3\", 'grid9_1bh-3_2019-02-12_14:47:14_')\n",
    "        ]\n",
    "\n",
    "stats = None\n",
    "win_25_stats = None\n",
    "win_50_stats = None\n",
    "win_100_stats = None\n",
    "\n",
    "for row in plots:\n",
    "    label = 'Normal'\n",
    "    \n",
    "    # Assign a label\n",
    "    if row[0].find('gh') >= 0:\n",
    "        label = 'Gray Hole'\n",
    "    elif row[0].find('bh') >= 0:\n",
    "        label = 'Black Hole'\n",
    "    nodes, packets_node = trace_analysis.process_cooja2_traces(row[0], row[1])\n",
    "    \n",
    "    # Update stats\n",
    "    if stats is None:\n",
    "        stats = trace_statistics.compute_labeled_statistics(nodes, packets_node, label)\n",
    "        win_25_stats = trace_statistics.compute_window_labeled_statistics(nodes, packets_node, label, 25)\n",
    "        win_50_stats = trace_statistics.compute_window_labeled_statistics(nodes, packets_node, label, 50)\n",
    "        win_100_stats = trace_statistics.compute_window_labeled_statistics(nodes, packets_node, label, 100)\n",
    "    else:\n",
    "        stats = pd.concat([stats, trace_statistics.compute_labeled_statistics(nodes, packets_node, label)])\n",
    "        win_25_stats = pd.concat([win_25_stats, trace_statistics.compute_window_labeled_statistics(nodes, packets_node, label, 25)])\n",
    "        win_50_stats = pd.concat([win_50_stats, trace_statistics.compute_window_labeled_statistics(nodes, packets_node, label, 50)])\n",
    "        win_100_stats = pd.concat([win_100_stats, trace_statistics.compute_window_labeled_statistics(nodes, packets_node, label, 100)])\n",
    "        \n",
    "stats = stats.reset_index(drop=True)\n",
    "win_25_stats = win_25_stats.reset_index(drop=True)\n",
    "win_50_stats = win_50_stats.reset_index(drop=True)\n",
    "win_100_stats = win_100_stats.reset_index(drop=True)\n",
    "stats.head(5)"
   ]
  },
  {
   "cell_type": "markdown",
   "metadata": {},
   "source": [
    "Select the set of features and labels that we use to fit the algorithm"
   ]
  },
  {
   "cell_type": "code",
   "execution_count": 23,
   "metadata": {},
   "outputs": [
    {
     "name": "stdout",
     "output_type": "stream",
     "text": [
      "Targets: {'Black Hole', 'Normal'}\n"
     ]
    }
   ],
   "source": [
    "# separate features from target values\n",
    "features = win_100_stats.drop(columns=['node_id', 'label'])\n",
    "target = win_100_stats['label'].values\n",
    "print('Targets: ' + str(set(target)))\n",
    "\n",
    "# split dataset into train and test data\n",
    "X_train, X_test, y_train, y_test = train_test_split(features, target, test_size=0.3, random_state=1)"
   ]
  },
  {
   "cell_type": "markdown",
   "metadata": {},
   "source": [
    "# K-Nearest Neighbor (KNN) Classification\n",
    "\n",
    "Let us first observe the accuracies for different values of k"
   ]
  },
  {
   "cell_type": "code",
   "execution_count": 29,
   "metadata": {},
   "outputs": [
    {
     "data": {
      "image/png": "[encoded data removed]",
      "text/plain": [
       "<Figure size 432x288 with 1 Axes>"
      ]
     },
     "metadata": {
      "needs_background": "light"
     },
     "output_type": "display_data"
    }
   ],
   "source": [
    "trace_analysis.knn_test_number_of_neighbors(X_train, X_test, y_train, y_test)"
   ]
  },
  {
   "cell_type": "markdown",
   "metadata": {},
   "source": [
    "Let's build KNN classifier "
   ]
  },
  {
   "cell_type": "code",
   "execution_count": 54,
   "metadata": {},
   "outputs": [
    {
     "name": "stdout",
     "output_type": "stream",
     "text": [
      "Accuracy: 0.8421052631578947\n",
      "\n",
      "\n",
      "               precision    recall  f1-score   support\n",
      "\n",
      "  Black Hole       0.97      0.86      0.91        36\n",
      "      Normal       0.17      0.50      0.25         2\n",
      "\n",
      "   micro avg       0.84      0.84      0.84        38\n",
      "   macro avg       0.57      0.68      0.58        38\n",
      "weighted avg       0.93      0.84      0.88        38\n",
      "\n"
     ]
    }
   ],
   "source": [
    "#Create KNN Classifier\n",
    "knn_clf = KNeighborsClassifier(n_neighbors=5)\n",
    "\n",
    "#Train the model using the training sets\n",
    "knn_clf.fit(X_train, y_train)\n",
    "\n",
    "#Predict the response for test dataset\n",
    "y_pred = knn_clf.predict(X_test)\n",
    "\n",
    "print(\"Accuracy:\",metrics.accuracy_score(y_test, y_pred))\n",
    "\n",
    "print(\"\\n\\n\",classification_report(y_test,y_pred))\n"
   ]
  },
  {
   "cell_type": "code",
   "execution_count": 56,
   "metadata": {},
   "outputs": [
    {
     "name": "stdout",
     "output_type": "stream",
     "text": [
      "Mean Accuracy:0.85\n"
     ]
    }
   ],
   "source": [
    "#train model with cv of 5\n",
    "cv_scores = cross_val_score(knn_cv, features, target, cv = 5)\n",
    "\n",
    "#print each cv score (accuracy) and average them\n",
    "print('Mean Accuracy:{}'.format(np.mean(cv_scores)))"
   ]
  },
  {
   "cell_type": "markdown",
   "metadata": {},
   "source": [
    "# Support Vector Machines (SVM) Classification\n",
    "\n",
    "Let us experiment with another classifier"
   ]
  },
  {
   "cell_type": "code",
   "execution_count": 58,
   "metadata": {},
   "outputs": [
    {
     "name": "stdout",
     "output_type": "stream",
     "text": [
      "Accuracy: 0.9210526315789473\n",
      "\n",
      "\n",
      "               precision    recall  f1-score   support\n",
      "\n",
      "  Black Hole       0.97      0.94      0.96        36\n",
      "      Normal       0.33      0.50      0.40         2\n",
      "\n",
      "   micro avg       0.92      0.92      0.92        38\n",
      "   macro avg       0.65      0.72      0.68        38\n",
      "weighted avg       0.94      0.92      0.93        38\n",
      "\n"
     ]
    }
   ],
   "source": [
    "#Create a svm Classifier\n",
    "svm_clf = svm.SVC(kernel='linear', random_state=9, gamma='scale') # Linear Kernel\n",
    "\n",
    "#Train the model using the training sets\n",
    "svm_clf.fit(X_train, y_train)\n",
    "\n",
    "#Predict the response for test dataset\n",
    "y_pred = svm_clf.predict(X_test)\n",
    "\n",
    "print(\"Accuracy:\",metrics.accuracy_score(y_test, y_pred))\n",
    "\n",
    "print(\"\\n\\n\",classification_report(y_test,y_pred))"
   ]
  },
  {
   "cell_type": "code",
   "execution_count": 59,
   "metadata": {},
   "outputs": [
    {
     "name": "stdout",
     "output_type": "stream",
     "text": [
      "Mean Accuracy:0.8423076923076923\n"
     ]
    }
   ],
   "source": [
    "#train model with cv of 5\n",
    "cv_scores = cross_val_score(svm_clf, features, target, cv = 5)\n",
    "\n",
    "#print each cv score (accuracy) and average them\n",
    "print('Mean Accuracy:{}'.format(np.mean(cv_scores)))"
   ]
  },
  {
   "cell_type": "markdown",
   "metadata": {},
   "source": [
    "# Random Forests Classifier\n",
    "\n",
    "Let us experiment with random forests. First, let us select most relevant features."
   ]
  },
  {
   "cell_type": "code",
   "execution_count": 60,
   "metadata": {},
   "outputs": [
    {
     "name": "stderr",
     "output_type": "stream",
     "text": [
      "No handles with labels found to put in legend.\n"
     ]
    },
    {
     "data": {
      "image/png": "[encoded data removed]",
      "text/plain": [
       "<Figure size 432x288 with 1 Axes>"
      ]
     },
     "metadata": {
      "needs_background": "light"
     },
     "output_type": "display_data"
    }
   ],
   "source": [
    "trace_analysis.random_forests_features_selection(X_train, X_test, y_train, y_test, features)"
   ]
  },
  {
   "cell_type": "markdown",
   "metadata": {},
   "source": [
    "Select relevant features"
   ]
  },
  {
   "cell_type": "code",
   "execution_count": 61,
   "metadata": {},
   "outputs": [
    {
     "name": "stdout",
     "output_type": "stream",
     "text": [
      "Targets: {'Black Hole', 'Normal'}\n"
     ]
    }
   ],
   "source": [
    "# separate features from target values\n",
    "features = stats.drop(columns=['node_id', 'label', 'hop','mean'])\n",
    "target = stats['label'].values\n",
    "print('Targets: ' + str(set(target)))\n",
    "\n",
    "# split dataset into train and test data\n",
    "X_train, X_test, y_train, y_test = train_test_split(features, target, test_size=0.3, random_state=1)"
   ]
  },
  {
   "cell_type": "markdown",
   "metadata": {},
   "source": [
    "Predicted values"
   ]
  },
  {
   "cell_type": "code",
   "execution_count": 62,
   "metadata": {},
   "outputs": [
    {
     "name": "stdout",
     "output_type": "stream",
     "text": [
      "Accuracy: 0.84\n",
      "\n",
      "\n",
      "               precision    recall  f1-score   support\n",
      "\n",
      "  Black Hole       0.95      0.86      0.90        22\n",
      "      Normal       0.40      0.67      0.50         3\n",
      "\n",
      "   micro avg       0.84      0.84      0.84        25\n",
      "   macro avg       0.68      0.77      0.70        25\n",
      "weighted avg       0.88      0.84      0.86        25\n",
      "\n"
     ]
    }
   ],
   "source": [
    "#Create a Gaussian Classifier\n",
    "rf_clf = RandomForestClassifier(n_estimators=100)\n",
    "\n",
    "#Train the model using the training sets y_pred=clf.predict(X_test)\n",
    "rf_clf.fit(X_train,y_train)\n",
    "\n",
    "y_pred = rf_clf.predict(X_test)\n",
    "\n",
    "\n",
    "print(\"Accuracy:\",metrics.accuracy_score(y_test, y_pred))\n",
    "\n",
    "print(\"\\n\\n\",classification_report(y_test,y_pred))"
   ]
  },
  {
   "cell_type": "code",
   "execution_count": 63,
   "metadata": {},
   "outputs": [
    {
     "name": "stdout",
     "output_type": "stream",
     "text": [
      "Mean Accuracy:0.8172549019607842\n"
     ]
    }
   ],
   "source": [
    "#train model with cv of 5\n",
    "cv_scores = cross_val_score(rf_clf, features, target, cv = 5)\n",
    "\n",
    "#print each cv score (accuracy) and average them\n",
    "print('Mean Accuracy:{}'.format(np.mean(cv_scores)))"
   ]
  },
  {
   "cell_type": "code",
   "execution_count": null,
   "metadata": {},
   "outputs": [],
   "source": []
  }
 ],
 "metadata": {
  "kernelspec": {
   "display_name": "Python 3",
   "language": "python",
   "name": "python3"
  },
  "language_info": {
   "codemirror_mode": {
    "name": "ipython",
    "version": 3
   },
   "file_extension": ".py",
   "mimetype": "text/x-python",
   "name": "python",
   "nbconvert_exporter": "python",
   "pygments_lexer": "ipython3",
   "version": "3.6.5"
  }
 },
 "nbformat": 4,
 "nbformat_minor": 2
}
