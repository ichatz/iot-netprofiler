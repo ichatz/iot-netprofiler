{
 "cells": [
  {
   "cell_type": "code",
   "execution_count": 1,
   "metadata": {},
   "outputs": [],
   "source": [
    "# ----------------------------------------------------------------\n",
    "# IoT Netprofiler\n",
    "# Licensed under The MIT License [see LICENSE for details]\n",
    "# Written by Luca Maiano - https://www.linkedin.com/in/lucamaiano/\n",
    "# ----------------------------------------------------------------"
   ]
  },
  {
   "cell_type": "markdown",
   "metadata": {},
   "source": [
    "# Attack Detection\n",
    "\n",
    "In this notebook we apply *learning algorithms* with the aim of detect attacks in an IoT network as accurately as possible. Particularly, we will focus on **supervised** and **unsupervised** algorithms. With this analysis, we want to compare the effectiveness of the following algorithms:\n",
    "1. K-Nearest Neighbor (KNN)\n",
    "2. Random Forests Classifier\n",
    "3. Support Vector Machines (SVM)\n",
    "5. Deep Neural Network Classifier \n",
    "6. K-Means\n",
    "\n",
    "All mentioned algorithms have been extensively used by *state of the art* solutions in order to solve **anomaly-detection** problems [2].\n",
    "\n",
    "## Metrics Identification\n",
    "\n",
    "Using the same approach of Yavuz et al. [1], in order to deal with an imbalanced dataset we use AUC-ROC together with the following metrics:\n",
    "1. \n",
    "$\n",
    "\\begin{align}\n",
    "Precision = \\frac{TP}{TP+FP}\n",
    "\\end{align}\n",
    "$\n",
    "\n",
    "2. \n",
    "$\n",
    "\\begin{align}\n",
    "Recall = \\frac{TP}{TP+FN}\n",
    "\\end{align}\n",
    "$\n",
    "\n",
    "3. \n",
    "$\n",
    "\\begin{align}\n",
    "F1 = 2\\frac{precision * recall}{precision+recall}\n",
    "\\end{align}\n",
    "$\n",
    "4. AUC-ROC. \n",
    "\n",
    "If the AUC-ROC is bigger than 0.5, it means that the model is better than random guessing.\n",
    "\n",
    "\n"
   ]
  },
  {
   "cell_type": "code",
   "execution_count": 1,
   "metadata": {},
   "outputs": [
    {
     "name": "stderr",
     "output_type": "stream",
     "text": [
      "Using TensorFlow backend.\n"
     ]
    }
   ],
   "source": [
    "import csv\n",
    "import pandas as pd\n",
    "import numpy as np\n",
    "import sys, os\n",
    "\n",
    "import warnings \n",
    "warnings.filterwarnings('ignore')\n",
    "\n",
    "from sklearn.model_selection import train_test_split\n",
    "from sklearn.utils import shuffle\n",
    "\n",
    "from lib.utils import trace_processing\n",
    "from lib.visualization import data_visualization\n",
    "from lib.analysis import trace_statistics\n",
    "from lib.analysis import trace_classification\n"
   ]
  },
  {
   "cell_type": "markdown",
   "metadata": {},
   "source": [
    "Let us start importing 2 sets of experiments:\n",
    "1. *9 nodes* examples containing grids and random topologies;\n",
    "2. *16 nodes* examples containing grids and random topologies."
   ]
  },
  {
   "cell_type": "code",
   "execution_count": 2,
   "metadata": {},
   "outputs": [],
   "source": [
    "exp_9_nodes = trace_processing.import_trace('data/experiments/cooja3-9nodes/traces/', 'traces.csv')\n",
    "exp_16_nodes = trace_processing.import_trace('data/experiments/cooja3-16nodes/traces/', 'traces.csv')\n",
    "\n",
    "experiments = exp_9_nodes + exp_16_nodes"
   ]
  },
  {
   "cell_type": "markdown",
   "metadata": {},
   "source": [
    "# Experiment 1: Attacked vs Normal Behaviour\n",
    "\n",
    "Now we import *features* and *normalize* the data to speedup the learning process. For this experiment, we consider just two classes:\n",
    "1. **Normal** behaviour (0) meaning that the entire network is not under attack;\n",
    "2. **Attacked** (1), i.e. an attack has been performed (Black Hole or Gray Hole)."
   ]
  },
  {
   "cell_type": "code",
   "execution_count": 3,
   "metadata": {},
   "outputs": [
    {
     "name": "stderr",
     "output_type": "stream",
     "text": [
      "/Users/lucamaiano/miniconda3/lib/python3.7/site-packages/sklearn/preprocessing/data.py:334: DataConversionWarning: Data with input dtype int64, float64 were all converted to float64 by MinMaxScaler.\n",
      "  return self.partial_fit(X, y)\n"
     ]
    },
    {
     "data": {
      "text/html": [
       "<div>\n",
       "<style scoped>\n",
       "    .dataframe tbody tr th:only-of-type {\n",
       "        vertical-align: middle;\n",
       "    }\n",
       "\n",
       "    .dataframe tbody tr th {\n",
       "        vertical-align: top;\n",
       "    }\n",
       "\n",
       "    .dataframe thead th {\n",
       "        text-align: right;\n",
       "    }\n",
       "</style>\n",
       "<table border=\"1\" class=\"dataframe\">\n",
       "  <thead>\n",
       "    <tr style=\"text-align: right;\">\n",
       "      <th></th>\n",
       "      <th>node</th>\n",
       "      <th>experiment</th>\n",
       "      <th>tr_time</th>\n",
       "      <th>pckt_count</th>\n",
       "      <th>mean</th>\n",
       "      <th>var</th>\n",
       "      <th>hop</th>\n",
       "      <th>min</th>\n",
       "      <th>max</th>\n",
       "      <th>loss</th>\n",
       "      <th>outliers</th>\n",
       "      <th>label</th>\n",
       "    </tr>\n",
       "  </thead>\n",
       "  <tbody>\n",
       "    <tr>\n",
       "      <th>0</th>\n",
       "      <td>aaaa::212:740e:e:e0e:</td>\n",
       "      <td>16nodes/grid_normal_2019-02-26_10:29_</td>\n",
       "      <td>0.925548</td>\n",
       "      <td>0.786802</td>\n",
       "      <td>0.865296</td>\n",
       "      <td>0.227836</td>\n",
       "      <td>1.00</td>\n",
       "      <td>0.892245</td>\n",
       "      <td>0.933047</td>\n",
       "      <td>0.213198</td>\n",
       "      <td>0.4375</td>\n",
       "      <td>0</td>\n",
       "    </tr>\n",
       "    <tr>\n",
       "      <th>1</th>\n",
       "      <td>aaaa::212:740e:e:e0e:</td>\n",
       "      <td>16nodes/grid_1gh50-7_2019-02-19_22:53_</td>\n",
       "      <td>0.920130</td>\n",
       "      <td>0.837563</td>\n",
       "      <td>0.740827</td>\n",
       "      <td>0.239963</td>\n",
       "      <td>1.00</td>\n",
       "      <td>0.759164</td>\n",
       "      <td>0.776050</td>\n",
       "      <td>0.162437</td>\n",
       "      <td>0.6250</td>\n",
       "      <td>1</td>\n",
       "    </tr>\n",
       "    <tr>\n",
       "      <th>2</th>\n",
       "      <td>aaaa::212:7403:3:303:</td>\n",
       "      <td>16nodes/grid_1gh50-9_2019-02-19_23:54_</td>\n",
       "      <td>0.536411</td>\n",
       "      <td>0.695431</td>\n",
       "      <td>0.217282</td>\n",
       "      <td>0.234680</td>\n",
       "      <td>0.00</td>\n",
       "      <td>0.154782</td>\n",
       "      <td>0.365774</td>\n",
       "      <td>0.304569</td>\n",
       "      <td>0.3750</td>\n",
       "      <td>1</td>\n",
       "    </tr>\n",
       "    <tr>\n",
       "      <th>3</th>\n",
       "      <td>aaaa::212:7410:10:1010:</td>\n",
       "      <td>16nodes/grid_1bh-7_2019-02-19_22:13_</td>\n",
       "      <td>0.752495</td>\n",
       "      <td>0.720812</td>\n",
       "      <td>0.653086</td>\n",
       "      <td>0.117676</td>\n",
       "      <td>0.75</td>\n",
       "      <td>0.744139</td>\n",
       "      <td>0.703750</td>\n",
       "      <td>0.279188</td>\n",
       "      <td>0.4375</td>\n",
       "      <td>1</td>\n",
       "    </tr>\n",
       "    <tr>\n",
       "      <th>4</th>\n",
       "      <td>aaaa::212:7404:4:404:</td>\n",
       "      <td>16nodes/grid_normal_2019-02-19_21:23_</td>\n",
       "      <td>0.597849</td>\n",
       "      <td>0.700508</td>\n",
       "      <td>0.348500</td>\n",
       "      <td>0.550685</td>\n",
       "      <td>0.00</td>\n",
       "      <td>0.136392</td>\n",
       "      <td>0.657256</td>\n",
       "      <td>0.299492</td>\n",
       "      <td>0.4375</td>\n",
       "      <td>0</td>\n",
       "    </tr>\n",
       "  </tbody>\n",
       "</table>\n",
       "</div>"
      ],
      "text/plain": [
       "                      node                              experiment   tr_time  \\\n",
       "0    aaaa::212:740e:e:e0e:   16nodes/grid_normal_2019-02-26_10:29_  0.925548   \n",
       "1    aaaa::212:740e:e:e0e:  16nodes/grid_1gh50-7_2019-02-19_22:53_  0.920130   \n",
       "2    aaaa::212:7403:3:303:  16nodes/grid_1gh50-9_2019-02-19_23:54_  0.536411   \n",
       "3  aaaa::212:7410:10:1010:    16nodes/grid_1bh-7_2019-02-19_22:13_  0.752495   \n",
       "4    aaaa::212:7404:4:404:   16nodes/grid_normal_2019-02-19_21:23_  0.597849   \n",
       "\n",
       "   pckt_count      mean       var   hop       min       max      loss  \\\n",
       "0    0.786802  0.865296  0.227836  1.00  0.892245  0.933047  0.213198   \n",
       "1    0.837563  0.740827  0.239963  1.00  0.759164  0.776050  0.162437   \n",
       "2    0.695431  0.217282  0.234680  0.00  0.154782  0.365774  0.304569   \n",
       "3    0.720812  0.653086  0.117676  0.75  0.744139  0.703750  0.279188   \n",
       "4    0.700508  0.348500  0.550685  0.00  0.136392  0.657256  0.299492   \n",
       "\n",
       "   outliers  label  \n",
       "0    0.4375      0  \n",
       "1    0.6250      1  \n",
       "2    0.3750      1  \n",
       "3    0.4375      1  \n",
       "4    0.4375      0  "
      ]
     },
     "execution_count": 3,
     "metadata": {},
     "output_type": "execute_result"
    }
   ],
   "source": [
    "data = None\n",
    "n_classes = 2\n",
    "\n",
    "for experiment in experiments:\n",
    "    label = 0\n",
    "    topology = experiment[0].split('/')[2].split('cooja3-')[1]\n",
    "    experiment_id = topology + '/' + experiment[1]\n",
    "    \n",
    "    if n_classes == 2:\n",
    "        # Assign a label\n",
    "        if experiment[1].find('gh') >= 0 or experiment[1].find('bh') >= 0:\n",
    "            label = 1\n",
    "    else:\n",
    "        # Assign a label\n",
    "        if experiment[1].find('gh') >= 0:\n",
    "            label = 1\n",
    "        elif experiment[1].find('bh') >= 0:\n",
    "            label = 2\n",
    "    nodes, packets_node = trace_processing.process_cooja_traces(experiment[0], experiment[1])\n",
    "    \n",
    "    if data is None:\n",
    "        data = trace_processing.feature_extraction(nodes, packets_node, label, experiment_id, log_transform=True, window_size=200)    \n",
    "    else:\n",
    "        data = pd.concat([data, trace_processing.feature_extraction(nodes, packets_node, label, experiment_id, log_transform=True, window_size=200)])\n",
    "\n",
    "data = data.sample(frac=1).reset_index(drop=True)\n",
    "norm_data = trace_processing.feature_normalization(data, ['node', 'experiment', 'label'])\n",
    "norm_data.head(5)"
   ]
  },
  {
   "cell_type": "markdown",
   "metadata": {},
   "source": [
    "Now we can split the dataset in *training and testing set* of size 80% and 20% respectively."
   ]
  },
  {
   "cell_type": "code",
   "execution_count": 4,
   "metadata": {},
   "outputs": [
    {
     "data": {
      "text/html": [
       "<div>\n",
       "<style scoped>\n",
       "    .dataframe tbody tr th:only-of-type {\n",
       "        vertical-align: middle;\n",
       "    }\n",
       "\n",
       "    .dataframe tbody tr th {\n",
       "        vertical-align: top;\n",
       "    }\n",
       "\n",
       "    .dataframe thead th {\n",
       "        text-align: right;\n",
       "    }\n",
       "</style>\n",
       "<table border=\"1\" class=\"dataframe\">\n",
       "  <thead>\n",
       "    <tr style=\"text-align: right;\">\n",
       "      <th></th>\n",
       "      <th>tr_time</th>\n",
       "      <th>pckt_count</th>\n",
       "      <th>mean</th>\n",
       "      <th>var</th>\n",
       "      <th>hop</th>\n",
       "      <th>min</th>\n",
       "      <th>max</th>\n",
       "      <th>loss</th>\n",
       "      <th>outliers</th>\n",
       "    </tr>\n",
       "  </thead>\n",
       "  <tbody>\n",
       "    <tr>\n",
       "      <th>0</th>\n",
       "      <td>0.925548</td>\n",
       "      <td>0.786802</td>\n",
       "      <td>0.865296</td>\n",
       "      <td>0.227836</td>\n",
       "      <td>1.00</td>\n",
       "      <td>0.892245</td>\n",
       "      <td>0.933047</td>\n",
       "      <td>0.213198</td>\n",
       "      <td>0.4375</td>\n",
       "    </tr>\n",
       "    <tr>\n",
       "      <th>1</th>\n",
       "      <td>0.920130</td>\n",
       "      <td>0.837563</td>\n",
       "      <td>0.740827</td>\n",
       "      <td>0.239963</td>\n",
       "      <td>1.00</td>\n",
       "      <td>0.759164</td>\n",
       "      <td>0.776050</td>\n",
       "      <td>0.162437</td>\n",
       "      <td>0.6250</td>\n",
       "    </tr>\n",
       "    <tr>\n",
       "      <th>2</th>\n",
       "      <td>0.536411</td>\n",
       "      <td>0.695431</td>\n",
       "      <td>0.217282</td>\n",
       "      <td>0.234680</td>\n",
       "      <td>0.00</td>\n",
       "      <td>0.154782</td>\n",
       "      <td>0.365774</td>\n",
       "      <td>0.304569</td>\n",
       "      <td>0.3750</td>\n",
       "    </tr>\n",
       "    <tr>\n",
       "      <th>3</th>\n",
       "      <td>0.752495</td>\n",
       "      <td>0.720812</td>\n",
       "      <td>0.653086</td>\n",
       "      <td>0.117676</td>\n",
       "      <td>0.75</td>\n",
       "      <td>0.744139</td>\n",
       "      <td>0.703750</td>\n",
       "      <td>0.279188</td>\n",
       "      <td>0.4375</td>\n",
       "    </tr>\n",
       "    <tr>\n",
       "      <th>4</th>\n",
       "      <td>0.597849</td>\n",
       "      <td>0.700508</td>\n",
       "      <td>0.348500</td>\n",
       "      <td>0.550685</td>\n",
       "      <td>0.00</td>\n",
       "      <td>0.136392</td>\n",
       "      <td>0.657256</td>\n",
       "      <td>0.299492</td>\n",
       "      <td>0.4375</td>\n",
       "    </tr>\n",
       "  </tbody>\n",
       "</table>\n",
       "</div>"
      ],
      "text/plain": [
       "    tr_time  pckt_count      mean       var   hop       min       max  \\\n",
       "0  0.925548    0.786802  0.865296  0.227836  1.00  0.892245  0.933047   \n",
       "1  0.920130    0.837563  0.740827  0.239963  1.00  0.759164  0.776050   \n",
       "2  0.536411    0.695431  0.217282  0.234680  0.00  0.154782  0.365774   \n",
       "3  0.752495    0.720812  0.653086  0.117676  0.75  0.744139  0.703750   \n",
       "4  0.597849    0.700508  0.348500  0.550685  0.00  0.136392  0.657256   \n",
       "\n",
       "       loss  outliers  \n",
       "0  0.213198    0.4375  \n",
       "1  0.162437    0.6250  \n",
       "2  0.304569    0.3750  \n",
       "3  0.279188    0.4375  \n",
       "4  0.299492    0.4375  "
      ]
     },
     "execution_count": 4,
     "metadata": {},
     "output_type": "execute_result"
    }
   ],
   "source": [
    "X = norm_data.drop(['node', 'experiment', 'label'], axis=1)\n",
    "y = norm_data['label']\n",
    "\n",
    "X_train, X_test, y_train, y_test = train_test_split(X, y, test_size=0.2, random_state=42) # 80% training and 20% test\n",
    "\n",
    "X.head()"
   ]
  },
  {
   "cell_type": "markdown",
   "metadata": {},
   "source": [
    "## Feature Selection\n",
    "\n",
    "Starting from the results that we obtained during the data exploration phase, we can now start to train and compare the learning algorithms. The results will be compared with different sets of features. Features will be iteratively selected removing the most relevant and less relevant feature. Most significant feature is dropped to avoid *overfitting*, less relevant feature is dropped to avoid *underfitting*.\n",
    "\n",
    "The experiment will be repeated iteratively following this way:\n",
    "1. select a set of feature;\n",
    "2. run learning algorithms;\n",
    "3. measure performances.\n",
    "\n",
    "At the end the best set of features will be selected. We start selecting the entire set of features.\n",
    "\n",
    "### Supervised Algorithms\n",
    "\n",
    "1. The first algorithm that we evaluate is **k-NN**."
   ]
  },
  {
   "cell_type": "code",
   "execution_count": 5,
   "metadata": {},
   "outputs": [
    {
     "name": "stdout",
     "output_type": "stream",
     "text": [
      "AUC on validation set 1/5: 0.7303921568627452\n",
      "AUC on validation set 2/5: 0.7313725490196079\n",
      "AUC on validation set 3/5: 0.6617647058823529\n",
      "AUC on validation set 4/5: 0.6418988648090815\n",
      "AUC on validation set 5/5: 0.6780185758513932\n",
      "Mean AUC 0.689 (Std +/- 0.036)\n"
     ]
    },
    {
     "data": {
      "text/html": [
       "<div>\n",
       "<style scoped>\n",
       "    .dataframe tbody tr th:only-of-type {\n",
       "        vertical-align: middle;\n",
       "    }\n",
       "\n",
       "    .dataframe tbody tr th {\n",
       "        vertical-align: top;\n",
       "    }\n",
       "\n",
       "    .dataframe thead th {\n",
       "        text-align: right;\n",
       "    }\n",
       "</style>\n",
       "<table border=\"1\" class=\"dataframe\">\n",
       "  <thead>\n",
       "    <tr style=\"text-align: right;\">\n",
       "      <th></th>\n",
       "      <th>model</th>\n",
       "      <th>accuracy</th>\n",
       "      <th>precision</th>\n",
       "      <th>recall</th>\n",
       "      <th>f1-score</th>\n",
       "      <th>auc roc</th>\n",
       "    </tr>\n",
       "  </thead>\n",
       "  <tbody>\n",
       "    <tr>\n",
       "      <th>0</th>\n",
       "      <td>knn</td>\n",
       "      <td>0.730337</td>\n",
       "      <td>0.681004</td>\n",
       "      <td>0.681004</td>\n",
       "      <td>0.681004</td>\n",
       "      <td>0.681004</td>\n",
       "    </tr>\n",
       "  </tbody>\n",
       "</table>\n",
       "</div>"
      ],
      "text/plain": [
       "  model  accuracy  precision    recall  f1-score   auc roc\n",
       "0   knn  0.730337   0.681004  0.681004  0.681004  0.681004"
      ]
     },
     "execution_count": 5,
     "metadata": {},
     "output_type": "execute_result"
    }
   ],
   "source": [
    "knn_pred = trace_classification.k_nn_classifier(X_train, y_train, X_test, y_test, n_neighbors=3, cross_val=5)\n",
    "knn_results, knn_confusion_matrix = trace_classification.test_metrics('knn', y_test, knn_pred)\n",
    "knn_results"
   ]
  },
  {
   "cell_type": "markdown",
   "metadata": {},
   "source": [
    "2. Now we evaluate **RandomForest Classifier**."
   ]
  },
  {
   "cell_type": "code",
   "execution_count": 6,
   "metadata": {},
   "outputs": [
    {
     "name": "stdout",
     "output_type": "stream",
     "text": [
      "AUC on validation set 1/5: 0.5955882352941176\n",
      "AUC on validation set 2/5: 0.6955882352941176\n",
      "AUC on validation set 3/5: 0.617156862745098\n",
      "AUC on validation set 4/5: 0.6186790505675954\n",
      "AUC on validation set 5/5: 0.714138286893705\n",
      "Mean AUC 0.714 (Std +/- 0.000)\n"
     ]
    },
    {
     "data": {
      "text/html": [
       "<div>\n",
       "<style scoped>\n",
       "    .dataframe tbody tr th:only-of-type {\n",
       "        vertical-align: middle;\n",
       "    }\n",
       "\n",
       "    .dataframe tbody tr th {\n",
       "        vertical-align: top;\n",
       "    }\n",
       "\n",
       "    .dataframe thead th {\n",
       "        text-align: right;\n",
       "    }\n",
       "</style>\n",
       "<table border=\"1\" class=\"dataframe\">\n",
       "  <thead>\n",
       "    <tr style=\"text-align: right;\">\n",
       "      <th></th>\n",
       "      <th>model</th>\n",
       "      <th>accuracy</th>\n",
       "      <th>precision</th>\n",
       "      <th>recall</th>\n",
       "      <th>f1-score</th>\n",
       "      <th>auc roc</th>\n",
       "    </tr>\n",
       "  </thead>\n",
       "  <tbody>\n",
       "    <tr>\n",
       "      <th>0</th>\n",
       "      <td>random forest</td>\n",
       "      <td>0.719101</td>\n",
       "      <td>0.660787</td>\n",
       "      <td>0.641577</td>\n",
       "      <td>0.647999</td>\n",
       "      <td>0.641577</td>\n",
       "    </tr>\n",
       "  </tbody>\n",
       "</table>\n",
       "</div>"
      ],
      "text/plain": [
       "           model  accuracy  precision    recall  f1-score   auc roc\n",
       "0  random forest  0.719101   0.660787  0.641577  0.647999  0.641577"
      ]
     },
     "execution_count": 6,
     "metadata": {},
     "output_type": "execute_result"
    }
   ],
   "source": [
    "rfc_pred = trace_classification.random_forest_classifier(X_train, y_train, X_test, y_test, n_estimators=100, cross_val=5)\n",
    "rfc_results, rfc_confusion_matrix = trace_classification.test_metrics('random forest', y_test, rfc_pred)\n",
    "rfc_results"
   ]
  },
  {
   "cell_type": "markdown",
   "metadata": {},
   "source": [
    "3. Prediction of **Support Vector Machines (SVM)**."
   ]
  },
  {
   "cell_type": "code",
   "execution_count": 7,
   "metadata": {},
   "outputs": [
    {
     "name": "stdout",
     "output_type": "stream",
     "text": [
      "AUC on validation set 1/5: 0.5\n",
      "AUC on validation set 2/5: 0.5\n",
      "AUC on validation set 3/5: 0.5\n",
      "AUC on validation set 4/5: 0.5\n",
      "AUC on validation set 5/5: 0.5\n",
      "Mean AUC 0.500 (Std +/- 0.000)\n"
     ]
    },
    {
     "name": "stderr",
     "output_type": "stream",
     "text": [
      "/Users/lucamaiano/miniconda3/lib/python3.7/site-packages/sklearn/metrics/classification.py:1143: UndefinedMetricWarning: Precision is ill-defined and being set to 0.0 in labels with no predicted samples.\n",
      "  'precision', 'predicted', average, warn_for)\n",
      "/Users/lucamaiano/miniconda3/lib/python3.7/site-packages/sklearn/metrics/classification.py:1143: UndefinedMetricWarning: F-score is ill-defined and being set to 0.0 in labels with no predicted samples.\n",
      "  'precision', 'predicted', average, warn_for)\n"
     ]
    },
    {
     "data": {
      "text/html": [
       "<div>\n",
       "<style scoped>\n",
       "    .dataframe tbody tr th:only-of-type {\n",
       "        vertical-align: middle;\n",
       "    }\n",
       "\n",
       "    .dataframe tbody tr th {\n",
       "        vertical-align: top;\n",
       "    }\n",
       "\n",
       "    .dataframe thead th {\n",
       "        text-align: right;\n",
       "    }\n",
       "</style>\n",
       "<table border=\"1\" class=\"dataframe\">\n",
       "  <thead>\n",
       "    <tr style=\"text-align: right;\">\n",
       "      <th></th>\n",
       "      <th>model</th>\n",
       "      <th>accuracy</th>\n",
       "      <th>precision</th>\n",
       "      <th>recall</th>\n",
       "      <th>f1-score</th>\n",
       "      <th>auc roc</th>\n",
       "    </tr>\n",
       "  </thead>\n",
       "  <tbody>\n",
       "    <tr>\n",
       "      <th>0</th>\n",
       "      <td>svm</td>\n",
       "      <td>0.696629</td>\n",
       "      <td>0.348315</td>\n",
       "      <td>0.5</td>\n",
       "      <td>0.410596</td>\n",
       "      <td>0.5</td>\n",
       "    </tr>\n",
       "  </tbody>\n",
       "</table>\n",
       "</div>"
      ],
      "text/plain": [
       "  model  accuracy  precision  recall  f1-score  auc roc\n",
       "0   svm  0.696629   0.348315     0.5  0.410596      0.5"
      ]
     },
     "execution_count": 7,
     "metadata": {},
     "output_type": "execute_result"
    }
   ],
   "source": [
    "svm_pred = trace_classification.svm_classifier(X_train, y_train, X_test, y_test, kernel='linear', cross_val=5)\n",
    "svm_results, svm_confusion_matrix = trace_classification.test_metrics('svm', y_test, svm_pred)\n",
    "svm_results"
   ]
  },
  {
   "cell_type": "markdown",
   "metadata": {},
   "source": [
    "4. Finally we implement **Deep Neural Networks**."
   ]
  },
  {
   "cell_type": "code",
   "execution_count": 8,
   "metadata": {},
   "outputs": [
    {
     "name": "stdout",
     "output_type": "stream",
     "text": [
      "Mean Accuracy: 81.28% (5.55%)\n"
     ]
    },
    {
     "data": {
      "text/html": [
       "<div>\n",
       "<style scoped>\n",
       "    .dataframe tbody tr th:only-of-type {\n",
       "        vertical-align: middle;\n",
       "    }\n",
       "\n",
       "    .dataframe tbody tr th {\n",
       "        vertical-align: top;\n",
       "    }\n",
       "\n",
       "    .dataframe thead th {\n",
       "        text-align: right;\n",
       "    }\n",
       "</style>\n",
       "<table border=\"1\" class=\"dataframe\">\n",
       "  <thead>\n",
       "    <tr style=\"text-align: right;\">\n",
       "      <th></th>\n",
       "      <th>model</th>\n",
       "      <th>accuracy</th>\n",
       "      <th>precision</th>\n",
       "      <th>recall</th>\n",
       "      <th>f1-score</th>\n",
       "      <th>auc roc</th>\n",
       "    </tr>\n",
       "  </thead>\n",
       "  <tbody>\n",
       "    <tr>\n",
       "      <th>0</th>\n",
       "      <td>neural network</td>\n",
       "      <td>0.831461</td>\n",
       "      <td>0.902597</td>\n",
       "      <td>0.722222</td>\n",
       "      <td>0.753735</td>\n",
       "      <td>0.722222</td>\n",
       "    </tr>\n",
       "  </tbody>\n",
       "</table>\n",
       "</div>"
      ],
      "text/plain": [
       "            model  accuracy  precision    recall  f1-score   auc roc\n",
       "0  neural network  0.831461   0.902597  0.722222  0.753735  0.722222"
      ]
     },
     "execution_count": 8,
     "metadata": {},
     "output_type": "execute_result"
    },
    {
     "data": {
      "image/png": "[encoded data removed]",
      "text/plain": [
       "<Figure size 720x432 with 1 Axes>"
      ]
     },
     "metadata": {
      "needs_background": "light"
     },
     "output_type": "display_data"
    }
   ],
   "source": [
    "nn_pred = trace_classification.neural_net_classifier(X_train, y_train, X_test, y_test, '2classes')\n",
    "nn_results, nn_confusion_matrix = trace_classification.test_metrics('neural network', y_test, nn_pred)\n",
    "nn_results"
   ]
  },
  {
   "cell_type": "markdown",
   "metadata": {},
   "source": [
    "### Unsupervised Algorithms\n",
    "\n",
    "Now we can try to model the problem as an unsupervised learning problem. First, we apply a PCA transformation to collapse the set of datapoints to a 3D space."
   ]
  },
  {
   "cell_type": "code",
   "execution_count": 9,
   "metadata": {},
   "outputs": [
    {
     "data": {
      "text/html": [
       "<div>\n",
       "<style scoped>\n",
       "    .dataframe tbody tr th:only-of-type {\n",
       "        vertical-align: middle;\n",
       "    }\n",
       "\n",
       "    .dataframe tbody tr th {\n",
       "        vertical-align: top;\n",
       "    }\n",
       "\n",
       "    .dataframe thead th {\n",
       "        text-align: right;\n",
       "    }\n",
       "</style>\n",
       "<table border=\"1\" class=\"dataframe\">\n",
       "  <thead>\n",
       "    <tr style=\"text-align: right;\">\n",
       "      <th></th>\n",
       "      <th>0</th>\n",
       "      <th>1</th>\n",
       "      <th>2</th>\n",
       "      <th>3</th>\n",
       "      <th>4</th>\n",
       "      <th>5</th>\n",
       "      <th>6</th>\n",
       "    </tr>\n",
       "  </thead>\n",
       "  <tbody>\n",
       "    <tr>\n",
       "      <th>0</th>\n",
       "      <td>0.812034</td>\n",
       "      <td>-0.529557</td>\n",
       "      <td>0.136023</td>\n",
       "      <td>-0.094925</td>\n",
       "      <td>0.054229</td>\n",
       "      <td>-0.028909</td>\n",
       "      <td>-0.009181</td>\n",
       "    </tr>\n",
       "    <tr>\n",
       "      <th>1</th>\n",
       "      <td>0.585405</td>\n",
       "      <td>-0.570331</td>\n",
       "      <td>0.067953</td>\n",
       "      <td>0.078004</td>\n",
       "      <td>0.156035</td>\n",
       "      <td>-0.008804</td>\n",
       "      <td>-0.006416</td>\n",
       "    </tr>\n",
       "    <tr>\n",
       "      <th>2</th>\n",
       "      <td>-0.398465</td>\n",
       "      <td>0.456901</td>\n",
       "      <td>0.027045</td>\n",
       "      <td>-0.025535</td>\n",
       "      <td>0.007498</td>\n",
       "      <td>-0.015796</td>\n",
       "      <td>0.000689</td>\n",
       "    </tr>\n",
       "    <tr>\n",
       "      <th>3</th>\n",
       "      <td>0.491950</td>\n",
       "      <td>-0.234459</td>\n",
       "      <td>-0.043878</td>\n",
       "      <td>-0.034347</td>\n",
       "      <td>-0.020611</td>\n",
       "      <td>-0.060979</td>\n",
       "      <td>0.009184</td>\n",
       "    </tr>\n",
       "    <tr>\n",
       "      <th>4</th>\n",
       "      <td>-0.229199</td>\n",
       "      <td>0.446381</td>\n",
       "      <td>0.423604</td>\n",
       "      <td>0.006632</td>\n",
       "      <td>0.159292</td>\n",
       "      <td>-0.015643</td>\n",
       "      <td>-0.002505</td>\n",
       "    </tr>\n",
       "  </tbody>\n",
       "</table>\n",
       "</div>"
      ],
      "text/plain": [
       "          0         1         2         3         4         5         6\n",
       "0  0.812034 -0.529557  0.136023 -0.094925  0.054229 -0.028909 -0.009181\n",
       "1  0.585405 -0.570331  0.067953  0.078004  0.156035 -0.008804 -0.006416\n",
       "2 -0.398465  0.456901  0.027045 -0.025535  0.007498 -0.015796  0.000689\n",
       "3  0.491950 -0.234459 -0.043878 -0.034347 -0.020611 -0.060979  0.009184\n",
       "4 -0.229199  0.446381  0.423604  0.006632  0.159292 -0.015643 -0.002505"
      ]
     },
     "execution_count": 9,
     "metadata": {},
     "output_type": "execute_result"
    }
   ],
   "source": [
    "X_pca = trace_classification.pca_transformation(X, n_components=len(X.columns)-2)\n",
    "X_pca.head()"
   ]
  },
  {
   "cell_type": "markdown",
   "metadata": {},
   "source": [
    "5. Let us try modeling the problem with **K-Means**."
   ]
  },
  {
   "cell_type": "code",
   "execution_count": 10,
   "metadata": {},
   "outputs": [
    {
     "data": {
      "text/html": [
       "<div>\n",
       "<style scoped>\n",
       "    .dataframe tbody tr th:only-of-type {\n",
       "        vertical-align: middle;\n",
       "    }\n",
       "\n",
       "    .dataframe tbody tr th {\n",
       "        vertical-align: top;\n",
       "    }\n",
       "\n",
       "    .dataframe thead th {\n",
       "        text-align: right;\n",
       "    }\n",
       "</style>\n",
       "<table border=\"1\" class=\"dataframe\">\n",
       "  <thead>\n",
       "    <tr style=\"text-align: right;\">\n",
       "      <th></th>\n",
       "      <th>model</th>\n",
       "      <th>accuracy</th>\n",
       "      <th>precision</th>\n",
       "      <th>recall</th>\n",
       "      <th>f1-score</th>\n",
       "      <th>auc roc</th>\n",
       "    </tr>\n",
       "  </thead>\n",
       "  <tbody>\n",
       "    <tr>\n",
       "      <th>0</th>\n",
       "      <td>kmeans</td>\n",
       "      <td>0.624434</td>\n",
       "      <td>0.60027</td>\n",
       "      <td>0.62188</td>\n",
       "      <td>0.593462</td>\n",
       "      <td>0.62188</td>\n",
       "    </tr>\n",
       "  </tbody>\n",
       "</table>\n",
       "</div>"
      ],
      "text/plain": [
       "    model  accuracy  precision   recall  f1-score  auc roc\n",
       "0  kmeans  0.624434    0.60027  0.62188  0.593462  0.62188"
      ]
     },
     "execution_count": 10,
     "metadata": {},
     "output_type": "execute_result"
    },
    {
     "data": {
      "image/png": "[encoded data removed]",
      "text/plain": [
       "<Figure size 720x432 with 1 Axes>"
      ]
     },
     "metadata": {
      "needs_background": "light"
     },
     "output_type": "display_data"
    }
   ],
   "source": [
    "kmeans_pred, centroids = trace_classification.kmeans_classifier(X_pca, n_clusters=2)\n",
    "data_visualization.plot_3d_points(X_pca[0], X_pca[1], X_pca[3], y, plot_name='KMeans_K2', centroids=centroids)\n",
    "kmeans_results, kmeans_confusion_matrix = trace_classification.test_metrics('kmeans', y, kmeans_pred)\n",
    "kmeans_results"
   ]
  },
  {
   "cell_type": "markdown",
   "metadata": {},
   "source": [
    "## Conclusions\n",
    "\n",
    "Let us compare the results obtained from the experiment."
   ]
  },
  {
   "cell_type": "code",
   "execution_count": 11,
   "metadata": {},
   "outputs": [
    {
     "data": {
      "text/html": [
       "<div>\n",
       "<style scoped>\n",
       "    .dataframe tbody tr th:only-of-type {\n",
       "        vertical-align: middle;\n",
       "    }\n",
       "\n",
       "    .dataframe tbody tr th {\n",
       "        vertical-align: top;\n",
       "    }\n",
       "\n",
       "    .dataframe thead th {\n",
       "        text-align: right;\n",
       "    }\n",
       "</style>\n",
       "<table border=\"1\" class=\"dataframe\">\n",
       "  <thead>\n",
       "    <tr style=\"text-align: right;\">\n",
       "      <th></th>\n",
       "      <th>model</th>\n",
       "      <th>n_classes</th>\n",
       "      <th>accuracy</th>\n",
       "      <th>precision</th>\n",
       "      <th>recall</th>\n",
       "      <th>f1-score</th>\n",
       "      <th>auc roc</th>\n",
       "      <th>features</th>\n",
       "    </tr>\n",
       "  </thead>\n",
       "  <tbody>\n",
       "    <tr>\n",
       "      <th>0</th>\n",
       "      <td>knn</td>\n",
       "      <td>2</td>\n",
       "      <td>0.730337</td>\n",
       "      <td>0.681004</td>\n",
       "      <td>0.681004</td>\n",
       "      <td>0.681004</td>\n",
       "      <td>0.681004</td>\n",
       "      <td>hop, loss, max, mean, min, outliers, pckt_coun...</td>\n",
       "    </tr>\n",
       "    <tr>\n",
       "      <th>1</th>\n",
       "      <td>random forest</td>\n",
       "      <td>2</td>\n",
       "      <td>0.719101</td>\n",
       "      <td>0.660787</td>\n",
       "      <td>0.641577</td>\n",
       "      <td>0.647999</td>\n",
       "      <td>0.641577</td>\n",
       "      <td>hop, loss, max, mean, min, outliers, pckt_coun...</td>\n",
       "    </tr>\n",
       "    <tr>\n",
       "      <th>2</th>\n",
       "      <td>svm</td>\n",
       "      <td>2</td>\n",
       "      <td>0.696629</td>\n",
       "      <td>0.348315</td>\n",
       "      <td>0.500000</td>\n",
       "      <td>0.410596</td>\n",
       "      <td>0.500000</td>\n",
       "      <td>hop, loss, max, mean, min, outliers, pckt_coun...</td>\n",
       "    </tr>\n",
       "    <tr>\n",
       "      <th>3</th>\n",
       "      <td>neural network</td>\n",
       "      <td>2</td>\n",
       "      <td>0.831461</td>\n",
       "      <td>0.902597</td>\n",
       "      <td>0.722222</td>\n",
       "      <td>0.753735</td>\n",
       "      <td>0.722222</td>\n",
       "      <td>hop, loss, max, mean, min, outliers, pckt_coun...</td>\n",
       "    </tr>\n",
       "    <tr>\n",
       "      <th>4</th>\n",
       "      <td>kmeans</td>\n",
       "      <td>2</td>\n",
       "      <td>0.624434</td>\n",
       "      <td>0.600270</td>\n",
       "      <td>0.621880</td>\n",
       "      <td>0.593462</td>\n",
       "      <td>0.621880</td>\n",
       "      <td>hop, loss, max, mean, min, outliers, pckt_coun...</td>\n",
       "    </tr>\n",
       "  </tbody>\n",
       "</table>\n",
       "</div>"
      ],
      "text/plain": [
       "            model n_classes  accuracy  precision    recall  f1-score  \\\n",
       "0             knn         2  0.730337   0.681004  0.681004  0.681004   \n",
       "1   random forest         2  0.719101   0.660787  0.641577  0.647999   \n",
       "2             svm         2  0.696629   0.348315  0.500000  0.410596   \n",
       "3  neural network         2  0.831461   0.902597  0.722222  0.753735   \n",
       "4          kmeans         2  0.624434   0.600270  0.621880  0.593462   \n",
       "\n",
       "    auc roc                                           features  \n",
       "0  0.681004  hop, loss, max, mean, min, outliers, pckt_coun...  \n",
       "1  0.641577  hop, loss, max, mean, min, outliers, pckt_coun...  \n",
       "2  0.500000  hop, loss, max, mean, min, outliers, pckt_coun...  \n",
       "3  0.722222  hop, loss, max, mean, min, outliers, pckt_coun...  \n",
       "4  0.621880  hop, loss, max, mean, min, outliers, pckt_coun...  "
      ]
     },
     "execution_count": 11,
     "metadata": {},
     "output_type": "execute_result"
    }
   ],
   "source": [
    "trace_classification.write_results([knn_results, rfc_results, svm_results, nn_results, kmeans_results], list(X.columns.values), 2)"
   ]
  },
  {
   "cell_type": "markdown",
   "metadata": {},
   "source": [
    "Based on the table above, we see that the **neural network** outperform all the other models. **KNN** also achieve really good results follwed by *random forsests*."
   ]
  },
  {
   "cell_type": "markdown",
   "metadata": {},
   "source": [
    "# Experiment 2: Normal Behaviour vs Grey Hole vs Black Hole Attack\n",
    "\n",
    "For this second scenario, we want to detect which attack has been performed (if any). Each node will be labeled as follows:\n",
    "1. **Normal** behaviour (0) meaning that the entire network is not under attack;\n",
    "2. **Grey Hole** (1);\n",
    "3. **Black Hole** (2)."
   ]
  },
  {
   "cell_type": "code",
   "execution_count": 12,
   "metadata": {},
   "outputs": [
    {
     "name": "stderr",
     "output_type": "stream",
     "text": [
      "/Users/lucamaiano/miniconda3/lib/python3.7/site-packages/sklearn/preprocessing/data.py:334: DataConversionWarning: Data with input dtype int64, float64 were all converted to float64 by MinMaxScaler.\n",
      "  return self.partial_fit(X, y)\n"
     ]
    },
    {
     "data": {
      "text/html": [
       "<div>\n",
       "<style scoped>\n",
       "    .dataframe tbody tr th:only-of-type {\n",
       "        vertical-align: middle;\n",
       "    }\n",
       "\n",
       "    .dataframe tbody tr th {\n",
       "        vertical-align: top;\n",
       "    }\n",
       "\n",
       "    .dataframe thead th {\n",
       "        text-align: right;\n",
       "    }\n",
       "</style>\n",
       "<table border=\"1\" class=\"dataframe\">\n",
       "  <thead>\n",
       "    <tr style=\"text-align: right;\">\n",
       "      <th></th>\n",
       "      <th>node</th>\n",
       "      <th>experiment</th>\n",
       "      <th>tr_time</th>\n",
       "      <th>pckt_count</th>\n",
       "      <th>mean</th>\n",
       "      <th>var</th>\n",
       "      <th>hop</th>\n",
       "      <th>min</th>\n",
       "      <th>max</th>\n",
       "      <th>loss</th>\n",
       "      <th>outliers</th>\n",
       "      <th>label</th>\n",
       "    </tr>\n",
       "  </thead>\n",
       "  <tbody>\n",
       "    <tr>\n",
       "      <th>0</th>\n",
       "      <td>aaaa::212:7403:3:303:</td>\n",
       "      <td>16nodes/grid_1gh30-9_2019-02-20_00:12_</td>\n",
       "      <td>0.693166</td>\n",
       "      <td>0.934010</td>\n",
       "      <td>0.168158</td>\n",
       "      <td>0.134531</td>\n",
       "      <td>0.00</td>\n",
       "      <td>0.140666</td>\n",
       "      <td>0.249259</td>\n",
       "      <td>0.065990</td>\n",
       "      <td>0.5625</td>\n",
       "      <td>1</td>\n",
       "    </tr>\n",
       "    <tr>\n",
       "      <th>1</th>\n",
       "      <td>aaaa::212:7404:4:404:</td>\n",
       "      <td>9nodes/grid9_normal_2019-02-13_17:05_</td>\n",
       "      <td>0.672688</td>\n",
       "      <td>0.700508</td>\n",
       "      <td>0.519302</td>\n",
       "      <td>0.359192</td>\n",
       "      <td>0.25</td>\n",
       "      <td>0.471519</td>\n",
       "      <td>0.606865</td>\n",
       "      <td>0.299492</td>\n",
       "      <td>0.5625</td>\n",
       "      <td>0</td>\n",
       "    </tr>\n",
       "    <tr>\n",
       "      <th>2</th>\n",
       "      <td>aaaa::212:7404:4:404:</td>\n",
       "      <td>9nodes/grid9_1bh-5_2019-02-13_15:31_</td>\n",
       "      <td>0.701572</td>\n",
       "      <td>0.807107</td>\n",
       "      <td>0.373064</td>\n",
       "      <td>0.356482</td>\n",
       "      <td>0.25</td>\n",
       "      <td>0.294604</td>\n",
       "      <td>0.540642</td>\n",
       "      <td>0.192893</td>\n",
       "      <td>0.3750</td>\n",
       "      <td>2</td>\n",
       "    </tr>\n",
       "    <tr>\n",
       "      <th>3</th>\n",
       "      <td>aaaa::212:7402:2:202:</td>\n",
       "      <td>9nodes/grid9_1bh-6_2019-02-13_19:15_</td>\n",
       "      <td>0.775842</td>\n",
       "      <td>0.984772</td>\n",
       "      <td>0.241301</td>\n",
       "      <td>0.056364</td>\n",
       "      <td>0.25</td>\n",
       "      <td>0.304411</td>\n",
       "      <td>0.251316</td>\n",
       "      <td>0.015228</td>\n",
       "      <td>0.5625</td>\n",
       "      <td>2</td>\n",
       "    </tr>\n",
       "    <tr>\n",
       "      <th>4</th>\n",
       "      <td>aaaa::212:740b:b:b0b:</td>\n",
       "      <td>16nodes/grid_normal_2019-02-26_10:29_</td>\n",
       "      <td>0.763657</td>\n",
       "      <td>0.685279</td>\n",
       "      <td>0.765573</td>\n",
       "      <td>0.347470</td>\n",
       "      <td>0.75</td>\n",
       "      <td>0.728371</td>\n",
       "      <td>0.839155</td>\n",
       "      <td>0.314721</td>\n",
       "      <td>0.3750</td>\n",
       "      <td>0</td>\n",
       "    </tr>\n",
       "  </tbody>\n",
       "</table>\n",
       "</div>"
      ],
      "text/plain": [
       "                    node                              experiment   tr_time  \\\n",
       "0  aaaa::212:7403:3:303:  16nodes/grid_1gh30-9_2019-02-20_00:12_  0.693166   \n",
       "1  aaaa::212:7404:4:404:   9nodes/grid9_normal_2019-02-13_17:05_  0.672688   \n",
       "2  aaaa::212:7404:4:404:    9nodes/grid9_1bh-5_2019-02-13_15:31_  0.701572   \n",
       "3  aaaa::212:7402:2:202:    9nodes/grid9_1bh-6_2019-02-13_19:15_  0.775842   \n",
       "4  aaaa::212:740b:b:b0b:   16nodes/grid_normal_2019-02-26_10:29_  0.763657   \n",
       "\n",
       "   pckt_count      mean       var   hop       min       max      loss  \\\n",
       "0    0.934010  0.168158  0.134531  0.00  0.140666  0.249259  0.065990   \n",
       "1    0.700508  0.519302  0.359192  0.25  0.471519  0.606865  0.299492   \n",
       "2    0.807107  0.373064  0.356482  0.25  0.294604  0.540642  0.192893   \n",
       "3    0.984772  0.241301  0.056364  0.25  0.304411  0.251316  0.015228   \n",
       "4    0.685279  0.765573  0.347470  0.75  0.728371  0.839155  0.314721   \n",
       "\n",
       "   outliers  label  \n",
       "0    0.5625      1  \n",
       "1    0.5625      0  \n",
       "2    0.3750      2  \n",
       "3    0.5625      2  \n",
       "4    0.3750      0  "
      ]
     },
     "execution_count": 12,
     "metadata": {},
     "output_type": "execute_result"
    }
   ],
   "source": [
    "data = None\n",
    "n_classes = 3\n",
    "\n",
    "for experiment in experiments:\n",
    "    label = 0\n",
    "    topology = experiment[0].split('/')[2].split('cooja3-')[1]\n",
    "    experiment_id = topology + '/' + experiment[1]\n",
    "    \n",
    "    if n_classes == 2:\n",
    "        # Assign a label\n",
    "        if experiment[1].find('gh') >= 0 or experiment[1].find('bh') >= 0:\n",
    "            label = 1\n",
    "    else:\n",
    "        # Assign a label\n",
    "        if experiment[1].find('gh') >= 0:\n",
    "            label = 1\n",
    "        elif experiment[1].find('bh') >= 0:\n",
    "            label = 2\n",
    "    nodes, packets_node = trace_processing.process_cooja_traces(experiment[0], experiment[1])\n",
    "    \n",
    "    if data is None:\n",
    "        data = trace_processing.feature_extraction(nodes, packets_node, label, experiment_id, log_transform=True, window_size=200)    \n",
    "    else:\n",
    "        data = pd.concat([data, trace_processing.feature_extraction(nodes, packets_node, label, experiment_id, log_transform=True, window_size=200)])\n",
    "\n",
    "data = data.sample(frac=1).reset_index(drop=True)\n",
    "norm_data = trace_processing.feature_normalization(data, ['node', 'experiment', 'label'])\n",
    "\n",
    "# Normalize data\n",
    "X = norm_data.drop(['node', 'experiment', 'label'], axis=1)\n",
    "y = norm_data['label']\n",
    "\n",
    "X_train, X_test, y_train, y_test = train_test_split(X, y, test_size=0.2, random_state=42) # 80% training and 20% test\n",
    "\n",
    "norm_data.head()"
   ]
  },
  {
   "cell_type": "markdown",
   "metadata": {},
   "source": [
    "## Feature Selection\n",
    "\n",
    "We repeat the experiment following the same identical approach as before. Thus we choose a set of features, and we iterate removing the most important and less importan one until we obtain the best results.\n",
    "\n",
    "### Supervised Algorithms\n",
    "\n",
    "1. The first algorithm that we evaluate is **k-NN**."
   ]
  },
  {
   "cell_type": "code",
   "execution_count": 13,
   "metadata": {},
   "outputs": [
    {
     "name": "stdout",
     "output_type": "stream",
     "text": [
      "AUC on validation set 1/5: 0.5855742296918767\n",
      "AUC on validation set 2/5: 0.5952705472432875\n",
      "AUC on validation set 3/5: 0.6635516898096497\n",
      "AUC on validation set 4/5: 0.623577617197706\n",
      "AUC on validation set 5/5: 0.6616975335129847\n",
      "Mean AUC 0.626 (Std +/- 0.032)\n"
     ]
    },
    {
     "data": {
      "text/html": [
       "<div>\n",
       "<style scoped>\n",
       "    .dataframe tbody tr th:only-of-type {\n",
       "        vertical-align: middle;\n",
       "    }\n",
       "\n",
       "    .dataframe tbody tr th {\n",
       "        vertical-align: top;\n",
       "    }\n",
       "\n",
       "    .dataframe thead th {\n",
       "        text-align: right;\n",
       "    }\n",
       "</style>\n",
       "<table border=\"1\" class=\"dataframe\">\n",
       "  <thead>\n",
       "    <tr style=\"text-align: right;\">\n",
       "      <th></th>\n",
       "      <th>model</th>\n",
       "      <th>accuracy</th>\n",
       "      <th>precision</th>\n",
       "      <th>recall</th>\n",
       "      <th>f1-score</th>\n",
       "      <th>auc roc</th>\n",
       "    </tr>\n",
       "  </thead>\n",
       "  <tbody>\n",
       "    <tr>\n",
       "      <th>0</th>\n",
       "      <td>knn</td>\n",
       "      <td>0.494382</td>\n",
       "      <td>0.496991</td>\n",
       "      <td>0.503968</td>\n",
       "      <td>0.49542</td>\n",
       "      <td>0.625899</td>\n",
       "    </tr>\n",
       "  </tbody>\n",
       "</table>\n",
       "</div>"
      ],
      "text/plain": [
       "  model  accuracy  precision    recall  f1-score   auc roc\n",
       "0   knn  0.494382   0.496991  0.503968   0.49542  0.625899"
      ]
     },
     "execution_count": 13,
     "metadata": {},
     "output_type": "execute_result"
    }
   ],
   "source": [
    "knn_pred = trace_classification.k_nn_classifier(X_train, y_train, X_test, y_test, n_neighbors=3, cross_val=5)\n",
    "knn_results, knn_confusion_matrix = trace_classification.test_metrics('knn', y_test, knn_pred)\n",
    "knn_results"
   ]
  },
  {
   "cell_type": "markdown",
   "metadata": {},
   "source": [
    "2. Now we evaluate **RandomForest Classifier**."
   ]
  },
  {
   "cell_type": "code",
   "execution_count": 14,
   "metadata": {},
   "outputs": [
    {
     "name": "stdout",
     "output_type": "stream",
     "text": [
      "AUC on validation set 1/5: 0.6816526610644257\n",
      "AUC on validation set 2/5: 0.631424927694655\n",
      "AUC on validation set 3/5: 0.746689247047291\n",
      "AUC on validation set 4/5: 0.6495491552382097\n",
      "AUC on validation set 5/5: 0.6908501780302814\n",
      "Mean AUC 0.691 (Std +/- 0.000)\n"
     ]
    },
    {
     "data": {
      "text/html": [
       "<div>\n",
       "<style scoped>\n",
       "    .dataframe tbody tr th:only-of-type {\n",
       "        vertical-align: middle;\n",
       "    }\n",
       "\n",
       "    .dataframe tbody tr th {\n",
       "        vertical-align: top;\n",
       "    }\n",
       "\n",
       "    .dataframe thead th {\n",
       "        text-align: right;\n",
       "    }\n",
       "</style>\n",
       "<table border=\"1\" class=\"dataframe\">\n",
       "  <thead>\n",
       "    <tr style=\"text-align: right;\">\n",
       "      <th></th>\n",
       "      <th>model</th>\n",
       "      <th>accuracy</th>\n",
       "      <th>precision</th>\n",
       "      <th>recall</th>\n",
       "      <th>f1-score</th>\n",
       "      <th>auc roc</th>\n",
       "    </tr>\n",
       "  </thead>\n",
       "  <tbody>\n",
       "    <tr>\n",
       "      <th>0</th>\n",
       "      <td>random forest</td>\n",
       "      <td>0.516854</td>\n",
       "      <td>0.531391</td>\n",
       "      <td>0.50119</td>\n",
       "      <td>0.507488</td>\n",
       "      <td>0.627813</td>\n",
       "    </tr>\n",
       "  </tbody>\n",
       "</table>\n",
       "</div>"
      ],
      "text/plain": [
       "           model  accuracy  precision   recall  f1-score   auc roc\n",
       "0  random forest  0.516854   0.531391  0.50119  0.507488  0.627813"
      ]
     },
     "execution_count": 14,
     "metadata": {},
     "output_type": "execute_result"
    }
   ],
   "source": [
    "rfc_pred = trace_classification.random_forest_classifier(X_train, y_train, X_test, y_test, n_estimators=100, cross_val=5)\n",
    "rfc_results, rfc_confusion_matrix = trace_classification.test_metrics('random forest', y_test, rfc_pred)\n",
    "rfc_results"
   ]
  },
  {
   "cell_type": "markdown",
   "metadata": {},
   "source": [
    "3. Prediction of **Support Vector Machines (SVM)**."
   ]
  },
  {
   "cell_type": "code",
   "execution_count": 15,
   "metadata": {},
   "outputs": [
    {
     "name": "stdout",
     "output_type": "stream",
     "text": [
      "AUC on validation set 1/5: 0.6572829131652661\n",
      "AUC on validation set 2/5: 0.7022449955591993\n",
      "AUC on validation set 3/5: 0.6988138529872279\n",
      "AUC on validation set 4/5: 0.6503555837810314\n",
      "AUC on validation set 5/5: 0.6977476070327207\n",
      "Mean AUC 0.681 (Std +/- 0.023)\n"
     ]
    },
    {
     "data": {
      "text/html": [
       "<div>\n",
       "<style scoped>\n",
       "    .dataframe tbody tr th:only-of-type {\n",
       "        vertical-align: middle;\n",
       "    }\n",
       "\n",
       "    .dataframe tbody tr th {\n",
       "        vertical-align: top;\n",
       "    }\n",
       "\n",
       "    .dataframe thead th {\n",
       "        text-align: right;\n",
       "    }\n",
       "</style>\n",
       "<table border=\"1\" class=\"dataframe\">\n",
       "  <thead>\n",
       "    <tr style=\"text-align: right;\">\n",
       "      <th></th>\n",
       "      <th>model</th>\n",
       "      <th>accuracy</th>\n",
       "      <th>precision</th>\n",
       "      <th>recall</th>\n",
       "      <th>f1-score</th>\n",
       "      <th>auc roc</th>\n",
       "    </tr>\n",
       "  </thead>\n",
       "  <tbody>\n",
       "    <tr>\n",
       "      <th>0</th>\n",
       "      <td>svm</td>\n",
       "      <td>0.595506</td>\n",
       "      <td>0.608135</td>\n",
       "      <td>0.576984</td>\n",
       "      <td>0.580939</td>\n",
       "      <td>0.683654</td>\n",
       "    </tr>\n",
       "  </tbody>\n",
       "</table>\n",
       "</div>"
      ],
      "text/plain": [
       "  model  accuracy  precision    recall  f1-score   auc roc\n",
       "0   svm  0.595506   0.608135  0.576984  0.580939  0.683654"
      ]
     },
     "execution_count": 15,
     "metadata": {},
     "output_type": "execute_result"
    }
   ],
   "source": [
    "svm_pred = trace_classification.svm_classifier(X_train, y_train, X_test, y_test, kernel='linear', cross_val=5)\n",
    "svm_results, svm_confusion_matrix = trace_classification.test_metrics('svm', y_test, svm_pred)\n",
    "svm_results"
   ]
  },
  {
   "cell_type": "markdown",
   "metadata": {},
   "source": [
    "4. Finally we implement **Deep Neural Networks**."
   ]
  },
  {
   "cell_type": "code",
   "execution_count": 22,
   "metadata": {},
   "outputs": [
    {
     "name": "stdout",
     "output_type": "stream",
     "text": [
      "Mean Accuracy: 53.78% (6.55%)\n"
     ]
    },
    {
     "data": {
      "text/html": [
       "<div>\n",
       "<style scoped>\n",
       "    .dataframe tbody tr th:only-of-type {\n",
       "        vertical-align: middle;\n",
       "    }\n",
       "\n",
       "    .dataframe tbody tr th {\n",
       "        vertical-align: top;\n",
       "    }\n",
       "\n",
       "    .dataframe thead th {\n",
       "        text-align: right;\n",
       "    }\n",
       "</style>\n",
       "<table border=\"1\" class=\"dataframe\">\n",
       "  <thead>\n",
       "    <tr style=\"text-align: right;\">\n",
       "      <th></th>\n",
       "      <th>model</th>\n",
       "      <th>accuracy</th>\n",
       "      <th>precision</th>\n",
       "      <th>recall</th>\n",
       "      <th>f1-score</th>\n",
       "      <th>auc roc</th>\n",
       "    </tr>\n",
       "  </thead>\n",
       "  <tbody>\n",
       "    <tr>\n",
       "      <th>0</th>\n",
       "      <td>neural network</td>\n",
       "      <td>0.629213</td>\n",
       "      <td>0.677438</td>\n",
       "      <td>0.603968</td>\n",
       "      <td>0.610746</td>\n",
       "      <td>0.704054</td>\n",
       "    </tr>\n",
       "  </tbody>\n",
       "</table>\n",
       "</div>"
      ],
      "text/plain": [
       "            model  accuracy  precision    recall  f1-score   auc roc\n",
       "0  neural network  0.629213   0.677438  0.603968  0.610746  0.704054"
      ]
     },
     "execution_count": 22,
     "metadata": {},
     "output_type": "execute_result"
    },
    {
     "data": {
      "image/png": "[encoded data removed]",
      "text/plain": [
       "<Figure size 720x432 with 1 Axes>"
      ]
     },
     "metadata": {
      "needs_background": "light"
     },
     "output_type": "display_data"
    }
   ],
   "source": [
    "nn_pred = trace_classification.neural_net_classifier(X_train, y_train, X_test, y_test, '3classes', batch_size=32)\n",
    "nn_results, nn_confusion_matrix = trace_classification.test_metrics('neural network', y_test, nn_pred)\n",
    "nn_results"
   ]
  },
  {
   "cell_type": "markdown",
   "metadata": {},
   "source": [
    "### Unsupervised Algorithms\n",
    "\n",
    "Now we can try to model the problem as an unsupervised learning problem. First, we apply a PCA transformation to collapse the set of datapoints to a 3D space."
   ]
  },
  {
   "cell_type": "code",
   "execution_count": 17,
   "metadata": {},
   "outputs": [
    {
     "data": {
      "text/html": [
       "<div>\n",
       "<style scoped>\n",
       "    .dataframe tbody tr th:only-of-type {\n",
       "        vertical-align: middle;\n",
       "    }\n",
       "\n",
       "    .dataframe tbody tr th {\n",
       "        vertical-align: top;\n",
       "    }\n",
       "\n",
       "    .dataframe thead th {\n",
       "        text-align: right;\n",
       "    }\n",
       "</style>\n",
       "<table border=\"1\" class=\"dataframe\">\n",
       "  <thead>\n",
       "    <tr style=\"text-align: right;\">\n",
       "      <th></th>\n",
       "      <th>0</th>\n",
       "      <th>1</th>\n",
       "      <th>2</th>\n",
       "      <th>3</th>\n",
       "      <th>4</th>\n",
       "      <th>5</th>\n",
       "      <th>6</th>\n",
       "    </tr>\n",
       "  </thead>\n",
       "  <tbody>\n",
       "    <tr>\n",
       "      <th>0</th>\n",
       "      <td>-0.668204</td>\n",
       "      <td>0.110733</td>\n",
       "      <td>0.018614</td>\n",
       "      <td>0.036408</td>\n",
       "      <td>-0.024078</td>\n",
       "      <td>-0.000024</td>\n",
       "      <td>-0.019151</td>\n",
       "    </tr>\n",
       "    <tr>\n",
       "      <th>1</th>\n",
       "      <td>0.056426</td>\n",
       "      <td>0.133151</td>\n",
       "      <td>0.237047</td>\n",
       "      <td>0.124811</td>\n",
       "      <td>-0.025002</td>\n",
       "      <td>-0.002915</td>\n",
       "      <td>0.024711</td>\n",
       "    </tr>\n",
       "    <tr>\n",
       "      <th>2</th>\n",
       "      <td>-0.153224</td>\n",
       "      <td>0.137962</td>\n",
       "      <td>0.179721</td>\n",
       "      <td>-0.095253</td>\n",
       "      <td>0.109158</td>\n",
       "      <td>0.038978</td>\n",
       "      <td>0.011213</td>\n",
       "    </tr>\n",
       "    <tr>\n",
       "      <th>3</th>\n",
       "      <td>-0.485907</td>\n",
       "      <td>-0.144048</td>\n",
       "      <td>-0.093764</td>\n",
       "      <td>0.008906</td>\n",
       "      <td>-0.023902</td>\n",
       "      <td>0.024285</td>\n",
       "      <td>0.001100</td>\n",
       "    </tr>\n",
       "    <tr>\n",
       "      <th>4</th>\n",
       "      <td>0.636964</td>\n",
       "      <td>-0.158631</td>\n",
       "      <td>0.174407</td>\n",
       "      <td>-0.069568</td>\n",
       "      <td>0.073849</td>\n",
       "      <td>0.016118</td>\n",
       "      <td>0.001282</td>\n",
       "    </tr>\n",
       "  </tbody>\n",
       "</table>\n",
       "</div>"
      ],
      "text/plain": [
       "          0         1         2         3         4         5         6\n",
       "0 -0.668204  0.110733  0.018614  0.036408 -0.024078 -0.000024 -0.019151\n",
       "1  0.056426  0.133151  0.237047  0.124811 -0.025002 -0.002915  0.024711\n",
       "2 -0.153224  0.137962  0.179721 -0.095253  0.109158  0.038978  0.011213\n",
       "3 -0.485907 -0.144048 -0.093764  0.008906 -0.023902  0.024285  0.001100\n",
       "4  0.636964 -0.158631  0.174407 -0.069568  0.073849  0.016118  0.001282"
      ]
     },
     "execution_count": 17,
     "metadata": {},
     "output_type": "execute_result"
    }
   ],
   "source": [
    "X_pca = trace_classification.pca_transformation(X, n_components=len(X.columns)-2)\n",
    "X_pca.head()"
   ]
  },
  {
   "cell_type": "markdown",
   "metadata": {},
   "source": [
    "5. Let us try modeling the problem with **K-Means**."
   ]
  },
  {
   "cell_type": "code",
   "execution_count": 23,
   "metadata": {},
   "outputs": [
    {
     "data": {
      "text/html": [
       "<div>\n",
       "<style scoped>\n",
       "    .dataframe tbody tr th:only-of-type {\n",
       "        vertical-align: middle;\n",
       "    }\n",
       "\n",
       "    .dataframe tbody tr th {\n",
       "        vertical-align: top;\n",
       "    }\n",
       "\n",
       "    .dataframe thead th {\n",
       "        text-align: right;\n",
       "    }\n",
       "</style>\n",
       "<table border=\"1\" class=\"dataframe\">\n",
       "  <thead>\n",
       "    <tr style=\"text-align: right;\">\n",
       "      <th></th>\n",
       "      <th>model</th>\n",
       "      <th>accuracy</th>\n",
       "      <th>precision</th>\n",
       "      <th>recall</th>\n",
       "      <th>f1-score</th>\n",
       "      <th>auc roc</th>\n",
       "    </tr>\n",
       "  </thead>\n",
       "  <tbody>\n",
       "    <tr>\n",
       "      <th>0</th>\n",
       "      <td>kmeans</td>\n",
       "      <td>0.382353</td>\n",
       "      <td>0.399226</td>\n",
       "      <td>0.380536</td>\n",
       "      <td>0.383927</td>\n",
       "      <td>0.532151</td>\n",
       "    </tr>\n",
       "  </tbody>\n",
       "</table>\n",
       "</div>"
      ],
      "text/plain": [
       "    model  accuracy  precision    recall  f1-score   auc roc\n",
       "0  kmeans  0.382353   0.399226  0.380536  0.383927  0.532151"
      ]
     },
     "execution_count": 23,
     "metadata": {},
     "output_type": "execute_result"
    },
    {
     "data": {
      "image/png": "[encoded data removed]",
      "text/plain": [
       "<Figure size 720x432 with 1 Axes>"
      ]
     },
     "metadata": {
      "needs_background": "light"
     },
     "output_type": "display_data"
    }
   ],
   "source": [
    "kmeans_pred, centroids = trace_classification.kmeans_classifier(X_pca, n_clusters=3)\n",
    "data_visualization.plot_3d_points(X_pca[0], X_pca[1], X_pca[3], y, plot_name='KMeans_K3', centroids=centroids)\n",
    "kmeans_results, kmeans_confusion_matrix = trace_classification.test_metrics('kmeans', y, kmeans_pred)\n",
    "kmeans_results"
   ]
  },
  {
   "cell_type": "markdown",
   "metadata": {},
   "source": [
    "## Conclusions\n",
    "\n",
    "Let us compare the results obtained from the experiment."
   ]
  },
  {
   "cell_type": "code",
   "execution_count": 24,
   "metadata": {},
   "outputs": [
    {
     "data": {
      "text/html": [
       "<div>\n",
       "<style scoped>\n",
       "    .dataframe tbody tr th:only-of-type {\n",
       "        vertical-align: middle;\n",
       "    }\n",
       "\n",
       "    .dataframe tbody tr th {\n",
       "        vertical-align: top;\n",
       "    }\n",
       "\n",
       "    .dataframe thead th {\n",
       "        text-align: right;\n",
       "    }\n",
       "</style>\n",
       "<table border=\"1\" class=\"dataframe\">\n",
       "  <thead>\n",
       "    <tr style=\"text-align: right;\">\n",
       "      <th></th>\n",
       "      <th>model</th>\n",
       "      <th>n_classes</th>\n",
       "      <th>accuracy</th>\n",
       "      <th>precision</th>\n",
       "      <th>recall</th>\n",
       "      <th>f1-score</th>\n",
       "      <th>auc roc</th>\n",
       "      <th>features</th>\n",
       "    </tr>\n",
       "  </thead>\n",
       "  <tbody>\n",
       "    <tr>\n",
       "      <th>0</th>\n",
       "      <td>knn</td>\n",
       "      <td>3</td>\n",
       "      <td>0.494382</td>\n",
       "      <td>0.496991</td>\n",
       "      <td>0.503968</td>\n",
       "      <td>0.495420</td>\n",
       "      <td>0.625899</td>\n",
       "      <td>hop, loss, max, mean, min, outliers, pckt_coun...</td>\n",
       "    </tr>\n",
       "    <tr>\n",
       "      <th>1</th>\n",
       "      <td>random forest</td>\n",
       "      <td>3</td>\n",
       "      <td>0.516854</td>\n",
       "      <td>0.531391</td>\n",
       "      <td>0.501190</td>\n",
       "      <td>0.507488</td>\n",
       "      <td>0.627813</td>\n",
       "      <td>hop, loss, max, mean, min, outliers, pckt_coun...</td>\n",
       "    </tr>\n",
       "    <tr>\n",
       "      <th>2</th>\n",
       "      <td>svm</td>\n",
       "      <td>3</td>\n",
       "      <td>0.595506</td>\n",
       "      <td>0.608135</td>\n",
       "      <td>0.576984</td>\n",
       "      <td>0.580939</td>\n",
       "      <td>0.683654</td>\n",
       "      <td>hop, loss, max, mean, min, outliers, pckt_coun...</td>\n",
       "    </tr>\n",
       "    <tr>\n",
       "      <th>3</th>\n",
       "      <td>neural network</td>\n",
       "      <td>3</td>\n",
       "      <td>0.629213</td>\n",
       "      <td>0.677438</td>\n",
       "      <td>0.603968</td>\n",
       "      <td>0.610746</td>\n",
       "      <td>0.704054</td>\n",
       "      <td>hop, loss, max, mean, min, outliers, pckt_coun...</td>\n",
       "    </tr>\n",
       "    <tr>\n",
       "      <th>4</th>\n",
       "      <td>kmeans</td>\n",
       "      <td>3</td>\n",
       "      <td>0.382353</td>\n",
       "      <td>0.399226</td>\n",
       "      <td>0.380536</td>\n",
       "      <td>0.383927</td>\n",
       "      <td>0.532151</td>\n",
       "      <td>hop, loss, max, mean, min, outliers, pckt_coun...</td>\n",
       "    </tr>\n",
       "  </tbody>\n",
       "</table>\n",
       "</div>"
      ],
      "text/plain": [
       "            model n_classes  accuracy  precision    recall  f1-score  \\\n",
       "0             knn         3  0.494382   0.496991  0.503968  0.495420   \n",
       "1   random forest         3  0.516854   0.531391  0.501190  0.507488   \n",
       "2             svm         3  0.595506   0.608135  0.576984  0.580939   \n",
       "3  neural network         3  0.629213   0.677438  0.603968  0.610746   \n",
       "4          kmeans         3  0.382353   0.399226  0.380536  0.383927   \n",
       "\n",
       "    auc roc                                           features  \n",
       "0  0.625899  hop, loss, max, mean, min, outliers, pckt_coun...  \n",
       "1  0.627813  hop, loss, max, mean, min, outliers, pckt_coun...  \n",
       "2  0.683654  hop, loss, max, mean, min, outliers, pckt_coun...  \n",
       "3  0.704054  hop, loss, max, mean, min, outliers, pckt_coun...  \n",
       "4  0.532151  hop, loss, max, mean, min, outliers, pckt_coun...  "
      ]
     },
     "execution_count": 24,
     "metadata": {},
     "output_type": "execute_result"
    }
   ],
   "source": [
    "trace_classification.write_results([knn_results, rfc_results, svm_results, nn_results, kmeans_results], list(X.columns.values), 3)"
   ]
  },
  {
   "cell_type": "markdown",
   "metadata": {},
   "source": [
    "In this case, the **neural network** still performs good, folloed by **svm**."
   ]
  },
  {
   "cell_type": "markdown",
   "metadata": {},
   "source": [
    "# References\n",
    "\n",
    "1. *Deep Learning for Detection of Routing Attacks in the Internet of Things*, International Journal of Computational Intelligence Systems (2018), by Furkan Yusuf Yavuz, Devrim Ünal and Ensar Gul\n",
    "2. *Machine Learning in IoT Security:Current Solutions and Future Challenges*, arXiv:1904.05735v1 (Mar 2019), by Fatima Hussain, Rasheed Hussain, Syed Ali Hassan, and Ekram Hossain.\n",
    "3. *Almost Everything You Need to Know About Time Series*, https://towardsdatascience.com/almost-everything-you-need-to-know-about-time-series-860241bdc578, by Marco Peixeiro\n",
    "4. *How to Check if Time Series Data is Stationary with Python*, https://machinelearningmastery.com/time-series-data-stationary-python/, by Jason Brownlee\n",
    "5. *K-Means Clustering in Python*, https://mubaris.com/posts/kmeans-clustering/, by Mubaris NK\n",
    "6. *AUC ROC Curve Scoring Function for Multi-class Classification*, https://medium.com/@plog397/auc-roc-curve-scoring-function-for-multi-class-classification-9822871a6659, by Eric Plog"
   ]
  }
 ],
 "metadata": {
  "kernelspec": {
   "display_name": "Python 3",
   "language": "python",
   "name": "python3"
  },
  "language_info": {
   "codemirror_mode": {
    "name": "ipython",
    "version": 3
   },
   "file_extension": ".py",
   "mimetype": "text/x-python",
   "name": "python",
   "nbconvert_exporter": "python",
   "pygments_lexer": "ipython3",
   "version": "3.7.1"
  }
 },
 "nbformat": 4,
 "nbformat_minor": 2
}
